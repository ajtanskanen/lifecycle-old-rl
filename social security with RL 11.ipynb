{
 "cells": [
  {
   "cell_type": "markdown",
   "metadata": {},
   "source": [
    "# Reinforced learning, työllistyminen ja Suomen sosiaaliturva"
   ]
  },
  {
   "cell_type": "markdown",
   "metadata": {},
   "source": [
    "Tässä tehdään laskelmat artikkelia varten. Käytössä on gym-ympäristö _unemployment-v1_ , johon on toteutettu yksityiskohtaisempi työttömyysturvamalli."
   ]
  },
  {
   "cell_type": "code",
   "execution_count": 1,
   "metadata": {},
   "outputs": [],
   "source": [
    "# for Colab, install fin_benefits and unemployment-gym from Github\n",
    "#!pip install -q git+https://github.com/ajtanskanen/benefits.git  \n",
    "#!pip install -q git+https://github.com/ajtanskanen/econogym.git\n",
    "#!pip install -q git+https://github.com/ajtanskanen/lifecycle-rl.git\n",
    "\n",
    "# and then restart kernel\n",
    "  \n",
    "  # For a specific version:\n",
    "#!pip install tensorflow==1.15\n",
    "#!pip install stable-baselines==2.8\n",
    "  \n",
    "# restart kernel after running pip's"
   ]
  },
  {
   "cell_type": "markdown",
   "metadata": {},
   "source": [
    "Then load all modules."
   ]
  },
  {
   "cell_type": "code",
   "execution_count": null,
   "metadata": {
    "scrolled": false
   },
   "outputs": [
    {
     "name": "stdout",
     "output_type": "stream",
     "text": [
      "WARNING:tensorflow:\n",
      "The TensorFlow contrib module will not be included in TensorFlow 2.0.\n",
      "For more information, please see:\n",
      "  * https://github.com/tensorflow/community/blob/master/rfcs/20180907-contrib-sunset.md\n",
      "  * https://github.com/tensorflow/addons\n",
      "  * https://github.com/tensorflow/io (for I/O related ops)\n",
      "If you depend on functionality not listed there, please file an issue.\n",
      "\n",
      "Populating the interactive namespace from numpy and matplotlib\n"
     ]
    }
   ],
   "source": [
    "import numpy as np\n",
    "import matplotlib.pyplot as plt\n",
    "from lifecycle_rl import Lifecycle\n",
    "\n",
    "%matplotlib inline\n",
    "%pylab inline\n",
    "\n",
    "# varoitukset piiloon (Stable baseline ei ole vielä Tensorflow 2.0-yhteensopiva, ja Tensorflow 1.5 valittaa paljon)\n",
    "import warnings\n",
    "warnings.filterwarnings('ignore')\n",
    "\n",
    "pop_size=10_000\n",
    "size1=20_000_000\n",
    "size2=20_000_000\n",
    "batch1=1\n",
    "batch2=10000\n",
    "deterministic=False # use deterministic prediction (True) or probabilitic prediction (False)\n",
    "mortality=False # include mortality in computations\n",
    "randomness=True # include randomness in the state transitions (e.g., maternity leave)"
   ]
  },
  {
   "cell_type": "markdown",
   "metadata": {
    "scrolled": false
   },
   "source": [
    "# Nykymalli \n",
    "\n",
    "Lasketaan työllisyysasteet nykymallissa."
   ]
  },
  {
   "cell_type": "code",
   "execution_count": null,
   "metadata": {
    "scrolled": true
   },
   "outputs": [
    {
     "name": "stdout",
     "output_type": "stream",
     "text": [
      "No mortality included\n",
      "Parameters of lifecycle:\n",
      "timestep 0.25\n",
      "gamma 0.9793703613355593 (0.9200000000000003 per anno)\n",
      "min_age 20\n",
      "max_age 70\n",
      "min_retirementage 65\n",
      "max_retirementage 70\n",
      "ansiopvraha_kesto300 None\n",
      "ansiopvraha_kesto400 None\n",
      "ansiopvraha_toe None\n",
      "perustulo False\n",
      "karenssi_kesto 0.25\n",
      "mortality False\n",
      "randomness True\n",
      "deterministic False\n",
      "\n",
      "include_putki None\n",
      "step 0.25\n",
      "\n",
      "train...\n",
      "phase 1\n",
      "WARNING:tensorflow:From /Library/Frameworks/Python.framework/Versions/3.7/lib/python3.7/site-packages/stable_baselines/common/tf_util.py:57: The name tf.ConfigProto is deprecated. Please use tf.compat.v1.ConfigProto instead.\n",
      "\n",
      "WARNING:tensorflow:From /Library/Frameworks/Python.framework/Versions/3.7/lib/python3.7/site-packages/stable_baselines/common/tf_util.py:66: The name tf.Session is deprecated. Please use tf.compat.v1.Session instead.\n",
      "\n",
      "WARNING:tensorflow:From /Library/Frameworks/Python.framework/Versions/3.7/lib/python3.7/site-packages/stable_baselines/common/policies.py:115: The name tf.variable_scope is deprecated. Please use tf.compat.v1.variable_scope instead.\n",
      "\n",
      "WARNING:tensorflow:From /Library/Frameworks/Python.framework/Versions/3.7/lib/python3.7/site-packages/stable_baselines/common/input.py:25: The name tf.placeholder is deprecated. Please use tf.compat.v1.placeholder instead.\n",
      "\n",
      "WARNING:tensorflow:From /Library/Frameworks/Python.framework/Versions/3.7/lib/python3.7/site-packages/stable_baselines/common/policies.py:562: flatten (from tensorflow.python.layers.core) is deprecated and will be removed in a future version.\n",
      "Instructions for updating:\n",
      "Use keras.layers.flatten instead.\n",
      "WARNING:tensorflow:From /Library/Frameworks/Python.framework/Versions/3.7/lib/python3.7/site-packages/tensorflow_core/python/layers/core.py:332: Layer.apply (from tensorflow.python.keras.engine.base_layer) is deprecated and will be removed in a future version.\n",
      "Instructions for updating:\n",
      "Please use `layer.__call__` method instead.\n",
      "WARNING:tensorflow:From /Library/Frameworks/Python.framework/Versions/3.7/lib/python3.7/site-packages/stable_baselines/a2c/utils.py:156: The name tf.get_variable is deprecated. Please use tf.compat.v1.get_variable instead.\n",
      "\n",
      "WARNING:tensorflow:From /Library/Frameworks/Python.framework/Versions/3.7/lib/python3.7/site-packages/stable_baselines/common/distributions.py:323: The name tf.random_uniform is deprecated. Please use tf.random.uniform instead.\n",
      "\n",
      "WARNING:tensorflow:From /Library/Frameworks/Python.framework/Versions/3.7/lib/python3.7/site-packages/stable_baselines/common/distributions.py:324: The name tf.log is deprecated. Please use tf.math.log instead.\n",
      "\n",
      "WARNING:tensorflow:From /Library/Frameworks/Python.framework/Versions/3.7/lib/python3.7/site-packages/stable_baselines/common/tf_util.py:312: The name tf.get_collection is deprecated. Please use tf.compat.v1.get_collection instead.\n",
      "\n",
      "WARNING:tensorflow:From /Library/Frameworks/Python.framework/Versions/3.7/lib/python3.7/site-packages/stable_baselines/common/tf_util.py:312: The name tf.GraphKeys is deprecated. Please use tf.compat.v1.GraphKeys instead.\n",
      "\n",
      "WARNING:tensorflow:From /Library/Frameworks/Python.framework/Versions/3.7/lib/python3.7/site-packages/stable_baselines/acktr/acktr.py:158: The name tf.random_normal is deprecated. Please use tf.random.normal instead.\n",
      "\n",
      "WARNING:tensorflow:From /Library/Frameworks/Python.framework/Versions/3.7/lib/python3.7/site-packages/stable_baselines/acktr/acktr.py:163: The name tf.summary.scalar is deprecated. Please use tf.compat.v1.summary.scalar instead.\n",
      "\n",
      "WARNING:tensorflow:From /Library/Frameworks/Python.framework/Versions/3.7/lib/python3.7/site-packages/tensorflow_core/python/ops/math_grad.py:1375: where (from tensorflow.python.ops.array_ops) is deprecated and will be removed in a future version.\n",
      "Instructions for updating:\n",
      "Use tf.where in 2.0, which has the same broadcast rule as np.where\n",
      "WARNING:tensorflow:From /Library/Frameworks/Python.framework/Versions/3.7/lib/python3.7/site-packages/stable_baselines/acktr/kfac.py:97: The name tf.get_default_graph is deprecated. Please use tf.compat.v1.get_default_graph instead.\n",
      "\n",
      "WARNING:tensorflow:From /Library/Frameworks/Python.framework/Versions/3.7/lib/python3.7/site-packages/stable_baselines/acktr/kfac.py:293: The name tf.diag is deprecated. Please use tf.linalg.tensor_diag instead.\n",
      "\n",
      "WARNING:tensorflow:From /Library/Frameworks/Python.framework/Versions/3.7/lib/python3.7/site-packages/stable_baselines/acktr/kfac.py:541: The name tf.assign is deprecated. Please use tf.compat.v1.assign instead.\n",
      "\n",
      "WARNING:tensorflow:From /Library/Frameworks/Python.framework/Versions/3.7/lib/python3.7/site-packages/stable_baselines/acktr/kfac.py:543: The name tf.assign_add is deprecated. Please use tf.compat.v1.assign_add instead.\n",
      "\n",
      "WARNING:tensorflow:From /Library/Frameworks/Python.framework/Versions/3.7/lib/python3.7/site-packages/stable_baselines/acktr/acktr.py:203: The name tf.global_variables_initializer is deprecated. Please use tf.compat.v1.global_variables_initializer instead.\n",
      "\n",
      "WARNING:tensorflow:From /Library/Frameworks/Python.framework/Versions/3.7/lib/python3.7/site-packages/stable_baselines/acktr/acktr.py:205: The name tf.summary.merge_all is deprecated. Please use tf.compat.v1.summary.merge_all instead.\n",
      "\n",
      "training...\n",
      "WARNING:tensorflow:From /Library/Frameworks/Python.framework/Versions/3.7/lib/python3.7/site-packages/stable_baselines/acktr/acktr.py:287: The name tf.global_variables is deprecated. Please use tf.compat.v1.global_variables instead.\n",
      "\n",
      "WARNING:tensorflow:From /Library/Frameworks/Python.framework/Versions/3.7/lib/python3.7/site-packages/stable_baselines/acktr/acktr.py:288: The name tf.is_variable_initialized is deprecated. Please use tf.compat.v1.is_variable_initialized instead.\n",
      "\n",
      "WARNING:tensorflow:From /Library/Frameworks/Python.framework/Versions/3.7/lib/python3.7/site-packages/stable_baselines/acktr/kfac.py:968: The name tf.train.MomentumOptimizer is deprecated. Please use tf.compat.v1.train.MomentumOptimizer instead.\n",
      "\n",
      "WARNING:tensorflow:From /Library/Frameworks/Python.framework/Versions/3.7/lib/python3.7/site-packages/stable_baselines/acktr/kfac.py:909: The name tf.mod is deprecated. Please use tf.math.mod instead.\n",
      "\n",
      "WARNING:tensorflow:From /Library/Frameworks/Python.framework/Versions/3.7/lib/python3.7/site-packages/stable_baselines/acktr/kfac.py:616: The name tf.self_adjoint_eig is deprecated. Please use tf.linalg.eigh instead.\n",
      "\n",
      "WARNING:tensorflow:From /Library/Frameworks/Python.framework/Versions/3.7/lib/python3.7/site-packages/stable_baselines/acktr/acktr.py:300: The name tf.variables_initializer is deprecated. Please use tf.compat.v1.variables_initializer instead.\n",
      "\n",
      "---------------------------------\n",
      "| explained_variance | 0.874    |\n",
      "| fps                | 1778     |\n",
      "| nupdates           | 1        |\n",
      "| policy_entropy     | 0.498    |\n",
      "| policy_loss        | -0.405   |\n",
      "| total_timesteps    | 0        |\n",
      "| value_loss         | 13.6     |\n",
      "---------------------------------\n",
      "---------------------------------\n",
      "| explained_variance | 0.793    |\n",
      "| fps                | 2290     |\n",
      "| nupdates           | 1000     |\n",
      "| policy_entropy     | 0.349    |\n",
      "| policy_loss        | 0.0669   |\n",
      "| total_timesteps    | 2458539  |\n",
      "| value_loss         | 9.78     |\n",
      "---------------------------------\n",
      "---------------------------------\n",
      "| explained_variance | 0.831    |\n",
      "| fps                | 2296     |\n",
      "| nupdates           | 2000     |\n",
      "| policy_entropy     | 0.496    |\n",
      "| policy_loss        | 0.0157   |\n",
      "| total_timesteps    | 4919539  |\n",
      "| value_loss         | 12.5     |\n",
      "---------------------------------\n",
      "---------------------------------\n",
      "| explained_variance | 0.88     |\n",
      "| fps                | 2300     |\n",
      "| nupdates           | 3000     |\n",
      "| policy_entropy     | 0.361    |\n",
      "| policy_loss        | -0.00991 |\n",
      "| total_timesteps    | 7380539  |\n",
      "| value_loss         | 11.3     |\n",
      "---------------------------------\n",
      "---------------------------------\n",
      "| explained_variance | 0.848    |\n",
      "| fps                | 2292     |\n",
      "| nupdates           | 4000     |\n",
      "| policy_entropy     | 0.515    |\n",
      "| policy_loss        | -0.4     |\n",
      "| total_timesteps    | 9841539  |\n",
      "| value_loss         | 18       |\n",
      "---------------------------------\n",
      "---------------------------------\n",
      "| explained_variance | 0.836    |\n",
      "| fps                | 2287     |\n",
      "| nupdates           | 5000     |\n",
      "| policy_entropy     | 0.364    |\n",
      "| policy_loss        | 0.0491   |\n",
      "| total_timesteps    | 12302539 |\n",
      "| value_loss         | 14.1     |\n",
      "---------------------------------\n"
     ]
    },
    {
     "name": "stdout",
     "output_type": "stream",
     "text": [
      "---------------------------------\n",
      "| explained_variance | 0.86     |\n",
      "| fps                | 2288     |\n",
      "| nupdates           | 6000     |\n",
      "| policy_entropy     | 0.417    |\n",
      "| policy_loss        | 0.202    |\n",
      "| total_timesteps    | 14763539 |\n",
      "| value_loss         | 4.88     |\n",
      "---------------------------------\n",
      "---------------------------------\n",
      "| explained_variance | 0.764    |\n",
      "| fps                | 2265     |\n",
      "| nupdates           | 7000     |\n",
      "| policy_entropy     | 0.417    |\n",
      "| policy_loss        | -0.257   |\n",
      "| total_timesteps    | 17224539 |\n",
      "| value_loss         | 20.3     |\n",
      "---------------------------------\n",
      "---------------------------------\n",
      "| explained_variance | 0.721    |\n",
      "| fps                | 2247     |\n",
      "| nupdates           | 8000     |\n",
      "| policy_entropy     | 0.343    |\n",
      "| policy_loss        | 0.124    |\n",
      "| total_timesteps    | 19685539 |\n",
      "| value_loss         | 13.5     |\n",
      "---------------------------------\n",
      "done\n",
      "phase 2\n",
      "init vecmonitor:  tmp/monitor.csv\n",
      "training...\n",
      "----------------------------------\n",
      "| ep_len_mean        | 201       |\n",
      "| ep_reward_mean     | 221.87154 |\n",
      "| explained_variance | 0.851     |\n",
      "| fps                | 2452      |\n",
      "| nupdates           | 1         |\n",
      "| policy_entropy     | 0.374     |\n",
      "| policy_loss        | -0.0174   |\n",
      "| total_timesteps    | 0         |\n",
      "| value_loss         | 12        |\n",
      "----------------------------------\n",
      "4102812 timesteps 20412 episodes\n",
      "New best mean reward: 220.65 - Last best reward per episode: -inf\n",
      "saved as  saved/best_perus\n",
      "----------------------------------\n",
      "| ep_len_mean        | 201       |\n",
      "| ep_reward_mean     | 220.47668 |\n",
      "| explained_variance | 0.821     |\n",
      "| fps                | 2447      |\n",
      "| nupdates           | 2         |\n",
      "| policy_entropy     | 0.375     |\n",
      "| policy_loss        | 2.01      |\n",
      "| total_timesteps    | 2051641   |\n",
      "| value_loss         | 57.6      |\n",
      "----------------------------------\n"
     ]
    }
   ],
   "source": [
    "cc1=Lifecycle(env='unemployment-v1',minimal=False,mortality=mortality,perustulo=False,\n",
    "              deterministic=deterministic,randomness=randomness)\n",
    "\n",
    "cc1.explain()\n",
    "cc1.run_results(debug=False,steps1=size1,steps2=size2,pop=pop_size,deterministic=deterministic,\n",
    "                train=True,predict=True,batch1=batch1,batch2=batch2,bestname='saved/best_perus',\n",
    "                plot=True,save='saved/perusmalli',cont=True,start_from='saved/best_perus',results='results/perus_res_')\n",
    "cc1.render(load='results/perus_res__best')"
   ]
  },
  {
   "cell_type": "markdown",
   "metadata": {},
   "source": [
    "# EK:n malli\n",
    "\n",
    "Lasketaan vertailukelpoiset työllisyysasteet EK:n ehdottamalla mallilla. Mallissa on toteuttu muutoksia ansiosidonnaiseen työttömyysturvaan, asumistukeen, toimeentulotukeen ja verotukseen."
   ]
  },
  {
   "cell_type": "code",
   "execution_count": null,
   "metadata": {
    "scrolled": true
   },
   "outputs": [],
   "source": [
    "cc2=Lifecycle(env='unemploymentEK-v1',minimal=False,mortality=mortality,perustulo=False,\n",
    "              randomness=randomness)\n",
    "cc2.run_results(debug=False,steps1=size1,steps2=size2,pop=pop_size,deterministic=deterministic,\n",
    "                train=True,predict=True,batch1=batch1,batch2=batch2,bestname='saved/best_ek',plot=True,\n",
    "                save='saved/best_ek',results='results/ek_res_',start_from='saved/best_ek',results='results/ek_res_')\n",
    "cc2.render(load='results/ek_res__best')"
   ]
  },
  {
   "cell_type": "code",
   "execution_count": null,
   "metadata": {
    "scrolled": false
   },
   "outputs": [],
   "source": [
    "#cc1.simulate(pop=10_000,deterministic=True,load='best/best_perus',rlmodel='acktr',save='perusmalli',modify_load=False)\n",
    "#cc2.simulate(pop=10_000,deterministic=True,load='best/best_ek',rlmodel='acktr',save='eknmalli',modify_load=False)\n",
    "\n",
    "cc2.compare_with(cc1)"
   ]
  },
  {
   "cell_type": "markdown",
   "metadata": {
    "scrolled": false
   },
   "source": [
    "# Verifiointi\n",
    "\n",
    "Ajetaan sama simulaatio kaksi kertaa ja tarkastetaan että tulokset ovat sama. Tässä ideana on varmistaa, että satunnaisuus ei sotke tulosten arviointia."
   ]
  },
  {
   "cell_type": "markdown",
   "metadata": {},
   "source": [
    "# Työssäoloehdon pituus 12 kk\n",
    "\n",
    "Entä jos työssäoloehto olisikin 12 kuukautta pitkä nykyisen 6 kuukauden sijaan?"
   ]
  },
  {
   "cell_type": "code",
   "execution_count": null,
   "metadata": {
    "scrolled": true
   },
   "outputs": [],
   "source": [
    "cc1_toe=Lifecycle(env='unemployment-v1',minimal=False,ansiopvraha_toe=1.0,mortality=mortality,\n",
    "                  perustulo=False,randomness=randomness)\n",
    "cc1_toe.run_results(debug=False,steps1=size1,steps2=size2,pop=pop_size,deterministic=deterministic,\n",
    "                    train=True,predict=True,batch1=batch1,batch2=batch2,bestname='best_12kk',plot=True,\n",
    "                    save='saved/malli_12',results='results/12kk_res_')\n",
    "cc1_toe.render(load='results/12kk_res__best')"
   ]
  },
  {
   "cell_type": "code",
   "execution_count": null,
   "metadata": {},
   "outputs": [],
   "source": [
    "cc1_toe.compare_with(cc1)"
   ]
  },
  {
   "cell_type": "markdown",
   "metadata": {},
   "source": [
    "# Ansiosidonnaisen päivärahan lyhennys 50 pv\n",
    "\n",
    "Tarkastellaan, miten työllisyyteen vaikuttaisi ansiosidonnaisen päivärahan lyhentäminen 50 päivällä. Tällöin alle kolmen vuoden työhistorialla ansiosidonnaisen päivärahan enimmäiskesto olisi 250 pv ja pidemmällä työhistorialla enimmäiskesto olisi 350 pv."
   ]
  },
  {
   "cell_type": "code",
   "execution_count": null,
   "metadata": {
    "scrolled": true
   },
   "outputs": [],
   "source": [
    "cc1_350=Lifecycle(env='unemployment-v1',minimal=False,ansiopvraha_kesto300=250,ansiopvraha_kesto400=350,\n",
    "                  mortality=mortality,perustulo=False,randomness=randomness)\n",
    "cc1_350.run_results(debug=False,steps1=size1,steps2=size2,pop=pop_size,deterministic=deterministic,\n",
    "                    train=True,predict=True,batch1=batch1,batch2=batch2,bestname='best_50pv',plot=True,\n",
    "                    save='saved/malli_ek',results='results/50pv_res_')\n",
    "cc1_350.render(load='results/50pv_res__best')"
   ]
  },
  {
   "cell_type": "code",
   "execution_count": null,
   "metadata": {},
   "outputs": [],
   "source": [
    "cc1_350.compare_with(cc1)"
   ]
  },
  {
   "cell_type": "markdown",
   "metadata": {},
   "source": [
    "# Työttömyysputken poisto\n",
    "\n",
    "Työttömyysputki on suosittu elinkaarimalleissa. Tarkastellaan millainen työllisyysvaikutus on putken poistamisella."
   ]
  },
  {
   "cell_type": "code",
   "execution_count": null,
   "metadata": {},
   "outputs": [],
   "source": [
    "cc1_putki=Lifecycle(env='unemployment-v1',minimal=False,include_putki=False,mortality=mortality,\n",
    "                    perustulo=False,randomness=randomness)\n",
    "cc1_putki.run_results(debug=False,steps1=size1,steps2=size2,pop=pop_size,deterministic=deterministic,\n",
    "                      train=True,predict=True,batch1=batch1,batch2=batch2,bestname='best_putki',\n",
    "                      plot=True,save='saved/malli_putki',results='results/putki_res_')\n",
    "cc1_350.render(load='results/putki_res__best')\n",
    "cc1_putki.compare_with(cc1)                    "
   ]
  },
  {
   "cell_type": "markdown",
   "metadata": {},
   "source": [
    "# Perustulo"
   ]
  },
  {
   "cell_type": "code",
   "execution_count": null,
   "metadata": {
    "scrolled": false
   },
   "outputs": [],
   "source": [
    "cc1_pt=Lifecycle(env='unemployment-v1',minimal=False,perustulo=True,mortality=mortality,\n",
    "                 randomness=randomness)\n",
    "cc1_pt.run_results(debug=False,steps1=size1,steps2=size2,pop=pop_size,deterministic=deterministic,\n",
    "                   train=True,predict=True,batch1=batch1,batch2=batch2,bestname='best_pt',plot=True,\n",
    "                   save='saved/malli_pt',results='results/perustulo_res_')\n",
    "cc1_pt.render(load='results/perustulo_res__best')"
   ]
  },
  {
   "cell_type": "code",
   "execution_count": null,
   "metadata": {},
   "outputs": [],
   "source": [
    "cc1_pt.compare_with(cc1)"
   ]
  },
  {
   "cell_type": "markdown",
   "metadata": {},
   "source": [
    "# 300 vs 400 päivän kesto ansiosidonnaisessa\n",
    "\n",
    "Mikä on alle kolmen vuoden työhistorian lyhyemmän (300 pv) ansiosidonnaisen päivärahan enimmäiskeston vaikutus työllisyyteen? Kokeillaan miten työllisyyteen vaikuttaisi sen pidentäminen 400 päivään."
   ]
  },
  {
   "cell_type": "code",
   "execution_count": null,
   "metadata": {
    "scrolled": false
   },
   "outputs": [],
   "source": [
    "cc1_400=Lifecycle(env='unemployment-v1',minimal=False,ansiopvraha_kesto300=400,mortality=mortality,\n",
    "                  perustulo=False,randomness=randomness)\n",
    "cc1_400.run_results(debug=False,steps1=size1,steps2=size2,pop=pop_size,deterministic=deterministic,\n",
    "                    train=True,predict=True,batch1=batch1,batch2=batch2,bestname='best_300pv',plot=True,\n",
    "                    save='saved/malli_300',results='results/300pv_res_')\n",
    "cc1_400.render(load='results/300pv_res__best')\n",
    "cc1_400.compare_with(cc1)"
   ]
  },
  {
   "cell_type": "code",
   "execution_count": null,
   "metadata": {},
   "outputs": [],
   "source": []
  },
  {
   "cell_type": "code",
   "execution_count": null,
   "metadata": {},
   "outputs": [],
   "source": []
  },
  {
   "cell_type": "code",
   "execution_count": null,
   "metadata": {},
   "outputs": [],
   "source": []
  },
  {
   "cell_type": "code",
   "execution_count": null,
   "metadata": {},
   "outputs": [],
   "source": []
  }
 ],
 "metadata": {
  "kernelspec": {
   "display_name": "Python 3",
   "language": "python",
   "name": "python3"
  },
  "language_info": {
   "codemirror_mode": {
    "name": "ipython",
    "version": 3
   },
   "file_extension": ".py",
   "mimetype": "text/x-python",
   "name": "python",
   "nbconvert_exporter": "python",
   "pygments_lexer": "ipython3",
   "version": "3.7.0"
  }
 },
 "nbformat": 4,
 "nbformat_minor": 2
}
