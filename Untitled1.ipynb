{
 "cells": [
  {
   "cell_type": "code",
   "execution_count": 6,
   "metadata": {},
   "outputs": [],
   "source": [
    "import numpy as np\n",
    "import math\n",
    "import gym\n",
    "from gym import spaces, logger, utils, error\n",
    "from gym.utils import seeding\n",
    "import numpy as np\n",
    "from fin_benefits import Benefits\n",
    "import gym_unemployment\n",
    "import tensorflow as tf\n",
    "import matplotlib.pyplot as plt"
   ]
  },
  {
   "cell_type": "code",
   "execution_count": 7,
   "metadata": {},
   "outputs": [
    {
     "name": "stdout",
     "output_type": "stream",
     "text": [
      "3.0581142105992862\n",
      "3.0581142105992862\n"
     ]
    }
   ],
   "source": [
    "\n",
    "\n",
    "np.random.seed(10)\n",
    "print(np.random.uniform(10))\n",
    "\n",
    "np.random.seed(10)\n",
    "print(np.random.uniform(10))"
   ]
  },
  {
   "cell_type": "code",
   "execution_count": null,
   "metadata": {},
   "outputs": [],
   "source": []
  },
  {
   "cell_type": "code",
   "execution_count": 26,
   "metadata": {},
   "outputs": [
    {
     "name": "stdout",
     "output_type": "stream",
     "text": [
      "No mortality included\n",
      "(array([ 1.        ,  0.        ,  0.        ,  0.        ,  0.        ,\n",
      "        0.        ,  0.        ,  0.        ,  0.        ,  0.        ,\n",
      "        0.        ,  0.        ,  0.        ,  0.        ,  0.        ,\n",
      "        0.        ,  1.        ,  0.        , -0.71997892,  0.47556927,\n",
      "       -0.225     , -0.2       , -2.        ,  0.        ,  0.16666667,\n",
      "        0.7       ,  1.        ,  0.        ,  0.47556927]), 0.9381978089328914, False, {})\n",
      "(array([ 1.        ,  0.        ,  0.        ,  0.        ,  0.        ,\n",
      "        0.        ,  0.        ,  0.        ,  0.        ,  0.        ,\n",
      "        0.        ,  0.        ,  0.        ,  0.        ,  0.        ,\n",
      "        0.        ,  1.        ,  0.        , -0.71997892,  0.47556927,\n",
      "       -0.225     , -0.2       , -2.        ,  0.        ,  0.16666667,\n",
      "        0.7       ,  1.        ,  0.        ,  0.47556927]), 0.9381978089328914, False, {})\n"
     ]
    }
   ],
   "source": [
    "kwargs={'step': 1.0}\n",
    "env = gym.make('unemployment-v1',kwargs=kwargs)\n",
    "env.seed(0)\n",
    "env.env_seed(0)\n",
    "\n",
    "env.reset()\n",
    "for k in range(20):\n",
    "    env.step(1)\n",
    "print(env.step(0))\n",
    "env.seed(0)\n",
    "env.env_seed(0)\n",
    "\n",
    "env.reset()\n",
    "for k in range(20):\n",
    "    env.step(1)\n",
    "print(env.step(0))"
   ]
  },
  {
   "cell_type": "code",
   "execution_count": null,
   "metadata": {},
   "outputs": [],
   "source": []
  }
 ],
 "metadata": {
  "kernelspec": {
   "display_name": "Python 3",
   "language": "python",
   "name": "python3"
  },
  "language_info": {
   "codemirror_mode": {
    "name": "ipython",
    "version": 3
   },
   "file_extension": ".py",
   "mimetype": "text/x-python",
   "name": "python",
   "nbconvert_exporter": "python",
   "pygments_lexer": "ipython3",
   "version": "3.7.0"
  }
 },
 "nbformat": 4,
 "nbformat_minor": 2
}
