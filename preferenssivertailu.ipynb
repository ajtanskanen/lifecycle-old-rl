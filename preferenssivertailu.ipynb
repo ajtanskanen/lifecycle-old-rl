{
 "cells": [
  {
   "cell_type": "markdown",
   "metadata": {},
   "source": [
    "# Vertailu etuuksien ja töiden välillä"
   ]
  },
  {
   "cell_type": "code",
   "execution_count": 26,
   "metadata": {},
   "outputs": [],
   "source": [
    "import numpy as np\n",
    "\n",
    "def vertailu(employment_state,tulo,age=50,g=0):\n",
    "    min_retirementage=63.5\n",
    "    if g<3: # miehet\n",
    "        if age<30:\n",
    "            kappa_outsider=0.20 #((30-age)*0.3)/10\n",
    "            kappa_kokoaika=0.62 #((30-age)*0.45+(age-20)*0.87)/10\n",
    "        else:\n",
    "            if age<min_retirementage:\n",
    "                kappa_outsider=0.20 +(age-30)*0.03\n",
    "            else:\n",
    "                kappa_outsider=0\n",
    "            kappa_kokoaika=0.62\n",
    "    else: # naiset\n",
    "        if age<30:\n",
    "            kappa_outsider=0.20 #((30-age)*0.3)/10\n",
    "            kappa_kokoaika=0.58 #((30-age)*0.40+(age-20)*0.80)/10\n",
    "        else:\n",
    "            if age<min_retirementage:\n",
    "                kappa_outsider=0.20 +(age-30)*0.03\n",
    "            else:\n",
    "                kappa_outsider=0\n",
    "            kappa_kokoaika=0.58\n",
    "\n",
    "    kappa_osaaika=1/2*kappa_kokoaika\n",
    "    kappa_ve=0.65\n",
    "\n",
    "    kappa_opiskelija=1.13\n",
    "\n",
    "    mu=0.15 # how much penalty is associated with work increase with age after mu_age\n",
    "    mu_age=60 \n",
    "    min_student_age=20\n",
    "    max_student_age=30\n",
    "\n",
    "    if age>mu_age:\n",
    "        kappa_kokoaika *= (1+mu*max(0,age-mu_age))\n",
    "        kappa_osaaika *= (1+mu*max(0,age-mu_age))\n",
    "\n",
    "    if employment_state == 1 or employment_state == 8:\n",
    "        v=np.exp(-kappa_kokoaika)*tulo\n",
    "    elif employment_state == 10 or employment_state == 9:\n",
    "        v=np.exp(-kappa_osaaika)*tulo\n",
    "    elif employment_state == 2:\n",
    "        v=np.exp(kappa_ve)*tulo\n",
    "    elif employment_state == 11:\n",
    "        v=np.exp(kappa_outsider)*tulo\n",
    "    elif employment_state == 12:\n",
    "        if age<max_student_age:\n",
    "            kappa=max(0.7,(max_student_age-max(min_student_age,age))/(max_student_age-min_student_age)*kappa_opiskelija)\n",
    "            v=np.exp(kappa)*tulo\n",
    "        elif age<60:\n",
    "            kappa=0.7 # max(0,(60-max(30,age))/30)*0.4\n",
    "            v=np.exp(kappa)*tulo\n",
    "        else:\n",
    "            v=tulo\n",
    "    else:\n",
    "        v=tulo\n",
    "            \n",
    "    return v\n",
    "            \n",
    "def vertaa_tilaa(tulo=1500):\n",
    "    for g in set([0,4]):\n",
    "        for emp1 in range(14):\n",
    "            nettotulo=vertailu(emp1,tulo,g=g)\n",
    "\n",
    "            print('g {} Tila {} netto {}'.format(g,emp1,nettotulo))"
   ]
  },
  {
   "cell_type": "code",
   "execution_count": 27,
   "metadata": {},
   "outputs": [
    {
     "name": "stdout",
     "output_type": "stream",
     "text": [
      "g 0 Tila 0 netto 1500\n",
      "g 0 Tila 1 netto 806.9166563920118\n",
      "g 0 Tila 2 netto 2873.3112435208445\n",
      "g 0 Tila 3 netto 1500\n",
      "g 0 Tila 4 netto 1500\n",
      "g 0 Tila 5 netto 1500\n",
      "g 0 Tila 6 netto 1500\n",
      "g 0 Tila 7 netto 1500\n",
      "g 0 Tila 8 netto 806.9166563920118\n",
      "g 0 Tila 9 netto 1100.1704343364338\n",
      "g 0 Tila 10 netto 1100.1704343364338\n",
      "g 0 Tila 11 netto 3338.3113927387017\n",
      "g 0 Tila 12 netto 3020.629061205715\n",
      "g 0 Tila 13 netto 1500\n",
      "g 4 Tila 0 netto 1500\n",
      "g 4 Tila 1 netto 839.8475498481031\n",
      "g 4 Tila 2 netto 2873.3112435208445\n",
      "g 4 Tila 3 netto 1500\n",
      "g 4 Tila 4 netto 1500\n",
      "g 4 Tila 5 netto 1500\n",
      "g 4 Tila 6 netto 1500\n",
      "g 4 Tila 7 netto 1500\n",
      "g 4 Tila 8 netto 839.8475498481031\n",
      "g 4 Tila 9 netto 1122.395351367848\n",
      "g 4 Tila 10 netto 1122.395351367848\n",
      "g 4 Tila 11 netto 3338.3113927387017\n",
      "g 4 Tila 12 netto 3020.629061205715\n",
      "g 4 Tila 13 netto 1500\n"
     ]
    }
   ],
   "source": [
    "vertaa_tilaa(1500)"
   ]
  },
  {
   "cell_type": "code",
   "execution_count": 21,
   "metadata": {},
   "outputs": [
    {
     "data": {
      "text/plain": [
       "1.2214027581601699"
      ]
     },
     "execution_count": 21,
     "metadata": {},
     "output_type": "execute_result"
    }
   ],
   "source": []
  },
  {
   "cell_type": "code",
   "execution_count": null,
   "metadata": {},
   "outputs": [],
   "source": []
  }
 ],
 "metadata": {
  "kernelspec": {
   "display_name": "Python 3",
   "language": "python",
   "name": "python3"
  },
  "language_info": {
   "codemirror_mode": {
    "name": "ipython",
    "version": 3
   },
   "file_extension": ".py",
   "mimetype": "text/x-python",
   "name": "python",
   "nbconvert_exporter": "python",
   "pygments_lexer": "ipython3",
   "version": "3.7.0"
  }
 },
 "nbformat": 4,
 "nbformat_minor": 2
}
