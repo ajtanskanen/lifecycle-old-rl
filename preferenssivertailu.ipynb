{
 "cells": [
  {
   "cell_type": "markdown",
   "metadata": {},
   "source": [
    "# Vertailu etuuksien ja töiden välillä"
   ]
  },
  {
   "cell_type": "code",
   "execution_count": 9,
   "metadata": {},
   "outputs": [],
   "source": [
    "import numpy as np\n",
    "\n",
    "def vertailu(employment_state,tulo,age=50,g=0,factor=1,pinkslip=0):\n",
    "    min_retirementage=63.5\n",
    "    if g<3: # miehet\n",
    "        kappa_kokoaika=0.635 # 0.665\n",
    "        mu_scale=0.14 # 0.30 # 0.16 # how much penalty is associated with work increase with age after mu_age\n",
    "        mu_age=60 # P.O. 60??\n",
    "        kappa_osaaika=0.55*kappa_kokoaika\n",
    "    else: # naiset\n",
    "        kappa_kokoaika=0.605 # 0.58\n",
    "        mu_scale=0.25 # 0.25 # 0.17 # how much penalty is associated with work increase with age after mu_age\n",
    "        mu_age=62 # P.O. 60??\n",
    "        kappa_osaaika=0.42*kappa_kokoaika\n",
    "\n",
    "    kappa_ve=0.15\n",
    "\n",
    "    if pinkslip>0: # irtisanottu\n",
    "        kappa_pinkslip = 0 # irtisanotuille ei vaikutuksia\n",
    "    else:\n",
    "        kappa_pinkslip = -0.2 # irtisanoutumisesta seuraava alennus\n",
    "\n",
    "    if age>mu_age:\n",
    "        kappa_kokoaika *= (1+mu_scale*max(0,age-mu_age))\n",
    "        kappa_osaaika *= (1+mu_scale*max(0,age-mu_age))\n",
    "\n",
    "    if employment_state == 1 or employment_state == 8:\n",
    "        v=np.exp(-kappa_kokoaika*factor)*tulo\n",
    "    elif employment_state == 10 or employment_state == 9:\n",
    "        v=np.exp(-kappa_osaaika*factor)*tulo\n",
    "    elif employment_state == 2:\n",
    "        v=np.exp(kappa_ve*factor)*tulo\n",
    "    elif employment_state == 11 or employment_state == 12:\n",
    "        v=tulo\n",
    "    else:\n",
    "        v=tulo\n",
    "            \n",
    "    return v\n",
    "            \n",
    "def vertaa_tilaa(tulo=1500,factor=1):\n",
    "    print('{} e/kk nettotulo k.o.tilassa vastaa etuustuloa työttömyysturvasta:'.format(tulo))\n",
    "    for g in set([0,4]):\n",
    "        if g<4:\n",
    "            kuvaus='Miehet'\n",
    "        else:\n",
    "            kuvaus='Naiset'\n",
    "        for emp1 in range(15):\n",
    "            nettotulo=vertailu(emp1,tulo,g=g,factor=factor)\n",
    "\n",
    "            print('{} tila {} ({}) {:.2f} e/kk'.format(kuvaus,emp1,tilanimi(emp1),nettotulo))\n",
    "            \n",
    "def tilanimi(tila):\n",
    "    dicti={0: 'ansiosidonnainen työttömyyspäiväraha',\n",
    "           1: 'työ',\n",
    "           2: 'vanhuuseläke',\n",
    "           3: 'työkyvyttömyyseläke',\n",
    "           4: 'työttömyysputki',\n",
    "           5: 'äitiysvapaa',\n",
    "           6: 'isyysvapaa',\n",
    "           7: 'kotihoidontuki',\n",
    "           8: 've+työ',\n",
    "           9: 've+osa-aika',\n",
    "           10: 'osa-aikaisesti töissä',\n",
    "           11: 'työelämän ulkopuolella',\n",
    "           12: 'opiskelija',\n",
    "           13: 'työmarkkinatuki',\n",
    "           14: 'armeijassa'}\n",
    "    \n",
    "    return dicti[tila]"
   ]
  },
  {
   "cell_type": "code",
   "execution_count": 11,
   "metadata": {},
   "outputs": [
    {
     "name": "stdout",
     "output_type": "stream",
     "text": [
      "1500 e/kk nettotulo k.o.tilassa vastaa etuustuloa työttömyysturvasta:\n",
      "Miehet tila 0 (ansiosidonnainen työttömyyspäiväraha) 1500.00 e/kk\n",
      "Miehet tila 1 (työ) 794.90 e/kk\n",
      "Miehet tila 2 (vanhuuseläke) 1742.75 e/kk\n",
      "Miehet tila 3 (työkyvyttömyyseläke) 1500.00 e/kk\n",
      "Miehet tila 4 (työttömyysputki) 1500.00 e/kk\n",
      "Miehet tila 5 (äitiysvapaa) 1500.00 e/kk\n",
      "Miehet tila 6 (isyysvapaa) 1500.00 e/kk\n",
      "Miehet tila 7 (kotihoidontuki) 1500.00 e/kk\n",
      "Miehet tila 8 (ve+työ) 794.90 e/kk\n",
      "Miehet tila 9 (ve+osa-aika) 1057.83 e/kk\n",
      "Miehet tila 10 (osa-aikaisesti töissä) 1057.83 e/kk\n",
      "Miehet tila 11 (työelämän ulkopuolella) 1500.00 e/kk\n",
      "Miehet tila 12 (opiskelija) 1500.00 e/kk\n",
      "Miehet tila 13 (työmarkkinatuki) 1500.00 e/kk\n",
      "Miehet tila 14 (armeijassa) 1500.00 e/kk\n",
      "Naiset tila 0 (ansiosidonnainen työttömyyspäiväraha) 1500.00 e/kk\n",
      "Naiset tila 1 (työ) 819.11 e/kk\n",
      "Naiset tila 2 (vanhuuseläke) 1742.75 e/kk\n",
      "Naiset tila 3 (työkyvyttömyyseläke) 1500.00 e/kk\n",
      "Naiset tila 4 (työttömyysputki) 1500.00 e/kk\n",
      "Naiset tila 5 (äitiysvapaa) 1500.00 e/kk\n",
      "Naiset tila 6 (isyysvapaa) 1500.00 e/kk\n",
      "Naiset tila 7 (kotihoidontuki) 1500.00 e/kk\n",
      "Naiset tila 8 (ve+työ) 819.11 e/kk\n",
      "Naiset tila 9 (ve+osa-aika) 1163.42 e/kk\n",
      "Naiset tila 10 (osa-aikaisesti töissä) 1163.42 e/kk\n",
      "Naiset tila 11 (työelämän ulkopuolella) 1500.00 e/kk\n",
      "Naiset tila 12 (opiskelija) 1500.00 e/kk\n",
      "Naiset tila 13 (työmarkkinatuki) 1500.00 e/kk\n",
      "Naiset tila 14 (armeijassa) 1500.00 e/kk\n"
     ]
    }
   ],
   "source": [
    "vertaa_tilaa(1500,factor=1)"
   ]
  },
  {
   "cell_type": "code",
   "execution_count": null,
   "metadata": {},
   "outputs": [],
   "source": []
  },
  {
   "cell_type": "code",
   "execution_count": null,
   "metadata": {},
   "outputs": [],
   "source": []
  }
 ],
 "metadata": {
  "kernelspec": {
   "display_name": "Python 3",
   "language": "python",
   "name": "python3"
  },
  "language_info": {
   "codemirror_mode": {
    "name": "ipython",
    "version": 3
   },
   "file_extension": ".py",
   "mimetype": "text/x-python",
   "name": "python",
   "nbconvert_exporter": "python",
   "pygments_lexer": "ipython3",
   "version": "3.7.6"
  }
 },
 "nbformat": 4,
 "nbformat_minor": 2
}
