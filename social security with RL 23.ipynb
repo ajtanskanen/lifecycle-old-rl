{
 "cells": [
  {
   "cell_type": "markdown",
   "metadata": {},
   "source": [
    "# Reinforced learning, työllistyminen ja Suomen sosiaaliturva"
   ]
  },
  {
   "cell_type": "markdown",
   "metadata": {},
   "source": [
    "Tässä tehdään laskelmat artikkelia varten. Käytössä on gym-ympäristö _unemployment-v1_ , johon on toteutettu yksityiskohtaisempi työttömyysturvamalli."
   ]
  },
  {
   "cell_type": "code",
   "execution_count": 1,
   "metadata": {},
   "outputs": [],
   "source": [
    "# for Colab, install fin_benefits and unemployment-gym from Github\n",
    "#!pip install -q git+https://github.com/ajtanskanen/benefits.git  \n",
    "#!pip install -q git+https://github.com/ajtanskanen/econogym.git\n",
    "#!pip install -q git+https://github.com/ajtanskanen/lifecycle-rl.git\n",
    "\n",
    "# and then restart kernel\n",
    "  \n",
    "  # For a specific version:\n",
    "#!pip install tensorflow==1.15\n",
    "#!pip install stable-baselines==2.8\n",
    "  \n",
    "# restart kernel after running pip's"
   ]
  },
  {
   "cell_type": "markdown",
   "metadata": {},
   "source": [
    "Then load all modules and set parameters for simulations."
   ]
  },
  {
   "cell_type": "code",
   "execution_count": 2,
   "metadata": {
    "scrolled": false
   },
   "outputs": [
    {
     "name": "stdout",
     "output_type": "stream",
     "text": [
      "WARNING:tensorflow:\n",
      "The TensorFlow contrib module will not be included in TensorFlow 2.0.\n",
      "For more information, please see:\n",
      "  * https://github.com/tensorflow/community/blob/master/rfcs/20180907-contrib-sunset.md\n",
      "  * https://github.com/tensorflow/addons\n",
      "  * https://github.com/tensorflow/io (for I/O related ops)\n",
      "If you depend on functionality not listed there, please file an issue.\n",
      "\n",
      "Populating the interactive namespace from numpy and matplotlib\n"
     ]
    }
   ],
   "source": [
    "import numpy as np\n",
    "import matplotlib.pyplot as plt\n",
    "from lifecycle_rl import Lifecycle\n",
    "\n",
    "%matplotlib inline\n",
    "%pylab inline\n",
    "\n",
    "# varoitukset piiloon (Stable baseline ei ole vielä Tensorflow 2.0-yhteensopiva, ja Tensorflow 1.15 valittaa paljon)\n",
    "# ei taida toimia piilottaminen\n",
    "import warnings\n",
    "warnings.filterwarnings('ignore')\n",
    "\n",
    "# parameters for the simulation\n",
    "# episode = 51 / 205 timesteps (1y/3m timestep)\n",
    "pop_size=10_000 # size of the population to be simulated\n",
    "size1=100_000_000 #0_000 # number of timesteps in phase 1 training (callback not used)\n",
    "size2=100_000_000 #0_000 # number of timesteps in phase 2 training (callback is used to save the best results)\n",
    "size3=10_000_000 # number of timesteps in phase 1 training (callback not used) for policy changes\n",
    "batch1=1_000 # size of minibatch in phase 1 as number of episodes\n",
    "batch2=9_00  # size of minibatch in phase 1 as number of episodes\n",
    "callback_minsteps=batch2 # how many episodes callback needs \n",
    "deterministic=False # use deterministic prediction (True) or probabilitic prediction (False)\n",
    "mortality=False # include mortality in computations\n",
    "randomness=True # include externally given, random state-transitions (parental leaves, disability, lay-offs) \n",
    "pinkslip=True # include lay-offs at 5 percent level each year\n",
    "rlmodel='acktr' # use ACKTR algorithm\n",
    "twostage=False # ajataan kahdessa vaiheessa vai ei\n",
    "perusmalli='best/malli_perus3'"
   ]
  },
  {
   "cell_type": "markdown",
   "metadata": {
    "scrolled": false
   },
   "source": [
    "# Nykymalli \n",
    "\n",
    "Lasketaan työllisyysasteet nykymallissa."
   ]
  },
  {
   "cell_type": "code",
   "execution_count": 3,
   "metadata": {
    "scrolled": true
   },
   "outputs": [
    {
     "name": "stdout",
     "output_type": "stream",
     "text": [
      "No mortality included\n",
      "Parameters of lifecycle:\n",
      "timestep 0.25\n",
      "gamma 0.9793703613355593 (0.9200000000000003 per anno)\n",
      "min_age 20\n",
      "max_age 70\n",
      "min_retirementage 63.5\n",
      "max_retirementage 68.5\n",
      "ansiopvraha_kesto300 None\n",
      "ansiopvraha_kesto400 None\n",
      "ansiopvraha_toe None\n",
      "perustulo False\n",
      "karenssi_kesto 0.25\n",
      "mortality False\n",
      "randomness True\n",
      "include_putki None\n",
      "include_pinkslip True\n",
      "step 0.25\n",
      "\n",
      "train...\n",
      "phase 1\n",
      "batch 84 learning rate 0.125 scaled 1.14564392373896\n",
      "WARNING:tensorflow:From /Library/Frameworks/Python.framework/Versions/3.7/lib/python3.7/site-packages/stable_baselines/common/tf_util.py:57: The name tf.ConfigProto is deprecated. Please use tf.compat.v1.ConfigProto instead.\n",
      "\n",
      "WARNING:tensorflow:From /Library/Frameworks/Python.framework/Versions/3.7/lib/python3.7/site-packages/stable_baselines/common/tf_util.py:66: The name tf.Session is deprecated. Please use tf.compat.v1.Session instead.\n",
      "\n",
      "WARNING:tensorflow:From /Library/Frameworks/Python.framework/Versions/3.7/lib/python3.7/site-packages/stable_baselines/common/policies.py:115: The name tf.variable_scope is deprecated. Please use tf.compat.v1.variable_scope instead.\n",
      "\n",
      "WARNING:tensorflow:From /Library/Frameworks/Python.framework/Versions/3.7/lib/python3.7/site-packages/stable_baselines/common/input.py:25: The name tf.placeholder is deprecated. Please use tf.compat.v1.placeholder instead.\n",
      "\n",
      "WARNING:tensorflow:From /Library/Frameworks/Python.framework/Versions/3.7/lib/python3.7/site-packages/stable_baselines/common/policies.py:562: flatten (from tensorflow.python.layers.core) is deprecated and will be removed in a future version.\n",
      "Instructions for updating:\n",
      "Use keras.layers.flatten instead.\n",
      "WARNING:tensorflow:From /Library/Frameworks/Python.framework/Versions/3.7/lib/python3.7/site-packages/tensorflow_core/python/layers/core.py:332: Layer.apply (from tensorflow.python.keras.engine.base_layer) is deprecated and will be removed in a future version.\n",
      "Instructions for updating:\n",
      "Please use `layer.__call__` method instead.\n",
      "WARNING:tensorflow:From /Library/Frameworks/Python.framework/Versions/3.7/lib/python3.7/site-packages/stable_baselines/a2c/utils.py:156: The name tf.get_variable is deprecated. Please use tf.compat.v1.get_variable instead.\n",
      "\n",
      "WARNING:tensorflow:From /Library/Frameworks/Python.framework/Versions/3.7/lib/python3.7/site-packages/stable_baselines/common/distributions.py:323: The name tf.random_uniform is deprecated. Please use tf.random.uniform instead.\n",
      "\n",
      "WARNING:tensorflow:From /Library/Frameworks/Python.framework/Versions/3.7/lib/python3.7/site-packages/stable_baselines/common/distributions.py:324: The name tf.log is deprecated. Please use tf.math.log instead.\n",
      "\n",
      "WARNING:tensorflow:From /Library/Frameworks/Python.framework/Versions/3.7/lib/python3.7/site-packages/stable_baselines/common/tf_util.py:312: The name tf.get_collection is deprecated. Please use tf.compat.v1.get_collection instead.\n",
      "\n",
      "WARNING:tensorflow:From /Library/Frameworks/Python.framework/Versions/3.7/lib/python3.7/site-packages/stable_baselines/common/tf_util.py:312: The name tf.GraphKeys is deprecated. Please use tf.compat.v1.GraphKeys instead.\n",
      "\n",
      "WARNING:tensorflow:From /Library/Frameworks/Python.framework/Versions/3.7/lib/python3.7/site-packages/stable_baselines/acktr/acktr.py:158: The name tf.random_normal is deprecated. Please use tf.random.normal instead.\n",
      "\n",
      "WARNING:tensorflow:From /Library/Frameworks/Python.framework/Versions/3.7/lib/python3.7/site-packages/stable_baselines/acktr/acktr.py:163: The name tf.summary.scalar is deprecated. Please use tf.compat.v1.summary.scalar instead.\n",
      "\n",
      "WARNING:tensorflow:From /Library/Frameworks/Python.framework/Versions/3.7/lib/python3.7/site-packages/stable_baselines/acktr/acktr.py:178: The name tf.summary.histogram is deprecated. Please use tf.compat.v1.summary.histogram instead.\n",
      "\n",
      "WARNING:tensorflow:From /Library/Frameworks/Python.framework/Versions/3.7/lib/python3.7/site-packages/tensorflow_core/python/ops/math_grad.py:1375: where (from tensorflow.python.ops.array_ops) is deprecated and will be removed in a future version.\n",
      "Instructions for updating:\n",
      "Use tf.where in 2.0, which has the same broadcast rule as np.where\n",
      "WARNING:tensorflow:From /Library/Frameworks/Python.framework/Versions/3.7/lib/python3.7/site-packages/stable_baselines/acktr/kfac.py:97: The name tf.get_default_graph is deprecated. Please use tf.compat.v1.get_default_graph instead.\n",
      "\n",
      "WARNING:tensorflow:From /Library/Frameworks/Python.framework/Versions/3.7/lib/python3.7/site-packages/stable_baselines/acktr/kfac.py:293: The name tf.diag is deprecated. Please use tf.linalg.tensor_diag instead.\n",
      "\n",
      "WARNING:tensorflow:From /Library/Frameworks/Python.framework/Versions/3.7/lib/python3.7/site-packages/stable_baselines/acktr/kfac.py:541: The name tf.assign is deprecated. Please use tf.compat.v1.assign instead.\n",
      "\n",
      "WARNING:tensorflow:From /Library/Frameworks/Python.framework/Versions/3.7/lib/python3.7/site-packages/stable_baselines/acktr/kfac.py:543: The name tf.assign_add is deprecated. Please use tf.compat.v1.assign_add instead.\n",
      "\n",
      "WARNING:tensorflow:From /Library/Frameworks/Python.framework/Versions/3.7/lib/python3.7/site-packages/stable_baselines/acktr/acktr.py:203: The name tf.global_variables_initializer is deprecated. Please use tf.compat.v1.global_variables_initializer instead.\n",
      "\n",
      "WARNING:tensorflow:From /Library/Frameworks/Python.framework/Versions/3.7/lib/python3.7/site-packages/stable_baselines/acktr/acktr.py:205: The name tf.summary.merge_all is deprecated. Please use tf.compat.v1.summary.merge_all instead.\n",
      "\n",
      "training...\n",
      "WARNING:tensorflow:From /Library/Frameworks/Python.framework/Versions/3.7/lib/python3.7/site-packages/stable_baselines/common/base_class.py:1035: The name tf.summary.FileWriter is deprecated. Please use tf.compat.v1.summary.FileWriter instead.\n",
      "\n",
      "WARNING:tensorflow:From /Library/Frameworks/Python.framework/Versions/3.7/lib/python3.7/site-packages/stable_baselines/acktr/acktr.py:287: The name tf.global_variables is deprecated. Please use tf.compat.v1.global_variables instead.\n",
      "\n",
      "WARNING:tensorflow:From /Library/Frameworks/Python.framework/Versions/3.7/lib/python3.7/site-packages/stable_baselines/acktr/acktr.py:288: The name tf.is_variable_initialized is deprecated. Please use tf.compat.v1.is_variable_initialized instead.\n",
      "\n",
      "WARNING:tensorflow:From /Library/Frameworks/Python.framework/Versions/3.7/lib/python3.7/site-packages/stable_baselines/acktr/kfac.py:968: The name tf.train.MomentumOptimizer is deprecated. Please use tf.compat.v1.train.MomentumOptimizer instead.\n",
      "\n",
      "WARNING:tensorflow:From /Library/Frameworks/Python.framework/Versions/3.7/lib/python3.7/site-packages/stable_baselines/acktr/kfac.py:909: The name tf.mod is deprecated. Please use tf.math.mod instead.\n",
      "\n",
      "WARNING:tensorflow:From /Library/Frameworks/Python.framework/Versions/3.7/lib/python3.7/site-packages/stable_baselines/acktr/kfac.py:616: The name tf.self_adjoint_eig is deprecated. Please use tf.linalg.eigh instead.\n",
      "\n",
      "WARNING:tensorflow:From /Library/Frameworks/Python.framework/Versions/3.7/lib/python3.7/site-packages/stable_baselines/acktr/acktr.py:300: The name tf.variables_initializer is deprecated. Please use tf.compat.v1.variables_initializer instead.\n",
      "\n",
      "WARNING:tensorflow:From /Library/Frameworks/Python.framework/Versions/3.7/lib/python3.7/site-packages/stable_baselines/a2c/utils.py:581: The name tf.Summary is deprecated. Please use tf.compat.v1.Summary instead.\n",
      "\n",
      "---------------------------------\n",
      "| explained_variance | 0.964    |\n",
      "| fps                | 2920     |\n",
      "| nupdates           | 1        |\n",
      "| policy_entropy     | 0.805    |\n",
      "| policy_loss        | 0.0029   |\n",
      "| total_timesteps    | 0        |\n",
      "| value_loss         | 0.442    |\n",
      "---------------------------------\n",
      "WARNING:tensorflow:From /Library/Frameworks/Python.framework/Versions/3.7/lib/python3.7/site-packages/stable_baselines/acktr/acktr.py:251: The name tf.RunOptions is deprecated. Please use tf.compat.v1.RunOptions instead.\n",
      "\n",
      "WARNING:tensorflow:From /Library/Frameworks/Python.framework/Versions/3.7/lib/python3.7/site-packages/stable_baselines/acktr/acktr.py:252: The name tf.RunMetadata is deprecated. Please use tf.compat.v1.RunMetadata instead.\n",
      "\n",
      "---------------------------------\n",
      "| explained_variance | -2.64    |\n",
      "| fps                | 2924     |\n",
      "| nupdates           | 10       |\n",
      "| policy_entropy     | 0.361    |\n",
      "| policy_loss        | 0.478    |\n",
      "| total_timesteps    | 1850697  |\n",
      "| value_loss         | 43.8     |\n",
      "---------------------------------\n"
     ]
    },
    {
     "name": "stdout",
     "output_type": "stream",
     "text": [
      "---------------------------------\n",
      "| explained_variance | -8.16    |\n",
      "| fps                | 2931     |\n",
      "| nupdates           | 20       |\n",
      "| policy_entropy     | 0.328    |\n",
      "| policy_loss        | -3.5     |\n",
      "| total_timesteps    | 3907027  |\n",
      "| value_loss         | 301      |\n",
      "---------------------------------\n",
      "---------------------------------\n",
      "| explained_variance | -4.76    |\n",
      "| fps                | 2932     |\n",
      "| nupdates           | 30       |\n",
      "| policy_entropy     | 0.352    |\n",
      "| policy_loss        | -2.61    |\n",
      "| total_timesteps    | 5963357  |\n",
      "| value_loss         | 161      |\n",
      "---------------------------------\n",
      "---------------------------------\n",
      "| explained_variance | -1.46    |\n",
      "| fps                | 2931     |\n",
      "| nupdates           | 40       |\n",
      "| policy_entropy     | 0.361    |\n",
      "| policy_loss        | -0.755   |\n",
      "| total_timesteps    | 8019687  |\n",
      "| value_loss         | 42.3     |\n",
      "---------------------------------\n",
      "---------------------------------\n",
      "| explained_variance | 0.227    |\n",
      "| fps                | 2930     |\n",
      "| nupdates           | 50       |\n",
      "| policy_entropy     | 0.38     |\n",
      "| policy_loss        | 0.842    |\n",
      "| total_timesteps    | 10076017 |\n",
      "| value_loss         | 11.3     |\n",
      "---------------------------------\n",
      "---------------------------------\n",
      "| explained_variance | 0.668    |\n",
      "| fps                | 2929     |\n",
      "| nupdates           | 60       |\n",
      "| policy_entropy     | 0.382    |\n",
      "| policy_loss        | 0.377    |\n",
      "| total_timesteps    | 12132347 |\n",
      "| value_loss         | 5.03     |\n",
      "---------------------------------\n",
      "---------------------------------\n",
      "| explained_variance | 0.804    |\n",
      "| fps                | 2929     |\n",
      "| nupdates           | 70       |\n",
      "| policy_entropy     | 0.38     |\n",
      "| policy_loss        | -0.638   |\n",
      "| total_timesteps    | 14188677 |\n",
      "| value_loss         | 5.21     |\n",
      "---------------------------------\n",
      "---------------------------------\n",
      "| explained_variance | 0.891    |\n",
      "| fps                | 2928     |\n",
      "| nupdates           | 80       |\n",
      "| policy_entropy     | 0.387    |\n",
      "| policy_loss        | 0.162    |\n",
      "| total_timesteps    | 16245007 |\n",
      "| value_loss         | 1.33     |\n",
      "---------------------------------\n",
      "---------------------------------\n",
      "| explained_variance | 0.919    |\n",
      "| fps                | 2928     |\n",
      "| nupdates           | 90       |\n",
      "| policy_entropy     | 0.394    |\n",
      "| policy_loss        | 0.367    |\n",
      "| total_timesteps    | 18301337 |\n",
      "| value_loss         | 1.8      |\n",
      "---------------------------------\n",
      "---------------------------------\n",
      "| explained_variance | 0.93     |\n",
      "| fps                | 2927     |\n",
      "| nupdates           | 100      |\n",
      "| policy_entropy     | 0.404    |\n",
      "| policy_loss        | -0.425   |\n",
      "| total_timesteps    | 20357667 |\n",
      "| value_loss         | 1.97     |\n",
      "---------------------------------\n",
      "---------------------------------\n",
      "| explained_variance | 0.942    |\n",
      "| fps                | 2927     |\n",
      "| nupdates           | 110      |\n",
      "| policy_entropy     | 0.411    |\n",
      "| policy_loss        | 0.204    |\n",
      "| total_timesteps    | 22413997 |\n",
      "| value_loss         | 0.942    |\n",
      "---------------------------------\n",
      "---------------------------------\n",
      "| explained_variance | 0.941    |\n",
      "| fps                | 2926     |\n",
      "| nupdates           | 120      |\n",
      "| policy_entropy     | 0.414    |\n",
      "| policy_loss        | 0.177    |\n",
      "| total_timesteps    | 24470327 |\n",
      "| value_loss         | 0.813    |\n",
      "---------------------------------\n",
      "---------------------------------\n",
      "| explained_variance | 0.95     |\n",
      "| fps                | 2925     |\n",
      "| nupdates           | 130      |\n",
      "| policy_entropy     | 0.419    |\n",
      "| policy_loss        | -0.324   |\n",
      "| total_timesteps    | 26526657 |\n",
      "| value_loss         | 1.25     |\n",
      "---------------------------------\n",
      "---------------------------------\n",
      "| explained_variance | 0.952    |\n",
      "| fps                | 2925     |\n",
      "| nupdates           | 140      |\n",
      "| policy_entropy     | 0.434    |\n",
      "| policy_loss        | 0.246    |\n",
      "| total_timesteps    | 28582987 |\n",
      "| value_loss         | 0.918    |\n",
      "---------------------------------\n",
      "---------------------------------\n",
      "| explained_variance | 0.956    |\n",
      "| fps                | 2924     |\n",
      "| nupdates           | 150      |\n",
      "| policy_entropy     | 0.456    |\n",
      "| policy_loss        | -0.0798  |\n",
      "| total_timesteps    | 30639317 |\n",
      "| value_loss         | 0.566    |\n",
      "---------------------------------\n",
      "---------------------------------\n",
      "| explained_variance | 0.95     |\n",
      "| fps                | 2924     |\n",
      "| nupdates           | 160      |\n",
      "| policy_entropy     | 0.473    |\n",
      "| policy_loss        | -0.0756  |\n",
      "| total_timesteps    | 32695647 |\n",
      "| value_loss         | 0.622    |\n",
      "---------------------------------\n",
      "---------------------------------\n",
      "| explained_variance | 0.959    |\n",
      "| fps                | 2923     |\n",
      "| nupdates           | 170      |\n",
      "| policy_entropy     | 0.484    |\n",
      "| policy_loss        | 0.0284   |\n",
      "| total_timesteps    | 34751977 |\n",
      "| value_loss         | 0.537    |\n",
      "---------------------------------\n",
      "---------------------------------\n",
      "| explained_variance | 0.962    |\n",
      "| fps                | 2922     |\n",
      "| nupdates           | 180      |\n",
      "| policy_entropy     | 0.51     |\n",
      "| policy_loss        | 0.0206   |\n",
      "| total_timesteps    | 36808307 |\n",
      "| value_loss         | 0.453    |\n",
      "---------------------------------\n",
      "---------------------------------\n",
      "| explained_variance | 0.957    |\n",
      "| fps                | 2922     |\n",
      "| nupdates           | 190      |\n",
      "| policy_entropy     | 0.572    |\n",
      "| policy_loss        | 0.00751  |\n",
      "| total_timesteps    | 38864637 |\n",
      "| value_loss         | 0.477    |\n",
      "---------------------------------\n",
      "---------------------------------\n",
      "| explained_variance | 0.964    |\n",
      "| fps                | 2921     |\n",
      "| nupdates           | 200      |\n",
      "| policy_entropy     | 0.677    |\n",
      "| policy_loss        | 0.00695  |\n",
      "| total_timesteps    | 40920967 |\n",
      "| value_loss         | 0.443    |\n",
      "---------------------------------\n",
      "---------------------------------\n",
      "| explained_variance | 0.963    |\n",
      "| fps                | 2920     |\n",
      "| nupdates           | 210      |\n",
      "| policy_entropy     | 0.769    |\n",
      "| policy_loss        | 0.0169   |\n",
      "| total_timesteps    | 42977297 |\n",
      "| value_loss         | 0.459    |\n",
      "---------------------------------\n",
      "---------------------------------\n",
      "| explained_variance | 0.964    |\n",
      "| fps                | 2919     |\n",
      "| nupdates           | 220      |\n",
      "| policy_entropy     | 0.788    |\n",
      "| policy_loss        | -0.0119  |\n",
      "| total_timesteps    | 45033627 |\n",
      "| value_loss         | 0.479    |\n",
      "---------------------------------\n",
      "---------------------------------\n",
      "| explained_variance | 0.962    |\n",
      "| fps                | 2919     |\n",
      "| nupdates           | 230      |\n",
      "| policy_entropy     | 0.781    |\n",
      "| policy_loss        | -0.0112  |\n",
      "| total_timesteps    | 47089957 |\n",
      "| value_loss         | 0.456    |\n",
      "---------------------------------\n",
      "---------------------------------\n",
      "| explained_variance | 0.965    |\n",
      "| fps                | 2919     |\n",
      "| nupdates           | 240      |\n",
      "| policy_entropy     | 0.792    |\n",
      "| policy_loss        | 0.00682  |\n",
      "| total_timesteps    | 49146287 |\n",
      "| value_loss         | 0.447    |\n",
      "---------------------------------\n",
      "---------------------------------\n",
      "| explained_variance | 0.967    |\n",
      "| fps                | 2918     |\n",
      "| nupdates           | 250      |\n",
      "| policy_entropy     | 0.8      |\n",
      "| policy_loss        | -0.0152  |\n",
      "| total_timesteps    | 51202617 |\n",
      "| value_loss         | 0.423    |\n",
      "---------------------------------\n",
      "---------------------------------\n",
      "| explained_variance | 0.967    |\n",
      "| fps                | 2918     |\n",
      "| nupdates           | 260      |\n",
      "| policy_entropy     | 0.802    |\n",
      "| policy_loss        | -0.00541 |\n",
      "| total_timesteps    | 53258947 |\n",
      "| value_loss         | 0.423    |\n",
      "---------------------------------\n",
      "---------------------------------\n",
      "| explained_variance | 0.968    |\n",
      "| fps                | 2917     |\n",
      "| nupdates           | 270      |\n",
      "| policy_entropy     | 0.799    |\n",
      "| policy_loss        | 0.0146   |\n",
      "| total_timesteps    | 55315277 |\n",
      "| value_loss         | 0.424    |\n",
      "---------------------------------\n",
      "---------------------------------\n",
      "| explained_variance | 0.965    |\n",
      "| fps                | 2917     |\n",
      "| nupdates           | 280      |\n",
      "| policy_entropy     | 0.802    |\n",
      "| policy_loss        | -0.00911 |\n",
      "| total_timesteps    | 57371607 |\n",
      "| value_loss         | 0.434    |\n",
      "---------------------------------\n"
     ]
    },
    {
     "name": "stdout",
     "output_type": "stream",
     "text": [
      "---------------------------------\n",
      "| explained_variance | 0.97     |\n",
      "| fps                | 2917     |\n",
      "| nupdates           | 290      |\n",
      "| policy_entropy     | 0.794    |\n",
      "| policy_loss        | -0.0118  |\n",
      "| total_timesteps    | 59427937 |\n",
      "| value_loss         | 0.393    |\n",
      "---------------------------------\n",
      "---------------------------------\n",
      "| explained_variance | 0.968    |\n",
      "| fps                | 2917     |\n",
      "| nupdates           | 300      |\n",
      "| policy_entropy     | 0.781    |\n",
      "| policy_loss        | -0.0347  |\n",
      "| total_timesteps    | 61484267 |\n",
      "| value_loss         | 0.415    |\n",
      "---------------------------------\n",
      "---------------------------------\n",
      "| explained_variance | 0.967    |\n",
      "| fps                | 2916     |\n",
      "| nupdates           | 310      |\n",
      "| policy_entropy     | 0.792    |\n",
      "| policy_loss        | -0.0108  |\n",
      "| total_timesteps    | 63540597 |\n",
      "| value_loss         | 0.423    |\n",
      "---------------------------------\n",
      "---------------------------------\n",
      "| explained_variance | 0.968    |\n",
      "| fps                | 2916     |\n",
      "| nupdates           | 320      |\n",
      "| policy_entropy     | 0.781    |\n",
      "| policy_loss        | 0.00599  |\n",
      "| total_timesteps    | 65596927 |\n",
      "| value_loss         | 0.433    |\n",
      "---------------------------------\n",
      "---------------------------------\n",
      "| explained_variance | 0.964    |\n",
      "| fps                | 2916     |\n",
      "| nupdates           | 330      |\n",
      "| policy_entropy     | 0.788    |\n",
      "| policy_loss        | -0.0095  |\n",
      "| total_timesteps    | 67653257 |\n",
      "| value_loss         | 0.457    |\n",
      "---------------------------------\n",
      "---------------------------------\n",
      "| explained_variance | 0.964    |\n",
      "| fps                | 2916     |\n",
      "| nupdates           | 340      |\n",
      "| policy_entropy     | 0.782    |\n",
      "| policy_loss        | 0.00768  |\n",
      "| total_timesteps    | 69709587 |\n",
      "| value_loss         | 0.448    |\n",
      "---------------------------------\n",
      "---------------------------------\n",
      "| explained_variance | 0.969    |\n",
      "| fps                | 2916     |\n",
      "| nupdates           | 350      |\n",
      "| policy_entropy     | 0.785    |\n",
      "| policy_loss        | 0.00291  |\n",
      "| total_timesteps    | 71765917 |\n",
      "| value_loss         | 0.419    |\n",
      "---------------------------------\n",
      "---------------------------------\n",
      "| explained_variance | 0.965    |\n",
      "| fps                | 2915     |\n",
      "| nupdates           | 360      |\n",
      "| policy_entropy     | 0.788    |\n",
      "| policy_loss        | -0.00387 |\n",
      "| total_timesteps    | 73822247 |\n",
      "| value_loss         | 0.442    |\n",
      "---------------------------------\n",
      "----------------------------------\n",
      "| explained_variance | 0.967     |\n",
      "| fps                | 2915      |\n",
      "| nupdates           | 370       |\n",
      "| policy_entropy     | 0.786     |\n",
      "| policy_loss        | -0.000841 |\n",
      "| total_timesteps    | 75878577  |\n",
      "| value_loss         | 0.422     |\n",
      "----------------------------------\n",
      "---------------------------------\n",
      "| explained_variance | 0.966    |\n",
      "| fps                | 2915     |\n",
      "| nupdates           | 380      |\n",
      "| policy_entropy     | 0.783    |\n",
      "| policy_loss        | 0.000534 |\n",
      "| total_timesteps    | 77934907 |\n",
      "| value_loss         | 0.434    |\n",
      "---------------------------------\n",
      "---------------------------------\n",
      "| explained_variance | 0.965    |\n",
      "| fps                | 2915     |\n",
      "| nupdates           | 390      |\n",
      "| policy_entropy     | 0.779    |\n",
      "| policy_loss        | -0.0151  |\n",
      "| total_timesteps    | 79991237 |\n",
      "| value_loss         | 0.45     |\n",
      "---------------------------------\n",
      "---------------------------------\n",
      "| explained_variance | 0.967    |\n",
      "| fps                | 2915     |\n",
      "| nupdates           | 400      |\n",
      "| policy_entropy     | 0.78     |\n",
      "| policy_loss        | -0.0247  |\n",
      "| total_timesteps    | 82047567 |\n",
      "| value_loss         | 0.427    |\n",
      "---------------------------------\n",
      "---------------------------------\n",
      "| explained_variance | 0.964    |\n",
      "| fps                | 2915     |\n",
      "| nupdates           | 410      |\n",
      "| policy_entropy     | 0.784    |\n",
      "| policy_loss        | -0.0269  |\n",
      "| total_timesteps    | 84103897 |\n",
      "| value_loss         | 0.455    |\n",
      "---------------------------------\n",
      "---------------------------------\n",
      "| explained_variance | 0.967    |\n",
      "| fps                | 2915     |\n",
      "| nupdates           | 420      |\n",
      "| policy_entropy     | 0.782    |\n",
      "| policy_loss        | -0.0099  |\n",
      "| total_timesteps    | 86160227 |\n",
      "| value_loss         | 0.437    |\n",
      "---------------------------------\n",
      "---------------------------------\n",
      "| explained_variance | 0.968    |\n",
      "| fps                | 2914     |\n",
      "| nupdates           | 430      |\n",
      "| policy_entropy     | 0.778    |\n",
      "| policy_loss        | 0.00424  |\n",
      "| total_timesteps    | 88216557 |\n",
      "| value_loss         | 0.421    |\n",
      "---------------------------------\n",
      "---------------------------------\n",
      "| explained_variance | 0.966    |\n",
      "| fps                | 2914     |\n",
      "| nupdates           | 440      |\n",
      "| policy_entropy     | 0.788    |\n",
      "| policy_loss        | -0.0284  |\n",
      "| total_timesteps    | 90272887 |\n",
      "| value_loss         | 0.422    |\n",
      "---------------------------------\n",
      "---------------------------------\n",
      "| explained_variance | 0.966    |\n",
      "| fps                | 2914     |\n",
      "| nupdates           | 450      |\n",
      "| policy_entropy     | 0.788    |\n",
      "| policy_loss        | -0.0148  |\n",
      "| total_timesteps    | 92329217 |\n",
      "| value_loss         | 0.433    |\n",
      "---------------------------------\n",
      "---------------------------------\n",
      "| explained_variance | 0.968    |\n",
      "| fps                | 2914     |\n",
      "| nupdates           | 460      |\n",
      "| policy_entropy     | 0.782    |\n",
      "| policy_loss        | 0.00273  |\n",
      "| total_timesteps    | 94385547 |\n",
      "| value_loss         | 0.415    |\n",
      "---------------------------------\n",
      "---------------------------------\n",
      "| explained_variance | 0.968    |\n",
      "| fps                | 2914     |\n",
      "| nupdates           | 470      |\n",
      "| policy_entropy     | 0.78     |\n",
      "| policy_loss        | 0.00275  |\n",
      "| total_timesteps    | 96441877 |\n",
      "| value_loss         | 0.408    |\n",
      "---------------------------------\n",
      "---------------------------------\n",
      "| explained_variance | 0.967    |\n",
      "| fps                | 2914     |\n",
      "| nupdates           | 480      |\n",
      "| policy_entropy     | 0.787    |\n",
      "| policy_loss        | 0.000622 |\n",
      "| total_timesteps    | 98498207 |\n",
      "| value_loss         | 0.419    |\n",
      "---------------------------------\n",
      "done\n",
      "simulating  best/malli_perus3\n",
      "predicting...\n"
     ]
    },
    {
     "data": {
      "application/vnd.jupyter.widget-view+json": {
       "model_id": "192ca1b5c23d46aa9134f0b6b1dba0cc",
       "version_major": 2,
       "version_minor": 0
      },
      "text/plain": [
       "HBox(children=(IntProgress(value=0, description='Population', max=10000), HTML(value='')))"
      ]
     },
     "metadata": {},
     "output_type": "display_data"
    },
    {
     "data": {
      "image/png": "[encoded data removed]",
      "text/plain": [
       "<Figure size 432x288 with 1 Axes>"
      ]
     },
     "metadata": {
      "needs_background": "light"
     },
     "output_type": "display_data"
    },
    {
     "data": {
      "image/png": "[encoded data removed]",
      "text/plain": [
       "<Figure size 432x288 with 1 Axes>"
      ]
     },
     "metadata": {
      "needs_background": "light"
     },
     "output_type": "display_data"
    },
    {
     "ename": "NameError",
     "evalue": "name 'ura_unemp' is not defined",
     "output_type": "error",
     "traceback": [
      "\u001b[0;31m---------------------------------------------------------------------------\u001b[0m",
      "\u001b[0;31mNameError\u001b[0m                                 Traceback (most recent call last)",
      "\u001b[0;32m<ipython-input-3-3a6555321510>\u001b[0m in \u001b[0;36m<module>\u001b[0;34m\u001b[0m\n\u001b[1;32m      5\u001b[0m                 \u001b[0mtrain\u001b[0m\u001b[0;34m=\u001b[0m\u001b[0;32mTrue\u001b[0m\u001b[0;34m,\u001b[0m\u001b[0mpredict\u001b[0m\u001b[0;34m=\u001b[0m\u001b[0;32mTrue\u001b[0m\u001b[0;34m,\u001b[0m\u001b[0mbatch1\u001b[0m\u001b[0;34m=\u001b[0m\u001b[0mbatch1\u001b[0m\u001b[0;34m,\u001b[0m\u001b[0mbatch2\u001b[0m\u001b[0;34m=\u001b[0m\u001b[0mbatch2\u001b[0m\u001b[0;34m,\u001b[0m\u001b[0;34m\u001b[0m\u001b[0m\n\u001b[1;32m      6\u001b[0m                 \u001b[0msave\u001b[0m\u001b[0;34m=\u001b[0m\u001b[0mperusmalli\u001b[0m\u001b[0;34m,\u001b[0m\u001b[0mplot\u001b[0m\u001b[0;34m=\u001b[0m\u001b[0;32mTrue\u001b[0m\u001b[0;34m,\u001b[0m\u001b[0mcont\u001b[0m\u001b[0;34m=\u001b[0m\u001b[0;32mTrue\u001b[0m\u001b[0;34m,\u001b[0m\u001b[0mstart_from\u001b[0m\u001b[0;34m=\u001b[0m\u001b[0mperusmalli\u001b[0m\u001b[0;34m,\u001b[0m\u001b[0mresults\u001b[0m\u001b[0;34m=\u001b[0m\u001b[0;34m'results/perus_results3'\u001b[0m\u001b[0;34m,\u001b[0m\u001b[0;34m\u001b[0m\u001b[0m\n\u001b[0;32m----> 7\u001b[0;31m                 callback_minsteps=callback_minsteps,rlmodel=rlmodel,twostage=twostage)\n\u001b[0m",
      "\u001b[0;32m/Volumes/Transcend/GitHub/lifecycle-rl/lifecycle_rl/lifecycle.py\u001b[0m in \u001b[0;36mrun_results\u001b[0;34m(self, steps1, steps2, pop, rlmodel, twostage, save, debug, simut, results, stats, deterministic, train, predict, batch1, batch2, cont, start_from, plot, callback_minsteps)\u001b[0m\n\u001b[1;32m    665\u001b[0m                           debug=debug,deterministic=deterministic,results=results)\n\u001b[1;32m    666\u001b[0m         \u001b[0;32mif\u001b[0m \u001b[0mplot\u001b[0m\u001b[0;34m:\u001b[0m\u001b[0;34m\u001b[0m\u001b[0m\n\u001b[0;32m--> 667\u001b[0;31m             \u001b[0mself\u001b[0m\u001b[0;34m.\u001b[0m\u001b[0mrender\u001b[0m\u001b[0;34m(\u001b[0m\u001b[0mload\u001b[0m\u001b[0;34m=\u001b[0m\u001b[0mresults\u001b[0m\u001b[0;34m)\u001b[0m\u001b[0;34m\u001b[0m\u001b[0m\n\u001b[0m\u001b[1;32m    668\u001b[0m \u001b[0;34m\u001b[0m\u001b[0m\n\u001b[1;32m    669\u001b[0m     def run_protocol(self,steps1=2_000_000,steps2=1_000_000,rlmodel='acktr',\n",
      "\u001b[0;32m/Volumes/Transcend/GitHub/lifecycle-rl/lifecycle_rl/lifecycle.py\u001b[0m in \u001b[0;36mrender\u001b[0;34m(self, load)\u001b[0m\n\u001b[1;32m    555\u001b[0m     \u001b[0;32mdef\u001b[0m \u001b[0mrender\u001b[0m\u001b[0;34m(\u001b[0m\u001b[0mself\u001b[0m\u001b[0;34m,\u001b[0m\u001b[0mload\u001b[0m\u001b[0;34m=\u001b[0m\u001b[0;32mNone\u001b[0m\u001b[0;34m)\u001b[0m\u001b[0;34m:\u001b[0m\u001b[0;34m\u001b[0m\u001b[0m\n\u001b[1;32m    556\u001b[0m         \u001b[0;32mif\u001b[0m \u001b[0mload\u001b[0m \u001b[0;32mis\u001b[0m \u001b[0;32mnot\u001b[0m \u001b[0;32mNone\u001b[0m\u001b[0;34m:\u001b[0m\u001b[0;34m\u001b[0m\u001b[0m\n\u001b[0;32m--> 557\u001b[0;31m             \u001b[0mself\u001b[0m\u001b[0;34m.\u001b[0m\u001b[0mepisodestats\u001b[0m\u001b[0;34m.\u001b[0m\u001b[0mrender\u001b[0m\u001b[0;34m(\u001b[0m\u001b[0mload\u001b[0m\u001b[0;34m=\u001b[0m\u001b[0mload\u001b[0m\u001b[0;34m)\u001b[0m\u001b[0;34m\u001b[0m\u001b[0m\n\u001b[0m\u001b[1;32m    558\u001b[0m         \u001b[0;32melse\u001b[0m\u001b[0;34m:\u001b[0m\u001b[0;34m\u001b[0m\u001b[0m\n\u001b[1;32m    559\u001b[0m             \u001b[0mself\u001b[0m\u001b[0;34m.\u001b[0m\u001b[0mepisodestats\u001b[0m\u001b[0;34m.\u001b[0m\u001b[0mrender\u001b[0m\u001b[0;34m(\u001b[0m\u001b[0;34m)\u001b[0m\u001b[0;34m\u001b[0m\u001b[0m\n",
      "\u001b[0;32m/Volumes/Transcend/GitHub/lifecycle-rl/lifecycle_rl/episodestats.py\u001b[0m in \u001b[0;36mrender\u001b[0;34m(self, load)\u001b[0m\n\u001b[1;32m    491\u001b[0m \u001b[0;34m\u001b[0m\u001b[0m\n\u001b[1;32m    492\u001b[0m         \u001b[0;31m#self.plot_stats(5)\u001b[0m\u001b[0;34m\u001b[0m\u001b[0;34m\u001b[0m\u001b[0m\n\u001b[0;32m--> 493\u001b[0;31m         \u001b[0mself\u001b[0m\u001b[0;34m.\u001b[0m\u001b[0mplot_stats\u001b[0m\u001b[0;34m(\u001b[0m\u001b[0;34m)\u001b[0m\u001b[0;34m\u001b[0m\u001b[0m\n\u001b[0m\u001b[1;32m    494\u001b[0m         \u001b[0;31m#self.plot_reward()\u001b[0m\u001b[0;34m\u001b[0m\u001b[0;34m\u001b[0m\u001b[0m\n\u001b[1;32m    495\u001b[0m \u001b[0;34m\u001b[0m\u001b[0m\n",
      "\u001b[0;32m/Volumes/Transcend/GitHub/lifecycle-rl/lifecycle_rl/episodestats.py\u001b[0m in \u001b[0;36mplot_stats\u001b[0;34m(self)\u001b[0m\n\u001b[1;32m    385\u001b[0m \u001b[0;34m\u001b[0m\u001b[0m\n\u001b[1;32m    386\u001b[0m     \u001b[0;32mdef\u001b[0m \u001b[0mplot_stats\u001b[0m\u001b[0;34m(\u001b[0m\u001b[0mself\u001b[0m\u001b[0;34m)\u001b[0m\u001b[0;34m:\u001b[0m\u001b[0;34m\u001b[0m\u001b[0m\n\u001b[0;32m--> 387\u001b[0;31m         \u001b[0mself\u001b[0m\u001b[0;34m.\u001b[0m\u001b[0mplot_emp\u001b[0m\u001b[0;34m(\u001b[0m\u001b[0;34m)\u001b[0m\u001b[0;34m\u001b[0m\u001b[0m\n\u001b[0m\u001b[1;32m    388\u001b[0m         \u001b[0;32mif\u001b[0m \u001b[0;32mnot\u001b[0m \u001b[0mself\u001b[0m\u001b[0;34m.\u001b[0m\u001b[0mminimal\u001b[0m\u001b[0;34m:\u001b[0m\u001b[0;34m\u001b[0m\u001b[0m\n\u001b[1;32m    389\u001b[0m             \u001b[0mself\u001b[0m\u001b[0;34m.\u001b[0m\u001b[0mplot_group_emp\u001b[0m\u001b[0;34m(\u001b[0m\u001b[0;34m)\u001b[0m\u001b[0;34m\u001b[0m\u001b[0m\n",
      "\u001b[0;32m/Volumes/Transcend/GitHub/lifecycle-rl/lifecycle_rl/episodestats.py\u001b[0m in \u001b[0;36mplot_emp\u001b[0;34m(self)\u001b[0m\n\u001b[1;32m    186\u001b[0m         \u001b[0max\u001b[0m\u001b[0;34m.\u001b[0m\u001b[0mset_xlabel\u001b[0m\u001b[0;34m(\u001b[0m\u001b[0;34m'Ikä [v]'\u001b[0m\u001b[0;34m)\u001b[0m\u001b[0;34m\u001b[0m\u001b[0m\n\u001b[1;32m    187\u001b[0m         \u001b[0max\u001b[0m\u001b[0;34m.\u001b[0m\u001b[0mset_ylabel\u001b[0m\u001b[0;34m(\u001b[0m\u001b[0;34m'Työttömyysaste'\u001b[0m\u001b[0;34m)\u001b[0m\u001b[0;34m\u001b[0m\u001b[0m\n\u001b[0;32m--> 188\u001b[0;31m         \u001b[0max\u001b[0m\u001b[0;34m.\u001b[0m\u001b[0mstackplot\u001b[0m\u001b[0;34m(\u001b[0m\u001b[0mx\u001b[0m\u001b[0;34m,\u001b[0m\u001b[0mura_unemp\u001b[0m\u001b[0;34m,\u001b[0m\u001b[0mcolors\u001b[0m\u001b[0;34m=\u001b[0m\u001b[0mpal\u001b[0m\u001b[0;34m)\u001b[0m\u001b[0;34m\u001b[0m\u001b[0m\n\u001b[0m\u001b[1;32m    189\u001b[0m         \u001b[0;31m#ax.plot(x,tyottomyysaste)\u001b[0m\u001b[0;34m\u001b[0m\u001b[0;34m\u001b[0m\u001b[0m\n\u001b[1;32m    190\u001b[0m         \u001b[0mplt\u001b[0m\u001b[0;34m.\u001b[0m\u001b[0mshow\u001b[0m\u001b[0;34m(\u001b[0m\u001b[0;34m)\u001b[0m\u001b[0;34m\u001b[0m\u001b[0m\n",
      "\u001b[0;31mNameError\u001b[0m: name 'ura_unemp' is not defined"
     ]
    },
    {
     "data": {
      "image/png": "[encoded data removed]",
      "text/plain": [
       "<Figure size 432x288 with 1 Axes>"
      ]
     },
     "metadata": {
      "needs_background": "light"
     },
     "output_type": "display_data"
    }
   ],
   "source": [
    "cc1=Lifecycle(env='unemployment-v1',minimal=False,mortality=mortality,perustulo=False,\n",
    "              randomness=randomness,pinkslip=pinkslip,plotdebug=False)\n",
    "cc1.explain()\n",
    "cc1.run_results(debug=False,steps1=size1,steps2=size2,pop=pop_size,deterministic=deterministic,\n",
    "                train=True,predict=True,batch1=batch1,batch2=batch2,\n",
    "                save=perusmalli,plot=True,cont=True,start_from=perusmalli,results='results/perus_results3',\n",
    "                callback_minsteps=callback_minsteps,rlmodel=rlmodel,twostage=twostage)"
   ]
  },
  {
   "cell_type": "code",
   "execution_count": null,
   "metadata": {
    "scrolled": false
   },
   "outputs": [],
   "source": [
    "cc1=Lifecycle(env='unemployment-v1',minimal=False,mortality=mortality,perustulo=False,\n",
    "              randomness=randomness,pinkslip=pinkslip,plotdebug=False)\n",
    "\n",
    "cc1.render(load='results/perus_results3')"
   ]
  },
  {
   "cell_type": "code",
   "execution_count": null,
   "metadata": {},
   "outputs": [],
   "source": []
  },
  {
   "cell_type": "markdown",
   "metadata": {},
   "source": [
    "# Työttömyysputken poisto\n",
    "\n",
    "Työttömyysputkelle meneminen on usein hyvin suosittua elinkaarimalleissa. Tarkastellaan millainen työllisyysvaikutus on putken poistamisella."
   ]
  },
  {
   "cell_type": "code",
   "execution_count": null,
   "metadata": {
    "scrolled": true
   },
   "outputs": [],
   "source": [
    "cc1_putki=Lifecycle(env='unemployment-v1',minimal=False,include_putki=False,mortality=mortality,\n",
    "                    perustulo=False,randomness=randomness)\n",
    "cc1_putki.run_results(debug=False,steps1=size1,steps2=size2,pop=pop_size,deterministic=deterministic,\n",
    "                      train=True,predict=True,batch1=batch1,batch2=batch2,save='best/malli_putki',\n",
    "                      plot=True,results='results/putki_results',start_from=perusmalli,cont=True,\n",
    "                      callback_minsteps=callback_minsteps,twostage=twostage)\n",
    "cc1_putki.render(load='results/putki_results')\n",
    "cc1_putki.compare_with(cc1)                    "
   ]
  },
  {
   "cell_type": "code",
   "execution_count": null,
   "metadata": {
    "scrolled": true
   },
   "outputs": [],
   "source": [
    "cc1_putki.render(load='results/putki_results')\n",
    "cc1_putki.compare_with(cc1) "
   ]
  },
  {
   "cell_type": "markdown",
   "metadata": {},
   "source": [
    "# Porrastettu työttömyysturva\n",
    "\n"
   ]
  },
  {
   "cell_type": "code",
   "execution_count": null,
   "metadata": {
    "scrolled": true
   },
   "outputs": [],
   "source": [
    "cc2_porras=Lifecycle(env='unemploymentSteps-v1',minimal=False,mortality=mortality,perustulo=False,\n",
    "              randomness=randomness)\n",
    "cc2_porras.run_results(debug=False,steps1=size3,steps2=size2,pop=pop_size,deterministic=deterministic,\n",
    "                train=True,predict=True,batch1=batch1,batch2=batch2,save='best/malli_steps',plot=True,\n",
    "                results='results/steps_results',start_from=perusmalli,cont=True,\n",
    "                callback_minsteps=callback_minsteps,twostage=twostage)\n",
    "cc2_porras.render(load='results/steps_results')\n"
   ]
  },
  {
   "cell_type": "code",
   "execution_count": null,
   "metadata": {},
   "outputs": [],
   "source": [
    "cc2_porras.compare_with(cc1)"
   ]
  },
  {
   "cell_type": "markdown",
   "metadata": {},
   "source": [
    "# EK:n malli\n",
    "\n",
    "Lasketaan vertailukelpoiset työllisyysasteet EK:n ehdottamalla mallilla. Mallissa on toteuttu muutoksia ansiosidonnaiseen työttömyysturvaan, asumistukeen, toimeentulotukeen ja verotukseen."
   ]
  },
  {
   "cell_type": "code",
   "execution_count": null,
   "metadata": {
    "scrolled": true
   },
   "outputs": [],
   "source": [
    "cc2=Lifecycle(env='unemploymentEK-v1',minimal=False,mortality=mortality,perustulo=False,\n",
    "              randomness=randomness)\n",
    "cc2.run_results(debug=False,steps1=size3,steps2=size2,pop=pop_size,deterministic=deterministic,\n",
    "                train=True,predict=True,batch1=batch1,batch2=batch2,save='best/malli_ek',plot=True,\n",
    "                results='results/ek_results',start_from=perusmalli,cont=True,\n",
    "                callback_minsteps=callback_minsteps,twostage=twostage)\n",
    "#cc2.render(load='results/ek_results')\n",
    "#cc2.load_sim(load='results/ek_results')"
   ]
  },
  {
   "cell_type": "code",
   "execution_count": null,
   "metadata": {
    "scrolled": true
   },
   "outputs": [],
   "source": [
    "cc2.compare_with(cc1)\n",
    "#print(cc1.episodestats.empstate/cc1.n_pop,cc2.episodestats.empstate/cc2.n_pop)\n",
    "#cc2.episodestats.load_sim('results/ek_res__best')\n",
    "#cc2.episodestats.render()"
   ]
  },
  {
   "cell_type": "markdown",
   "metadata": {
    "scrolled": false
   },
   "source": [
    "# Verifiointi\n",
    "\n",
    "Ajetaan sama simulaatio kaksi kertaa ja tarkastetaan että tulokset ovat sama. Tässä ideana on varmistaa, että satunnaisuus ei sotke tulosten arviointia."
   ]
  },
  {
   "cell_type": "markdown",
   "metadata": {},
   "source": [
    "# Työssäoloehdon pituus 12 kk\n",
    "\n",
    "Entä jos työssäoloehto olisikin 12 kuukautta pitkä nykyisen 6 kuukauden sijaan?"
   ]
  },
  {
   "cell_type": "code",
   "execution_count": null,
   "metadata": {
    "scrolled": true
   },
   "outputs": [],
   "source": [
    "cc1_toe=Lifecycle(env='unemployment-v1',minimal=False,ansiopvraha_toe=1.0,mortality=mortality,\n",
    "                  perustulo=False,randomness=randomness)\n",
    "cc1_toe.run_results(debug=False,steps1=size3,steps2=size2,pop=pop_size,deterministic=deterministic,\n",
    "                    train=True,predict=True,batch1=batch1,batch2=batch2,save='best/best_12kk',plot=True,\n",
    "                    results='results/12kk_results',start_from=perusmalli,cont=True,\n",
    "                callback_minsteps=callback_minsteps,twostage=twostage)\n",
    "cc1_toe.render(load='results/12kk_results')\n"
   ]
  },
  {
   "cell_type": "code",
   "execution_count": null,
   "metadata": {},
   "outputs": [],
   "source": [
    "cc1_toe.compare_with(cc1)"
   ]
  },
  {
   "cell_type": "markdown",
   "metadata": {},
   "source": [
    "# Ansiosidonnaisen päivärahan lyhennys 50 pv\n",
    "\n",
    "Tarkastellaan, miten työllisyyteen vaikuttaisi ansiosidonnaisen päivärahan lyhentäminen 50 päivällä. Tällöin alle kolmen vuoden työhistorialla ansiosidonnaisen päivärahan enimmäiskesto olisi 250 pv ja pidemmällä työhistorialla enimmäiskesto olisi 350 pv."
   ]
  },
  {
   "cell_type": "code",
   "execution_count": null,
   "metadata": {
    "scrolled": true
   },
   "outputs": [],
   "source": [
    "cc1_350=Lifecycle(env='unemployment-v1',minimal=False,ansiopvraha_kesto300=250,ansiopvraha_kesto400=350,\n",
    "                  mortality=mortality,perustulo=False,randomness=randomness)\n",
    "cc1_350.run_results(debug=False,steps1=size3,steps2=size2,pop=pop_size,deterministic=deterministic,\n",
    "                    train=True,predict=True,batch1=batch1,batch2=batch2,save='best/malli_50pv',plot=True,\n",
    "                    results='results/50pv_results',start_from=perusmalli,cont=True,\n",
    "                    callback_minsteps=callback_minsteps,twostage=twostage)\n",
    "cc1_350.render(load='results/50pv_results')\n",
    "cc1_350.compare_with(cc1)"
   ]
  },
  {
   "cell_type": "markdown",
   "metadata": {},
   "source": [
    "# Perustulo\n",
    "\n",
    "Alustava versio. Tulee muuttumaan, kun mukana koko mallli."
   ]
  },
  {
   "cell_type": "code",
   "execution_count": null,
   "metadata": {
    "scrolled": true
   },
   "outputs": [],
   "source": [
    "cc1_pt=Lifecycle(env='unemployment-v1',minimal=False,perustulo=True,mortality=mortality,\n",
    "                 randomness=randomness)\n",
    "cc1_pt.run_results(debug=False,steps1=size3,steps2=size2,pop=pop_size,deterministic=deterministic,\n",
    "                   train=True,predict=True,batch1=batch1,batch2=batch2,save='best/malli_pt',plot=True,\n",
    "                   results='results/perustulo_results',start_from=perusmalli,cont=True,\n",
    "                callback_minsteps=callback_minsteps,twostage=twostage)\n",
    "cc1_pt.render(load='results/perustulo_results')\n",
    "cc1_pt.compare_with(cc1)"
   ]
  },
  {
   "cell_type": "markdown",
   "metadata": {},
   "source": [
    "# 300 vs 400 päivän kesto ansiosidonnaisessa\n",
    "\n",
    "Mikä on alle kolmen vuoden työhistorian lyhyemmän (300 pv) ansiosidonnaisen päivärahan enimmäiskeston vaikutus työllisyyteen? Kokeillaan miten työllisyyteen vaikuttaisi sen pidentäminen 400 päivään."
   ]
  },
  {
   "cell_type": "code",
   "execution_count": null,
   "metadata": {
    "scrolled": false
   },
   "outputs": [],
   "source": [
    "cc1_400=Lifecycle(env='unemployment-v1',minimal=False,ansiopvraha_kesto300=400,mortality=mortality,\n",
    "                  perustulo=False,randomness=randomness)\n",
    "cc1_400.run_results(debug=False,steps1=size3,steps2=size2,pop=pop_size,deterministic=deterministic,\n",
    "                    train=True,predict=True,batch1=batch1,batch2=batch2,save='best/malli_300pv',plot=True,\n",
    "                    results='results/300pv_results',start_from=perusmalli,cont=True,\n",
    "                callback_minsteps=callback_minsteps,twostage=twostage)\n",
    "cc1_400.render(load='results/300pv_results')\n",
    "cc1_400.compare_with(cc1)"
   ]
  },
  {
   "cell_type": "code",
   "execution_count": null,
   "metadata": {},
   "outputs": [],
   "source": []
  }
 ],
 "metadata": {
  "kernelspec": {
   "display_name": "Python 3",
   "language": "python",
   "name": "python3"
  },
  "language_info": {
   "codemirror_mode": {
    "name": "ipython",
    "version": 3
   },
   "file_extension": ".py",
   "mimetype": "text/x-python",
   "name": "python",
   "nbconvert_exporter": "python",
   "pygments_lexer": "ipython3",
   "version": "3.7.0"
  }
 },
 "nbformat": 4,
 "nbformat_minor": 2
}
