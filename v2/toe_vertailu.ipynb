{
 "cells": [
  {
   "cell_type": "markdown",
   "metadata": {},
   "source": [
    "# Reinforced learning, työllistyminen ja Suomen sosiaaliturva"
   ]
  },
  {
   "cell_type": "markdown",
   "metadata": {},
   "source": [
    "Tässä tehdään laskelmat artikkelia varten. Käytössä on gym-ympäristö _unemployment-v1_ , johon on toteutettu yksityiskohtaisesti sosiaaliturvaa eri tiloissa."
   ]
  },
  {
   "cell_type": "code",
   "execution_count": 1,
   "metadata": {},
   "outputs": [],
   "source": [
    "# for Colab, install fin_benefits and unemployment-gym from Github\n",
    "#!pip install -q git+https://github.com/ajtanskanen/benefits.git  \n",
    "#!pip install -q git+https://github.com/ajtanskanen/econogym.git\n",
    "#!pip install -q git+https://github.com/ajtanskanen/lifecycle-rl.git\n",
    "\n",
    "# and then restart kernel\n",
    "  \n",
    "  # For a specific version:\n",
    "#!pip install tensorflow==1.15\n",
    "#!pip install stable-baselines==2.8\n",
    "  \n",
    "# restart kernel after running pip's"
   ]
  },
  {
   "cell_type": "code",
   "execution_count": 2,
   "metadata": {},
   "outputs": [],
   "source": [
    "#import sys\n",
    "#print(sys.path)\n",
    "#sys.path.append('/usr/local/python3.7/site-packages')"
   ]
  },
  {
   "cell_type": "markdown",
   "metadata": {},
   "source": [
    "Then load all modules and set parameters for simulations."
   ]
  },
  {
   "cell_type": "code",
   "execution_count": 3,
   "metadata": {
    "scrolled": false
   },
   "outputs": [
    {
     "name": "stdout",
     "output_type": "stream",
     "text": [
      "WARNING:tensorflow:\n",
      "The TensorFlow contrib module will not be included in TensorFlow 2.0.\n",
      "For more information, please see:\n",
      "  * https://github.com/tensorflow/community/blob/master/rfcs/20180907-contrib-sunset.md\n",
      "  * https://github.com/tensorflow/addons\n",
      "  * https://github.com/tensorflow/io (for I/O related ops)\n",
      "If you depend on functionality not listed there, please file an issue.\n",
      "\n",
      "Populating the interactive namespace from numpy and matplotlib\n"
     ]
    }
   ],
   "source": [
    "import numpy as np\n",
    "import matplotlib.pyplot as plt\n",
    "from lifecycle_rl import Lifecycle\n",
    "\n",
    "%matplotlib inline\n",
    "%pylab inline\n",
    "\n",
    "# varoitukset piiloon (Stable baseline ei ole vielä Tensorflow 2.0-yhteensopiva, ja Tensorflow 1.15 valittaa paljon)\n",
    "# ei taida toimia piilottaminen\n",
    "import warnings\n",
    "warnings.filterwarnings('ignore')\n"
   ]
  },
  {
   "cell_type": "code",
   "execution_count": 4,
   "metadata": {},
   "outputs": [],
   "source": [
    "# parameters for the simulation\n",
    "# episode = 51 / 205 timesteps (1y/3m timestep)\n",
    "pop_size=20_000 # size of the population to be simulated\n",
    "size1=10_000_000 # number of timesteps in phase 1 training (callback not used)\n",
    "size2=100_000_000 #0_000 # number of timesteps in phase 2 training (callback is used to save the best results)\n",
    "size3=20_000_000 # number of timesteps in phase 1 training (callback not used) for policy changes\n",
    "batch1=8 # size of minibatch in phase 1 as number of episodes\n",
    "batch2=9_00  # size of minibatch in phase 1 as number of episodes\n",
    "callback_minsteps=batch2 # how many episodes callback needs \n",
    "deterministic=True # use deterministic prediction (True) or probabilitic prediction (False)\n",
    "mortality=False # include mortality in computations\n",
    "randomness=True # include externally given, random state-transitions (parental leaves, disability, lay-offs) \n",
    "pinkslip=True # include lay-offs at 5 percent level each year\n",
    "rlmodel='leaky_acktr' #'acktr' # use ACKTR algorithm # leaky_acktr?\n",
    "twostage=False # ajataan kahdessa vaiheessa vai ei\n",
    "if mortality:\n",
    "    perusmalli_start='best/v2_malli_base_dev'\n",
    "    perusmalli='best/v2_malli_base_dev'\n",
    "    perusresults='results/v2_malli_base_dev_stoch'\n",
    "    prefmalli='best/v2_malli_perus_prefnoise'\n",
    "    prefresults='results/v2_perus_results_prefnoise'\n",
    "else:\n",
    "    perusmalli_start='best/v2_malli_baseline2_nomort'\n",
    "    perusmalli='best/v2_malli_base_nomort'\n",
    "    perusresults='results/v2_malli_base_nomort'\n",
    "    baseline_results='results/v2_malli_baseline_nomort'\n",
    "    prefmalli='best/v2_malli_perus_prefnoise_nomort'\n",
    "    prefresults='results/v2_perus_results_prefnoise_nomort'\n",
    "    \n",
    "tva_savefile='results/v2_tvaresults'\n",
    "    \n",
    "debug=False # jos True, niin ajetaan vain yhdellä prosessilla. Nopeampi debugata.\n",
    "plotdebug=False # tulostetaanko rivi riviltä mitä tapahtuu\n",
    "\n",
    "year=2019"
   ]
  },
  {
   "cell_type": "markdown",
   "metadata": {},
   "source": [
    "# TOE-vertailu\n",
    "\n",
    "Verrataan perusmallia porrastettuun TOE-malliin"
   ]
  },
  {
   "cell_type": "code",
   "execution_count": 5,
   "metadata": {},
   "outputs": [],
   "source": [
    "toemalli='best/v2_toemalli'\n",
    "toeresults='results/v2_toemalli'"
   ]
  },
  {
   "cell_type": "code",
   "execution_count": null,
   "metadata": {},
   "outputs": [
    {
     "name": "stdout",
     "output_type": "stream",
     "text": [
      "No mortality included\n",
      "Parameters of lifecycle:\n",
      "timestep 0.25\n",
      "gamma 0.9793703613355593 (0.9200000000000003 per anno)\n",
      "min_age 18\n",
      "max_age 70\n",
      "min_retirementage 63.5\n",
      "max_retirementage 68\n",
      "ansiopvraha_kesto300 300\n",
      "ansiopvraha_kesto400 400\n",
      "ansiopvraha_kesto500 500\n",
      "ansiopvraha_toe 0.5\n",
      "perustulo False\n",
      "karenssi_kesto 0.25\n",
      "mortality False\n",
      "randomness True\n",
      "include_putki True\n",
      "include_pinkslip True\n",
      "perustulo False\n",
      "\n",
      "sigma_reduction True\n",
      "plotdebug False\n",
      "\n",
      "additional_tyel_premium 0.0\n",
      "scale_tyel_accrual False\n",
      "\n",
      "version 2\n",
      "train...\n",
      "phase 1\n",
      "batch 1 learning rate 0.0625 scaled 0.0625 n_cpu 8\n",
      "WARNING:tensorflow:From /Users/antti/opt/anaconda3/envs/py37/lib/python3.7/site-packages/stable_baselines/common/tf_util.py:191: The name tf.ConfigProto is deprecated. Please use tf.compat.v1.ConfigProto instead.\n",
      "\n",
      "WARNING:tensorflow:From /Users/antti/opt/anaconda3/envs/py37/lib/python3.7/site-packages/stable_baselines/common/tf_util.py:200: The name tf.Session is deprecated. Please use tf.compat.v1.Session instead.\n",
      "\n",
      "WARNING:tensorflow:From /Users/antti/opt/anaconda3/envs/py37/lib/python3.7/site-packages/stable_baselines/common/policies.py:116: The name tf.variable_scope is deprecated. Please use tf.compat.v1.variable_scope instead.\n",
      "\n",
      "WARNING:tensorflow:From /Users/antti/opt/anaconda3/envs/py37/lib/python3.7/site-packages/stable_baselines/common/input.py:25: The name tf.placeholder is deprecated. Please use tf.compat.v1.placeholder instead.\n",
      "\n",
      "WARNING:tensorflow:From /Users/antti/opt/anaconda3/envs/py37/lib/python3.7/site-packages/stable_baselines/common/policies.py:561: flatten (from tensorflow.python.layers.core) is deprecated and will be removed in a future version.\n",
      "Instructions for updating:\n",
      "Use keras.layers.flatten instead.\n",
      "WARNING:tensorflow:From /Users/antti/opt/anaconda3/envs/py37/lib/python3.7/site-packages/tensorflow_core/python/layers/core.py:332: Layer.apply (from tensorflow.python.keras.engine.base_layer) is deprecated and will be removed in a future version.\n",
      "Instructions for updating:\n",
      "Please use `layer.__call__` method instead.\n",
      "WARNING:tensorflow:From /Users/antti/opt/anaconda3/envs/py37/lib/python3.7/site-packages/stable_baselines/common/tf_layers.py:123: The name tf.get_variable is deprecated. Please use tf.compat.v1.get_variable instead.\n",
      "\n",
      "WARNING:tensorflow:From /Users/antti/opt/anaconda3/envs/py37/lib/python3.7/site-packages/stable_baselines/common/distributions.py:326: The name tf.random_uniform is deprecated. Please use tf.random.uniform instead.\n",
      "\n",
      "WARNING:tensorflow:From /Users/antti/opt/anaconda3/envs/py37/lib/python3.7/site-packages/stable_baselines/common/distributions.py:327: The name tf.log is deprecated. Please use tf.math.log instead.\n",
      "\n",
      "WARNING:tensorflow:From /Users/antti/opt/anaconda3/envs/py37/lib/python3.7/site-packages/stable_baselines/common/tf_util.py:449: The name tf.get_collection is deprecated. Please use tf.compat.v1.get_collection instead.\n",
      "\n",
      "WARNING:tensorflow:From /Users/antti/opt/anaconda3/envs/py37/lib/python3.7/site-packages/stable_baselines/common/tf_util.py:449: The name tf.GraphKeys is deprecated. Please use tf.compat.v1.GraphKeys instead.\n",
      "\n",
      "WARNING:tensorflow:From /Users/antti/opt/anaconda3/envs/py37/lib/python3.7/site-packages/stable_baselines/acktr/acktr.py:176: The name tf.random_normal is deprecated. Please use tf.random.normal instead.\n",
      "\n",
      "WARNING:tensorflow:From /Users/antti/opt/anaconda3/envs/py37/lib/python3.7/site-packages/stable_baselines/acktr/acktr.py:181: The name tf.summary.scalar is deprecated. Please use tf.compat.v1.summary.scalar instead.\n",
      "\n",
      "WARNING:tensorflow:From /Users/antti/opt/anaconda3/envs/py37/lib/python3.7/site-packages/stable_baselines/acktr/acktr.py:196: The name tf.summary.histogram is deprecated. Please use tf.compat.v1.summary.histogram instead.\n",
      "\n",
      "WARNING:tensorflow:From /Users/antti/opt/anaconda3/envs/py37/lib/python3.7/site-packages/tensorflow_core/python/ops/math_grad.py:1375: where (from tensorflow.python.ops.array_ops) is deprecated and will be removed in a future version.\n",
      "Instructions for updating:\n",
      "Use tf.where in 2.0, which has the same broadcast rule as np.where\n",
      "WARNING:tensorflow:From /Users/antti/opt/anaconda3/envs/py37/lib/python3.7/site-packages/stable_baselines/acktr/kfac.py:99: The name tf.get_default_graph is deprecated. Please use tf.compat.v1.get_default_graph instead.\n",
      "\n",
      "WARNING:tensorflow:From /Users/antti/opt/anaconda3/envs/py37/lib/python3.7/site-packages/stable_baselines/acktr/kfac.py:298: The name tf.diag is deprecated. Please use tf.linalg.tensor_diag instead.\n",
      "\n",
      "WARNING:tensorflow:From /Users/antti/opt/anaconda3/envs/py37/lib/python3.7/site-packages/stable_baselines/acktr/kfac.py:546: The name tf.assign is deprecated. Please use tf.compat.v1.assign instead.\n",
      "\n",
      "WARNING:tensorflow:From /Users/antti/opt/anaconda3/envs/py37/lib/python3.7/site-packages/stable_baselines/acktr/kfac.py:548: The name tf.assign_add is deprecated. Please use tf.compat.v1.assign_add instead.\n",
      "\n",
      "WARNING:tensorflow:From /Users/antti/opt/anaconda3/envs/py37/lib/python3.7/site-packages/stable_baselines/acktr/acktr.py:221: The name tf.global_variables_initializer is deprecated. Please use tf.compat.v1.global_variables_initializer instead.\n",
      "\n",
      "WARNING:tensorflow:From /Users/antti/opt/anaconda3/envs/py37/lib/python3.7/site-packages/stable_baselines/acktr/acktr.py:223: The name tf.summary.merge_all is deprecated. Please use tf.compat.v1.summary.merge_all instead.\n",
      "\n",
      "training...\n",
      "WARNING:tensorflow:From /Users/antti/opt/anaconda3/envs/py37/lib/python3.7/site-packages/stable_baselines/common/base_class.py:1169: The name tf.summary.FileWriter is deprecated. Please use tf.compat.v1.summary.FileWriter instead.\n",
      "\n",
      "WARNING:tensorflow:From /Users/antti/opt/anaconda3/envs/py37/lib/python3.7/site-packages/stable_baselines/acktr/acktr.py:306: The name tf.global_variables is deprecated. Please use tf.compat.v1.global_variables instead.\n",
      "\n",
      "WARNING:tensorflow:From /Users/antti/opt/anaconda3/envs/py37/lib/python3.7/site-packages/stable_baselines/acktr/acktr.py:307: The name tf.is_variable_initialized is deprecated. Please use tf.compat.v1.is_variable_initialized instead.\n",
      "\n",
      "WARNING:tensorflow:From /Users/antti/opt/anaconda3/envs/py37/lib/python3.7/site-packages/stable_baselines/acktr/kfac.py:973: The name tf.train.MomentumOptimizer is deprecated. Please use tf.compat.v1.train.MomentumOptimizer instead.\n",
      "\n",
      "WARNING:tensorflow:From /Users/antti/opt/anaconda3/envs/py37/lib/python3.7/site-packages/stable_baselines/acktr/kfac.py:914: The name tf.mod is deprecated. Please use tf.math.mod instead.\n",
      "\n",
      "WARNING:tensorflow:From /Users/antti/opt/anaconda3/envs/py37/lib/python3.7/site-packages/stable_baselines/acktr/kfac.py:621: The name tf.self_adjoint_eig is deprecated. Please use tf.linalg.eigh instead.\n",
      "\n",
      "WARNING:tensorflow:From /Users/antti/opt/anaconda3/envs/py37/lib/python3.7/site-packages/stable_baselines/acktr/acktr.py:319: The name tf.variables_initializer is deprecated. Please use tf.compat.v1.variables_initializer instead.\n",
      "\n",
      "WARNING:tensorflow:From /Users/antti/opt/anaconda3/envs/py37/lib/python3.7/site-packages/stable_baselines/common/tf_util.py:502: The name tf.Summary is deprecated. Please use tf.compat.v1.Summary instead.\n",
      "\n",
      "---------------------------------\n",
      "| explained_variance | 0.997    |\n",
      "| fps                | 415      |\n",
      "| nupdates           | 1        |\n",
      "| policy_entropy     | 1.16     |\n",
      "| policy_loss        | 0.0102   |\n",
      "| total_timesteps    | 1680     |\n",
      "| value_loss         | 0.0352   |\n",
      "---------------------------------\n",
      "WARNING:tensorflow:From /Users/antti/opt/anaconda3/envs/py37/lib/python3.7/site-packages/stable_baselines/acktr/acktr.py:269: The name tf.RunOptions is deprecated. Please use tf.compat.v1.RunOptions instead.\n",
      "\n",
      "WARNING:tensorflow:From /Users/antti/opt/anaconda3/envs/py37/lib/python3.7/site-packages/stable_baselines/acktr/acktr.py:270: The name tf.RunMetadata is deprecated. Please use tf.compat.v1.RunMetadata instead.\n",
      "\n",
      "---------------------------------\n",
      "| explained_variance | 0.999    |\n",
      "| fps                | 1529     |\n",
      "| nupdates           | 1000     |\n",
      "| policy_entropy     | 1.04     |\n",
      "| policy_loss        | 0.00648  |\n",
      "| total_timesteps    | 1680000  |\n",
      "| value_loss         | 0.0115   |\n",
      "---------------------------------\n",
      "---------------------------------\n",
      "| explained_variance | 0.999    |\n",
      "| fps                | 1522     |\n",
      "| nupdates           | 2000     |\n",
      "| policy_entropy     | 1.11     |\n",
      "| policy_loss        | -0.0231  |\n",
      "| total_timesteps    | 3360000  |\n",
      "| value_loss         | 0.012    |\n",
      "---------------------------------\n"
     ]
    },
    {
     "name": "stdout",
     "output_type": "stream",
     "text": [
      "---------------------------------\n",
      "| explained_variance | 0.999    |\n",
      "| fps                | 1481     |\n",
      "| nupdates           | 3000     |\n",
      "| policy_entropy     | 1.1      |\n",
      "| policy_loss        | 0.00325  |\n",
      "| total_timesteps    | 5040000  |\n",
      "| value_loss         | 0.0111   |\n",
      "---------------------------------\n",
      "---------------------------------\n",
      "| explained_variance | 0.998    |\n",
      "| fps                | 1461     |\n",
      "| nupdates           | 4000     |\n",
      "| policy_entropy     | 1.02     |\n",
      "| policy_loss        | 0.0094   |\n",
      "| total_timesteps    | 6720000  |\n",
      "| value_loss         | 0.0255   |\n",
      "---------------------------------\n",
      "---------------------------------\n",
      "| explained_variance | 0.999    |\n",
      "| fps                | 1468     |\n",
      "| nupdates           | 5000     |\n",
      "| policy_entropy     | 1.09     |\n",
      "| policy_loss        | -0.0162  |\n",
      "| total_timesteps    | 8400000  |\n",
      "| value_loss         | 0.018    |\n",
      "---------------------------------\n"
     ]
    }
   ],
   "source": [
    "cc1=Lifecycle(env='unemployment-v2',minimal=False,mortality=mortality,perustulo=False,\n",
    "              randomness=randomness,pinkslip=pinkslip,plotdebug=plotdebug,year=year,\n",
    "              porrasta_toe=True)\n",
    "cc1.run_results(debug=debug,steps1=size1,steps2=size2,pop=pop_size,deterministic=deterministic,\n",
    "                train=True,predict=True,batch1=batch1,batch2=batch2,\n",
    "                save=toemalli,plot=False,cont=True,start_from=perusmalli_start,results=toeresults,\n",
    "                callback_minsteps=callback_minsteps,rlmodel=rlmodel,twostage=twostage,\n",
    "                learning_rate=0.25,learning_schedule='linear',log_interval=1000)"
   ]
  },
  {
   "cell_type": "code",
   "execution_count": null,
   "metadata": {},
   "outputs": [],
   "source": [
    "cc0=Lifecycle(env='unemployment-v2',minimal=False,mortality=mortality,perustulo=False,\n",
    "              randomness=randomness,pinkslip=pinkslip,plotdebug=plotdebug,year=year,\n",
    "              porrasta_toe=False)\n",
    "cc0.load_sim(load=perusresults)"
   ]
  },
  {
   "cell_type": "code",
   "execution_count": null,
   "metadata": {
    "scrolled": true
   },
   "outputs": [],
   "source": [
    "cc3=Lifecycle(env='unemployment-v2',minimal=False,mortality=mortality,perustulo=False,\n",
    "              randomness=randomness,pinkslip=pinkslip,plotdebug=plotdebug,year=year,\n",
    "              porrasta_toe=True)\n",
    "cc3.load_sim(load=toeresults)\n",
    "cc3.compare_with(cc0,label1='Toe-porrastus',label2='Baseline',figname='perustulo_no_pink')"
   ]
  },
  {
   "cell_type": "code",
   "execution_count": null,
   "metadata": {
    "scrolled": false
   },
   "outputs": [],
   "source": [
    "cc3.render()"
   ]
  },
  {
   "cell_type": "code",
   "execution_count": null,
   "metadata": {},
   "outputs": [],
   "source": [
    "cc1.env.toe_porrastus_kesto(1.75,3.0)"
   ]
  },
  {
   "cell_type": "code",
   "execution_count": null,
   "metadata": {},
   "outputs": [],
   "source": []
  }
 ],
 "metadata": {
  "kernelspec": {
   "display_name": "py37",
   "language": "python",
   "name": "py37"
  },
  "language_info": {
   "codemirror_mode": {
    "name": "ipython",
    "version": 3
   },
   "file_extension": ".py",
   "mimetype": "text/x-python",
   "name": "python",
   "nbconvert_exporter": "python",
   "pygments_lexer": "ipython3",
   "version": "3.7.9"
  }
 },
 "nbformat": 4,
 "nbformat_minor": 2
}
