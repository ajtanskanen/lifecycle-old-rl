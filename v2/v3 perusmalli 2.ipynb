{
 "cells": [
  {
   "cell_type": "markdown",
   "metadata": {},
   "source": [
    "# Reinforced learning, työllistyminen ja Suomen sosiaaliturva"
   ]
  },
  {
   "cell_type": "markdown",
   "metadata": {},
   "source": [
    "Tässä tehdään laskelmat artikkelia varten. Käytössä on gym-ympäristö _unemployment-v1_ , johon on toteutettu yksityiskohtaisesti sosiaaliturvaa eri tiloissa."
   ]
  },
  {
   "cell_type": "code",
   "execution_count": 1,
   "metadata": {},
   "outputs": [],
   "source": [
    "# for Colab, install fin_benefits and unemployment-gym from Github\n",
    "#!pip install -q git+https://github.com/ajtanskanen/benefits.git  \n",
    "#!pip install -q git+https://github.com/ajtanskanen/econogym.git\n",
    "#!pip install -q git+https://github.com/ajtanskanen/lifecycle-rl.git\n",
    "\n",
    "# and then restart kernel\n",
    "  \n",
    "  # For a specific version:\n",
    "#!pip install tensorflow==1.15\n",
    "#!pip install stable-baselines==2.8\n",
    "  \n",
    "# restart kernel after running pip's"
   ]
  },
  {
   "cell_type": "code",
   "execution_count": 2,
   "metadata": {},
   "outputs": [],
   "source": [
    "#import sys\n",
    "#print(sys.path)\n",
    "#sys.path.append('/usr/local/python3.7/site-packages')"
   ]
  },
  {
   "cell_type": "markdown",
   "metadata": {},
   "source": [
    "Then load all modules and set parameters for simulations."
   ]
  },
  {
   "cell_type": "code",
   "execution_count": 3,
   "metadata": {
    "scrolled": false
   },
   "outputs": [
    {
     "name": "stdout",
     "output_type": "stream",
     "text": [
      "WARNING:tensorflow:\n",
      "The TensorFlow contrib module will not be included in TensorFlow 2.0.\n",
      "For more information, please see:\n",
      "  * https://github.com/tensorflow/community/blob/master/rfcs/20180907-contrib-sunset.md\n",
      "  * https://github.com/tensorflow/addons\n",
      "  * https://github.com/tensorflow/io (for I/O related ops)\n",
      "If you depend on functionality not listed there, please file an issue.\n",
      "\n",
      "Populating the interactive namespace from numpy and matplotlib\n"
     ]
    }
   ],
   "source": [
    "import os\n",
    "os.environ[\"OMP_NUM_THREADS\"] = \"4\" # export OMP_NUM_THREADS=4\n",
    "os.environ[\"OPENBLAS_NUM_THREADS\"] = \"4\" # export OPENBLAS_NUM_THREADS=4 \n",
    "os.environ[\"MKL_NUM_THREADS\"] = \"4\" # export MKL_NUM_THREADS=6\n",
    "os.environ[\"VECLIB_MAXIMUM_THREADS\"] = \"4\" # export VECLIB_MAXIMUM_THREADS=4\n",
    "os.environ[\"NUMEXPR_NUM_THREADS\"] = \"4\" # export NUMEXPR_NUM_THREADS=6\n",
    "import numpy as np\n",
    "import matplotlib.pyplot as plt\n",
    "from lifecycle_rl import Lifecycle\n",
    "\n",
    "%matplotlib inline\n",
    "%pylab inline\n",
    "\n",
    "# varoitukset piiloon (Stable baseline ei ole Tensorflow 2.0-yhteensopiva, ja Tensorflow 1.15 valittaa paljon)\n",
    "# ei taida toimia piilottaminen\n",
    "import warnings\n",
    "warnings.filterwarnings('ignore')\n"
   ]
  },
  {
   "cell_type": "code",
   "execution_count": 4,
   "metadata": {},
   "outputs": [],
   "source": [
    "# parameters for the simulation\n",
    "# episode = 51 / 205 timesteps (1y/3m timestep)\n",
    "pop_size=10_000 # size of the population to be simulated\n",
    "size1=10_000_000 # number of timesteps in phase 1 training (callback not used)\n",
    "size2=100_000_000 #0_000 # number of timesteps in phase 2 training (callback is used to save the best results)\n",
    "size3=20_000_000 # number of timesteps in phase 1 training (callback not used) for policy changes\n",
    "batch1=8 # size of minibatch in phase 1 as number of episodes\n",
    "batch2=9_00  # size of minibatch in phase 1 as number of episodes\n",
    "callback_minsteps=batch2 # how many episodes callback needs \n",
    "deterministic=True # use deterministic prediction (True) or probabilitic prediction (False)\n",
    "mortality=False # include mortality in computations\n",
    "randomness=True # include externally given, random state-transitions (parental leaves, disability, lay-offs) \n",
    "pinkslip=True # include lay-offs at 5 percent level each year\n",
    "rlmodel='leaky_acktr' #'acktr' # use ACKTR algorithm # leaky_acktr?\n",
    "twostage=False # ajataan kahdessa vaiheessa vai ei\n",
    "if mortality:\n",
    "    perusmalli_start='best/v3_malli_base_dev'\n",
    "    perusresults='results/v3_malli_base_dev_stoch'\n",
    "else:\n",
    "    perusmalli_start='best/v3_malli_baseline3test_nomort'\n",
    "    perusresults='results/v3_malli_base_nomort'\n",
    "    baseline_results='results/v3_malli_baseline_nomort'\n",
    "    \n",
    "tva_savefile='results/v3_tvaresults'\n",
    "    \n",
    "debug=False # jos True, niin ajetaan vain yhdellä prosessilla. Nopeampi debugata.\n",
    "plotdebug=False # tulostetaanko rivi riviltä mitä tapahtuu\n",
    "\n",
    "year=2018"
   ]
  },
  {
   "cell_type": "markdown",
   "metadata": {
    "scrolled": false
   },
   "source": [
    "# Nykymalli \n",
    "\n",
    "Lasketaan työllisyysasteet nykymallissa."
   ]
  },
  {
   "cell_type": "code",
   "execution_count": null,
   "metadata": {
    "scrolled": true
   },
   "outputs": [
    {
     "name": "stdout",
     "output_type": "stream",
     "text": [
      "No mortality included\n",
      "Parameters of lifecycle:\n",
      "timestep 0.25\n",
      "gamma 0.9793703613355593 (0.9200000000000003 per anno)\n",
      "min_age 18\n",
      "max_age 70\n",
      "min_retirementage 63.5\n",
      "max_retirementage 68\n",
      "ansiopvraha_kesto300 300\n",
      "ansiopvraha_kesto400 400\n",
      "ansiopvraha_kesto500 500\n",
      "ansiopvraha_toe 0.5\n",
      "perustulo False\n",
      "karenssi_kesto 0.25\n",
      "mortality False\n",
      "randomness True\n",
      "include_putki True\n",
      "include_pinkslip True\n",
      "perustulo False\n",
      "\n",
      "sigma_reduction True\n",
      "plotdebug False\n",
      "\n",
      "additional_tyel_premium 0.0\n",
      "scale_tyel_accrual False\n",
      "\n",
      "version 3\n",
      "train...\n",
      "phase 1\n",
      "batch 1 learning rate 0.0625 scaled 0.0625 n_cpu 8\n",
      "WARNING:tensorflow:From /Users/antti/opt/anaconda3/envs/py37/lib/python3.7/site-packages/stable_baselines/common/tf_util.py:191: The name tf.ConfigProto is deprecated. Please use tf.compat.v1.ConfigProto instead.\n",
      "\n",
      "WARNING:tensorflow:From /Users/antti/opt/anaconda3/envs/py37/lib/python3.7/site-packages/stable_baselines/common/tf_util.py:200: The name tf.Session is deprecated. Please use tf.compat.v1.Session instead.\n",
      "\n",
      "WARNING:tensorflow:From /Users/antti/opt/anaconda3/envs/py37/lib/python3.7/site-packages/stable_baselines/common/policies.py:116: The name tf.variable_scope is deprecated. Please use tf.compat.v1.variable_scope instead.\n",
      "\n",
      "WARNING:tensorflow:From /Users/antti/opt/anaconda3/envs/py37/lib/python3.7/site-packages/stable_baselines/common/input.py:25: The name tf.placeholder is deprecated. Please use tf.compat.v1.placeholder instead.\n",
      "\n",
      "WARNING:tensorflow:From /Users/antti/opt/anaconda3/envs/py37/lib/python3.7/site-packages/stable_baselines/common/policies.py:561: flatten (from tensorflow.python.layers.core) is deprecated and will be removed in a future version.\n",
      "Instructions for updating:\n",
      "Use keras.layers.flatten instead.\n",
      "WARNING:tensorflow:From /Users/antti/opt/anaconda3/envs/py37/lib/python3.7/site-packages/tensorflow_core/python/layers/core.py:332: Layer.apply (from tensorflow.python.keras.engine.base_layer) is deprecated and will be removed in a future version.\n",
      "Instructions for updating:\n",
      "Please use `layer.__call__` method instead.\n",
      "WARNING:tensorflow:From /Users/antti/opt/anaconda3/envs/py37/lib/python3.7/site-packages/stable_baselines/common/tf_layers.py:123: The name tf.get_variable is deprecated. Please use tf.compat.v1.get_variable instead.\n",
      "\n",
      "WARNING:tensorflow:From /Users/antti/opt/anaconda3/envs/py37/lib/python3.7/site-packages/stable_baselines/common/distributions.py:326: The name tf.random_uniform is deprecated. Please use tf.random.uniform instead.\n",
      "\n",
      "WARNING:tensorflow:From /Users/antti/opt/anaconda3/envs/py37/lib/python3.7/site-packages/stable_baselines/common/distributions.py:327: The name tf.log is deprecated. Please use tf.math.log instead.\n",
      "\n",
      "WARNING:tensorflow:From /Users/antti/opt/anaconda3/envs/py37/lib/python3.7/site-packages/stable_baselines/common/tf_util.py:449: The name tf.get_collection is deprecated. Please use tf.compat.v1.get_collection instead.\n",
      "\n",
      "WARNING:tensorflow:From /Users/antti/opt/anaconda3/envs/py37/lib/python3.7/site-packages/stable_baselines/common/tf_util.py:449: The name tf.GraphKeys is deprecated. Please use tf.compat.v1.GraphKeys instead.\n",
      "\n",
      "WARNING:tensorflow:From /Users/antti/opt/anaconda3/envs/py37/lib/python3.7/site-packages/stable_baselines/acktr/acktr.py:176: The name tf.random_normal is deprecated. Please use tf.random.normal instead.\n",
      "\n",
      "WARNING:tensorflow:From /Users/antti/opt/anaconda3/envs/py37/lib/python3.7/site-packages/stable_baselines/acktr/acktr.py:181: The name tf.summary.scalar is deprecated. Please use tf.compat.v1.summary.scalar instead.\n",
      "\n",
      "WARNING:tensorflow:From /Users/antti/opt/anaconda3/envs/py37/lib/python3.7/site-packages/tensorflow_core/python/ops/math_grad.py:1375: where (from tensorflow.python.ops.array_ops) is deprecated and will be removed in a future version.\n",
      "Instructions for updating:\n",
      "Use tf.where in 2.0, which has the same broadcast rule as np.where\n",
      "WARNING:tensorflow:From /Users/antti/opt/anaconda3/envs/py37/lib/python3.7/site-packages/stable_baselines/acktr/kfac.py:99: The name tf.get_default_graph is deprecated. Please use tf.compat.v1.get_default_graph instead.\n",
      "\n",
      "WARNING:tensorflow:From /Users/antti/opt/anaconda3/envs/py37/lib/python3.7/site-packages/stable_baselines/acktr/kfac.py:298: The name tf.diag is deprecated. Please use tf.linalg.tensor_diag instead.\n",
      "\n",
      "WARNING:tensorflow:From /Users/antti/opt/anaconda3/envs/py37/lib/python3.7/site-packages/stable_baselines/acktr/kfac.py:546: The name tf.assign is deprecated. Please use tf.compat.v1.assign instead.\n",
      "\n",
      "WARNING:tensorflow:From /Users/antti/opt/anaconda3/envs/py37/lib/python3.7/site-packages/stable_baselines/acktr/kfac.py:548: The name tf.assign_add is deprecated. Please use tf.compat.v1.assign_add instead.\n",
      "\n",
      "WARNING:tensorflow:From /Users/antti/opt/anaconda3/envs/py37/lib/python3.7/site-packages/stable_baselines/acktr/acktr.py:221: The name tf.global_variables_initializer is deprecated. Please use tf.compat.v1.global_variables_initializer instead.\n",
      "\n",
      "WARNING:tensorflow:From /Users/antti/opt/anaconda3/envs/py37/lib/python3.7/site-packages/stable_baselines/acktr/acktr.py:223: The name tf.summary.merge_all is deprecated. Please use tf.compat.v1.summary.merge_all instead.\n",
      "\n",
      "training...\n",
      "WARNING:tensorflow:From /Users/antti/opt/anaconda3/envs/py37/lib/python3.7/site-packages/stable_baselines/acktr/acktr.py:306: The name tf.global_variables is deprecated. Please use tf.compat.v1.global_variables instead.\n",
      "\n",
      "WARNING:tensorflow:From /Users/antti/opt/anaconda3/envs/py37/lib/python3.7/site-packages/stable_baselines/acktr/acktr.py:307: The name tf.is_variable_initialized is deprecated. Please use tf.compat.v1.is_variable_initialized instead.\n",
      "\n",
      "WARNING:tensorflow:From /Users/antti/opt/anaconda3/envs/py37/lib/python3.7/site-packages/stable_baselines/acktr/kfac.py:973: The name tf.train.MomentumOptimizer is deprecated. Please use tf.compat.v1.train.MomentumOptimizer instead.\n",
      "\n",
      "WARNING:tensorflow:From /Users/antti/opt/anaconda3/envs/py37/lib/python3.7/site-packages/stable_baselines/acktr/kfac.py:914: The name tf.mod is deprecated. Please use tf.math.mod instead.\n",
      "\n",
      "WARNING:tensorflow:From /Users/antti/opt/anaconda3/envs/py37/lib/python3.7/site-packages/stable_baselines/acktr/kfac.py:621: The name tf.self_adjoint_eig is deprecated. Please use tf.linalg.eigh instead.\n",
      "\n",
      "WARNING:tensorflow:From /Users/antti/opt/anaconda3/envs/py37/lib/python3.7/site-packages/stable_baselines/acktr/acktr.py:319: The name tf.variables_initializer is deprecated. Please use tf.compat.v1.variables_initializer instead.\n",
      "\n",
      "---------------------------------\n",
      "| explained_variance | 0.999    |\n",
      "| fps                | 378      |\n",
      "| nupdates           | 1        |\n",
      "| policy_entropy     | 1.43     |\n",
      "| policy_loss        | 0.00622  |\n",
      "| total_timesteps    | 1680     |\n",
      "| value_loss         | 0.0115   |\n",
      "---------------------------------\n",
      "---------------------------------\n",
      "| explained_variance | 0.999    |\n",
      "| fps                | 1294     |\n",
      "| nupdates           | 1000     |\n",
      "| policy_entropy     | 1.36     |\n",
      "| policy_loss        | 0.00228  |\n",
      "| total_timesteps    | 1680000  |\n",
      "| value_loss         | 0.0136   |\n",
      "---------------------------------\n",
      "---------------------------------\n",
      "| explained_variance | 0.999    |\n",
      "| fps                | 1177     |\n",
      "| nupdates           | 2000     |\n",
      "| policy_entropy     | 1.38     |\n",
      "| policy_loss        | 0.0149   |\n",
      "| total_timesteps    | 3360000  |\n",
      "| value_loss         | 0.0131   |\n",
      "---------------------------------\n",
      "---------------------------------\n",
      "| explained_variance | 0.998    |\n",
      "| fps                | 1147     |\n",
      "| nupdates           | 3000     |\n",
      "| policy_entropy     | 1.36     |\n",
      "| policy_loss        | -0.0278  |\n",
      "| total_timesteps    | 5040000  |\n",
      "| value_loss         | 0.0259   |\n",
      "---------------------------------\n",
      "---------------------------------\n",
      "| explained_variance | 0.998    |\n",
      "| fps                | 1127     |\n",
      "| nupdates           | 4000     |\n",
      "| policy_entropy     | 1.35     |\n",
      "| policy_loss        | -0.0233  |\n",
      "| total_timesteps    | 6720000  |\n",
      "| value_loss         | 0.023    |\n",
      "---------------------------------\n",
      "---------------------------------\n",
      "| explained_variance | 0.999    |\n",
      "| fps                | 1120     |\n",
      "| nupdates           | 5000     |\n",
      "| policy_entropy     | 1.36     |\n",
      "| policy_loss        | 0.0106   |\n",
      "| total_timesteps    | 8400000  |\n",
      "| value_loss         | 0.0196   |\n",
      "---------------------------------\n"
     ]
    }
   ],
   "source": [
    "cc1=Lifecycle(env='unemployment-v3',minimal=False,mortality=mortality,perustulo=False,\n",
    "              randomness=randomness,pinkslip=pinkslip,plotdebug=plotdebug,year=year,version=3)\n",
    "cc1.run_results(debug=debug,steps1=size1,steps2=size2,pop=pop_size,deterministic=deterministic,\n",
    "                train=True,predict=True,batch1=batch1,batch2=batch2,\n",
    "                save=perusmalli_start,plot=False,cont=True,start_from=perusmalli_start,results=perusresults,\n",
    "                callback_minsteps=callback_minsteps,rlmodel=rlmodel,twostage=twostage,\n",
    "                learning_rate=0.25,learning_schedule='linear',log_interval=1000)"
   ]
  },
  {
   "cell_type": "code",
   "execution_count": null,
   "metadata": {
    "scrolled": true
   },
   "outputs": [],
   "source": [
    "#cc1a=Lifecycle(env='unemployment-v2',minimal=False,mortality=mortality,perustulo=False,\n",
    "#              randomness=randomness,pinkslip=pinkslip,plotdebug=plotdebug,year=year)\n",
    "#cc1a.load_sim(perusresults)\n",
    "#cc1a.comp_aggkannusteet(n=50,savefile=tva_savefile)\n",
    "#cc1a.plot_aggkannusteet(tva_savefile)"
   ]
  },
  {
   "cell_type": "code",
   "execution_count": null,
   "metadata": {
    "scrolled": false
   },
   "outputs": [],
   "source": [
    "cc1=Lifecycle(env='unemployment-v3',minimal=False,mortality=mortality,perustulo=False,\n",
    "              randomness=randomness,pinkslip=pinkslip,plotdebug=plotdebug,year=year)\n",
    "cc1.render(load=perusresults,figname='v3_')"
   ]
  },
  {
   "cell_type": "code",
   "execution_count": null,
   "metadata": {},
   "outputs": [],
   "source": []
  },
  {
   "cell_type": "code",
   "execution_count": null,
   "metadata": {
    "scrolled": true
   },
   "outputs": [],
   "source": [
    "for t in set([1,10,20,30,40]):\n",
    "    cc1.episodestats.plot_saldist(t)"
   ]
  },
  {
   "cell_type": "code",
   "execution_count": null,
   "metadata": {
    "scrolled": true
   },
   "outputs": [],
   "source": [
    "cc1=Lifecycle(env='unemployment-v3',minimal=False,mortality=mortality,perustulo=False,\n",
    "              randomness=randomness,pinkslip=pinkslip,plotdebug=plotdebug)\n",
    "cc1.load_sim(perusresults)\n",
    "cc1.episodestats.test_salaries()"
   ]
  },
  {
   "cell_type": "code",
   "execution_count": null,
   "metadata": {},
   "outputs": [],
   "source": [
    "#cc1=Lifecycle(env='unemployment-v2',minimal=False,mortality=mortality,perustulo=False,\n",
    "#              randomness=randomness,pinkslip=pinkslip,plotdebug=plotdebug)\n",
    "#\n",
    "#cc1.env.unit_test_code_decode()"
   ]
  },
  {
   "cell_type": "markdown",
   "metadata": {},
   "source": [
    "# IRR"
   ]
  },
  {
   "cell_type": "code",
   "execution_count": null,
   "metadata": {
    "scrolled": false
   },
   "outputs": [],
   "source": [
    "if True:\n",
    "    cc1=Lifecycle(env='unemployment-v3',minimal=False,mortality=mortality,perustulo=False,\n",
    "                  randomness=randomness,pinkslip=pinkslip,plotdebug=plotdebug)\n",
    "    cc1.load_sim(perusresults)\n",
    "    cc1.episodestats.plot_irr(figname='kela')"
   ]
  },
  {
   "cell_type": "code",
   "execution_count": null,
   "metadata": {},
   "outputs": [],
   "source": [
    "#cc1=Lifecycle(env='unemployment-v2',minimal=False,mortality=mortality,perustulo=False,\n",
    "#              randomness=randomness,pinkslip=pinkslip,plotdebug=plotdebug)\n",
    "#cc1.env.test_comp_npv()"
   ]
  },
  {
   "cell_type": "code",
   "execution_count": null,
   "metadata": {},
   "outputs": [],
   "source": []
  },
  {
   "cell_type": "markdown",
   "metadata": {},
   "source": [
    "# test"
   ]
  },
  {
   "cell_type": "code",
   "execution_count": null,
   "metadata": {},
   "outputs": [],
   "source": [
    "#cc1=Lifecycle(env='unemployment-v2',minimal=False,mortality=mortality,perustulo=False,\n",
    "#              randomness=randomness,pinkslip=pinkslip,plotdebug=plotdebug)\n",
    "#cc1.load_sim(perusresults)\n",
    "#cc1.episodestats.get_vanhempainvapaat()\n",
    "#cc1.episodestats.get_vanhempainvapaat_md()"
   ]
  },
  {
   "cell_type": "code",
   "execution_count": null,
   "metadata": {
    "scrolled": false
   },
   "outputs": [],
   "source": [
    "cc1=Lifecycle(env='unemployment-v3',minimal=False,mortality=mortality,perustulo=False,\n",
    "              randomness=randomness,pinkslip=pinkslip,plotdebug=plotdebug)\n",
    "cc1.load_sim(perusresults)\n",
    "cc1.episodestats.plot_emp_by_gender()"
   ]
  }
 ],
 "metadata": {
  "kernelspec": {
   "display_name": "py37",
   "language": "python",
   "name": "py37"
  },
  "language_info": {
   "codemirror_mode": {
    "name": "ipython",
    "version": 3
   },
   "file_extension": ".py",
   "mimetype": "text/x-python",
   "name": "python",
   "nbconvert_exporter": "python",
   "pygments_lexer": "ipython3",
   "version": "3.7.9"
  }
 },
 "nbformat": 4,
 "nbformat_minor": 2
}
