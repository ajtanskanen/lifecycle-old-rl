{
 "cells": [
  {
   "cell_type": "markdown",
   "metadata": {},
   "source": [
    "# omavastuumaksu"
   ]
  },
  {
   "cell_type": "markdown",
   "metadata": {},
   "source": [
    "\"Omavastuumaksuprosentti\n",
    "Omavastuumaksun suuruus määräytyy työnantajan omavastuumaksuprosentin perusteella. Omavastuumaksuprosentti taas määräytyy työttömyysvakuutusmaksun perusteena olevan palkkasumman perusteella.\n",
    "Omavastuumaksuprosentti kasvaa lineaarisesti työnantajan palkkasumman perusteella. Vuosina 1955–1956 syntyneiden henkilöiden osalta omavastuumaksuprosentti on 0–80 %. Vuonna 1957 tai sen jälkeen syntyneiden henkilöiden osalta omavastuumaksuprosentti on 0–90 %.\n",
    "\"\n",
    "\n",
    "Kustannus on omavastuumaksuprosentti kertaa päivät kertaa henkilön ansiopäiväraha. Kustannus on siis lineaarinen funktio omavastuuprosentista. Jos muutos tulee voimaan 2023, on relevantti maksimiomavastuuprosentti 90.\n",
    "\n",
    "Omavastuumaksut olleet 40-75 me vuodessa. "
   ]
  },
  {
   "cell_type": "markdown",
   "metadata": {},
   "source": [
    "Jos kustannettava muutos on 10 me, on muutos omavastuumaksussa suoraan "
   ]
  },
  {
   "cell_type": "code",
   "execution_count": 4,
   "metadata": {},
   "outputs": [],
   "source": [
    "def uusi(meno,muutos):\n",
    "    return (meno-muutos)/meno*90"
   ]
  },
  {
   "cell_type": "markdown",
   "metadata": {},
   "source": [
    "1 viikko, 55 vuotta täyttäneet (kaikki, ilman työhistoriaehtoa)"
   ]
  },
  {
   "cell_type": "code",
   "execution_count": 6,
   "metadata": {},
   "outputs": [
    {
     "data": {
      "text/plain": [
       "69.75"
      ]
     },
     "execution_count": 6,
     "metadata": {},
     "output_type": "execute_result"
    }
   ],
   "source": [
    "uusi(40,9)"
   ]
  },
  {
   "cell_type": "markdown",
   "metadata": {},
   "source": [
    "2 viikkoa, 55 vuotta täyttäneet (kaikki, ilman työhistoriaehtoa)"
   ]
  },
  {
   "cell_type": "code",
   "execution_count": 7,
   "metadata": {},
   "outputs": [
    {
     "data": {
      "text/plain": [
       "49.50000000000001"
      ]
     },
     "execution_count": 7,
     "metadata": {},
     "output_type": "execute_result"
    }
   ],
   "source": [
    "uusi(40,18)"
   ]
  },
  {
   "cell_type": "code",
   "execution_count": 17,
   "metadata": {},
   "outputs": [
    {
     "data": {
      "text/plain": [
       "62.99999999999999"
      ]
     },
     "execution_count": 17,
     "metadata": {},
     "output_type": "execute_result"
    }
   ],
   "source": [
    "uusi(30,9)"
   ]
  },
  {
   "cell_type": "code",
   "execution_count": 19,
   "metadata": {},
   "outputs": [
    {
     "data": {
      "text/plain": [
       "78.42857142857143"
      ]
     },
     "execution_count": 19,
     "metadata": {},
     "output_type": "execute_result"
    }
   ],
   "source": [
    "uusi(70,9)"
   ]
  },
  {
   "cell_type": "markdown",
   "metadata": {},
   "source": [
    "1 viikko, Yli 55-vuotiaat, 8 vuoden työssäoloehdolla"
   ]
  },
  {
   "cell_type": "code",
   "execution_count": 8,
   "metadata": {},
   "outputs": [
    {
     "data": {
      "text/plain": [
       "77.625"
      ]
     },
     "execution_count": 8,
     "metadata": {},
     "output_type": "execute_result"
    }
   ],
   "source": [
    "uusi(40,5.5)"
   ]
  },
  {
   "cell_type": "markdown",
   "metadata": {},
   "source": [
    "2 viikkoa, Yli 55-vuotiaat, 8 vuoden työssäoloehdolla"
   ]
  },
  {
   "cell_type": "code",
   "execution_count": 9,
   "metadata": {},
   "outputs": [
    {
     "data": {
      "text/plain": [
       "65.25"
      ]
     },
     "execution_count": 9,
     "metadata": {},
     "output_type": "execute_result"
    }
   ],
   "source": [
    "uusi(40,11)"
   ]
  },
  {
   "cell_type": "code",
   "execution_count": 20,
   "metadata": {},
   "outputs": [
    {
     "data": {
      "text/plain": [
       "73.5"
      ]
     },
     "execution_count": 20,
     "metadata": {},
     "output_type": "execute_result"
    }
   ],
   "source": [
    "uusi(30,5.5)"
   ]
  },
  {
   "cell_type": "code",
   "execution_count": 22,
   "metadata": {},
   "outputs": [
    {
     "data": {
      "text/plain": [
       "82.92857142857143"
      ]
     },
     "execution_count": 22,
     "metadata": {},
     "output_type": "execute_result"
    }
   ],
   "source": [
    "uusi(70,5.5)"
   ]
  },
  {
   "cell_type": "code",
   "execution_count": null,
   "metadata": {},
   "outputs": [],
   "source": []
  }
 ],
 "metadata": {
  "kernelspec": {
   "display_name": "Python 3",
   "language": "python",
   "name": "python3"
  },
  "language_info": {
   "codemirror_mode": {
    "name": "ipython",
    "version": 3
   },
   "file_extension": ".py",
   "mimetype": "text/x-python",
   "name": "python",
   "nbconvert_exporter": "python",
   "pygments_lexer": "ipython3",
   "version": "3.7.7"
  }
 },
 "nbformat": 4,
 "nbformat_minor": 4
}
