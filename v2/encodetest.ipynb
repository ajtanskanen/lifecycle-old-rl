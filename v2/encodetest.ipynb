{
 "cells": [
  {
   "cell_type": "code",
   "execution_count": 1,
   "metadata": {},
   "outputs": [
    {
     "name": "stdout",
     "output_type": "stream",
     "text": [
      "WARNING:tensorflow:\n",
      "The TensorFlow contrib module will not be included in TensorFlow 2.0.\n",
      "For more information, please see:\n",
      "  * https://github.com/tensorflow/community/blob/master/rfcs/20180907-contrib-sunset.md\n",
      "  * https://github.com/tensorflow/addons\n",
      "  * https://github.com/tensorflow/io (for I/O related ops)\n",
      "If you depend on functionality not listed there, please file an issue.\n",
      "\n",
      "Populating the interactive namespace from numpy and matplotlib\n"
     ]
    }
   ],
   "source": [
    "import numpy as np\n",
    "import matplotlib.pyplot as plt\n",
    "from lifecycle_rl import Lifecycle\n",
    "\n",
    "%matplotlib inline\n",
    "%pylab inline\n",
    "\n",
    "# varoitukset piiloon (Stable baseline ei ole vielä Tensorflow 2.0-yhteensopiva, ja Tensorflow 1.15 valittaa paljon)\n",
    "# ei taida toimia piilottaminen\n",
    "import warnings\n",
    "warnings.filterwarnings('ignore')\n",
    "\n",
    "# parameters for the simulation\n",
    "# episode = 51 / 205 timesteps (1y/3m timestep)\n",
    "pop_size=20_000 # size of the population to be simulated\n",
    "size1=20_000_000 # number of timesteps in phase 1 training (callback not used)\n",
    "size2=100_000_000 #0_000 # number of timesteps in phase 2 training (callback is used to save the best results)\n",
    "size3=20_000_000 # number of timesteps in phase 1 training (callback not used) for policy changes\n",
    "batch1=1_00 # size of minibatch in phase 1 as number of episodes\n",
    "batch2=9_00  # size of minibatch in phase 1 as number of episodes\n",
    "callback_minsteps=batch2 # how many episodes callback needs \n",
    "deterministic=True # use deterministic prediction (True) or probabilitic prediction (False)\n",
    "mortality=False # include mortality in computations\n",
    "randomness=True # include externally given, random state-transitions (parental leaves, disability, lay-offs) \n",
    "pinkslip=True # include lay-offs at 5 percent level each year\n",
    "rlmodel='acktr' # use ACKTR algorithm\n",
    "twostage=False # ajataan kahdessa vaiheessa vai ei\n",
    "perusmalli_start='best/v2_malli_base_dev'\n",
    "perusmalli='best/v2_malli_base_dev'\n",
    "perusresults='results/v2_malli_base_dev_stoch'\n",
    "prefmalli='best/v2_malli_perus_prefnoise'\n",
    "prefresults='results/v2_perus_results_prefnoise'\n",
    "debug=False # jos True, niin ajetaan vain yhdellä prosessilla. Nopeampi debugata.\n",
    "plotdebug=False # tulostetaanko rivi riviltä mitä tapahtuu"
   ]
  },
  {
   "cell_type": "code",
   "execution_count": 2,
   "metadata": {
    "scrolled": false
   },
   "outputs": [
    {
     "name": "stdout",
     "output_type": "stream",
     "text": [
      "No mortality included\n",
      "Parameters of lifecycle:\n",
      "timestep 0.25\n",
      "gamma 0.9793703613355593 (0.9200000000000003 per anno)\n",
      "min_age 20\n",
      "max_age 70\n",
      "min_retirementage 63.5\n",
      "max_retirementage 68\n",
      "ansiopvraha_kesto300 300\n",
      "ansiopvraha_kesto400 400\n",
      "ansiopvraha_toe 0.5\n",
      "perustulo False\n",
      "karenssi_kesto 0.25\n",
      "mortality False\n",
      "randomness True\n",
      "include_putki True\n",
      "include_pinkslip True\n",
      "sigma_reduction True\n",
      "plotdebug False\n",
      "\n",
      "(40,)\n",
      "pension: 1870.5154579023642 vs 1870.5154579023656\n",
      "(40,)\n",
      "old_wage: 8735.849704305556 vs 8735.849704305558\n",
      "next_wage: 15858.629008943108 vs 15858.629008943102\n",
      "(40,)\n",
      "(40,)\n",
      "time_in_state: 15.79983082282446 vs 15.799830822824457\n",
      "(40,)\n",
      "unempwage_basis: 11103.717173260002 vs 11103.71717326\n",
      "(40,)\n",
      "pension: 26.527693083444603 vs 26.52769308344432\n",
      "(40,)\n",
      "next_wage: 12057.901168873917 vs 12057.901168873923\n",
      "(40,)\n",
      "next_wage: 132.03677437925165 vs 132.03677437925217\n",
      "unempwage: 2841.8335874903723 vs 2841.8335874903714\n",
      "(40,)\n",
      "pension: 10072.972586765436 vs 10072.972586765438\n",
      "unempwage_basis: 13536.90064582964 vs 13536.900645829643\n",
      "(40,)\n",
      "unempwage: 15862.786602402359 vs 15862.78660240236\n"
     ]
    }
   ],
   "source": [
    "cc1=Lifecycle(env='unemployment-v2',minimal=False,mortality=mortality,perustulo=False,\n",
    "              randomness=randomness,pinkslip=pinkslip,plotdebug=plotdebug)\n",
    "\n",
    "cc1.env.unit_test_code_decode()"
   ]
  },
  {
   "cell_type": "code",
   "execution_count": null,
   "metadata": {},
   "outputs": [],
   "source": []
  }
 ],
 "metadata": {
  "kernelspec": {
   "display_name": "Python 3",
   "language": "python",
   "name": "python3"
  },
  "language_info": {
   "codemirror_mode": {
    "name": "ipython",
    "version": 3
   },
   "file_extension": ".py",
   "mimetype": "text/x-python",
   "name": "python",
   "nbconvert_exporter": "python",
   "pygments_lexer": "ipython3",
   "version": "3.7.7"
  }
 },
 "nbformat": 4,
 "nbformat_minor": 4
}
