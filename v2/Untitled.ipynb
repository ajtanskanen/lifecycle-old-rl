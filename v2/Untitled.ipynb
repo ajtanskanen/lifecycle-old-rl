{
 "cells": [
  {
   "cell_type": "code",
   "execution_count": 3,
   "metadata": {},
   "outputs": [],
   "source": [
    "tyohistoria_vaatimus500=10\n",
    "tyohistoria_vaatimus=3\n",
    "ansiopvraha_kesto500=500\n",
    "ansiopvraha_kesto400=400\n",
    "ansiopvraha_kesto300=300\n",
    "minage_500=58"
   ]
  },
  {
   "cell_type": "code",
   "execution_count": 4,
   "metadata": {},
   "outputs": [],
   "source": [
    "def paivarahapaivia_jaljella(kesto,tyoura,age):\n",
    "    if ((tyoura>=tyohistoria_vaatimus500 and kesto>=ansiopvraha_kesto500 and age>=minage_500) \\\n",
    "        or (tyoura>=tyohistoria_vaatimus and kesto>=ansiopvraha_kesto400 and (age<minage_500 or tyoura<tyohistoria_vaatimus500)) \\\n",
    "        or (tyoura<tyohistoria_vaatimus and kesto>=ansiopvraha_kesto300)):    \n",
    "        return False\n",
    "    else:\n",
    "        return True\n"
   ]
  },
  {
   "cell_type": "code",
   "execution_count": 20,
   "metadata": {},
   "outputs": [
    {
     "data": {
      "text/plain": [
       "False"
      ]
     },
     "execution_count": 20,
     "metadata": {},
     "output_type": "execute_result"
    }
   ],
   "source": [
    "paivarahapaivia_jaljella(405,11,57)"
   ]
  },
  {
   "cell_type": "code",
   "execution_count": null,
   "metadata": {},
   "outputs": [],
   "source": []
  }
 ],
 "metadata": {
  "kernelspec": {
   "display_name": "Python 3",
   "language": "python",
   "name": "python3"
  },
  "language_info": {
   "codemirror_mode": {
    "name": "ipython",
    "version": 3
   },
   "file_extension": ".py",
   "mimetype": "text/x-python",
   "name": "python",
   "nbconvert_exporter": "python",
   "pygments_lexer": "ipython3",
   "version": "3.7.7"
  }
 },
 "nbformat": 4,
 "nbformat_minor": 4
}
