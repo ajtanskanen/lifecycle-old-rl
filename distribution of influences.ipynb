{
 "cells": [
  {
   "cell_type": "markdown",
   "metadata": {},
   "source": [
    "# Distribution of influences"
   ]
  },
  {
   "cell_type": "markdown",
   "metadata": {},
   "source": [
    "To get a grip on how much randomness influences the results, we run the same model lots of times and compare the results."
   ]
  },
  {
   "cell_type": "code",
   "execution_count": 1,
   "metadata": {},
   "outputs": [],
   "source": [
    "# for Colab, install fin_benefits and unemployment-gym from Github\n",
    "#!pip install -q git+https://github.com/ajtanskanen/benefits.git  \n",
    "#!pip install -q git+https://github.com/ajtanskanen/econogym.git\n",
    "#!pip install -q git+https://github.com/ajtanskanen/lifecycle-rl.git\n",
    "\n",
    "# and then restart kernel\n",
    "  \n",
    "  # For a specific version:\n",
    "#!pip install tensorflow==1.15\n",
    "#!pip install stable-baselines==2.8\n",
    "  \n",
    "# restart kernel after running pip's"
   ]
  },
  {
   "cell_type": "markdown",
   "metadata": {},
   "source": [
    "Then load all modules and set parameters for simulations."
   ]
  },
  {
   "cell_type": "code",
   "execution_count": 2,
   "metadata": {
    "scrolled": false
   },
   "outputs": [
    {
     "name": "stdout",
     "output_type": "stream",
     "text": [
      "WARNING:tensorflow:\n",
      "The TensorFlow contrib module will not be included in TensorFlow 2.0.\n",
      "For more information, please see:\n",
      "  * https://github.com/tensorflow/community/blob/master/rfcs/20180907-contrib-sunset.md\n",
      "  * https://github.com/tensorflow/addons\n",
      "  * https://github.com/tensorflow/io (for I/O related ops)\n",
      "If you depend on functionality not listed there, please file an issue.\n",
      "\n",
      "Populating the interactive namespace from numpy and matplotlib\n"
     ]
    }
   ],
   "source": [
    "import numpy as np\n",
    "import matplotlib.pyplot as plt\n",
    "from lifecycle_rl import Lifecycle\n",
    "\n",
    "%matplotlib inline\n",
    "%pylab inline\n",
    "\n",
    "# varoitukset piiloon (Stable baseline ei ole vielä Tensorflow 2.0-yhteensopiva, ja Tensorflow 1.15 valittaa paljon)\n",
    "# ei taida toimia piilottaminen\n",
    "import warnings\n",
    "warnings.filterwarnings('ignore')\n",
    "\n",
    "# parameters for the simulation\n",
    "# episode = 51 / 205 timesteps (1y/3m timestep)\n",
    "pop_size=10_000 # size of the population to be simulated\n",
    "size1=5_000_000 #0_000 # number of timesteps in phase 1 training (callback not used)\n",
    "size2=100 #0_000 # number of timesteps in phase 2 training (callback is used to save the best results)\n",
    "size3=100 # number of timesteps in phase 1 training (callback not used) for policy changes\n",
    "batch1=1 # size of minibatch in phase 1 as number of episodes\n",
    "batch2=9_00  # size of minibatch in phase 1 as number of episodes\n",
    "callback_minsteps=batch2 # how many episodes callback needs \n",
    "deterministic=False # use deterministic prediction (True) or probabilitic prediction (False)\n",
    "mortality=False # include mortality in computations\n",
    "randomness=True # include externally given, random state-transitions (parental leaves, disability, lay-offs) \n",
    "pinkslip=True # include lay-offs at 5 percent level each year\n",
    "rlmodel='acktr' # use ACKTR algorithm\n",
    "twostage=False # ajataan kahdessa vaiheessa vai ei\n",
    "perusmalli='best/malli_perus3'"
   ]
  },
  {
   "cell_type": "markdown",
   "metadata": {
    "scrolled": false
   },
   "source": [
    "# Baseline\n",
    "\n",
    "Lasketaan työllisyysasteet nykymallissa."
   ]
  },
  {
   "cell_type": "code",
   "execution_count": null,
   "metadata": {
    "scrolled": true
   },
   "outputs": [
    {
     "name": "stdout",
     "output_type": "stream",
     "text": [
      "No mortality included\n",
      "Parameters of lifecycle:\n",
      "timestep 0.25\n",
      "gamma 0.9793703613355593 (0.9200000000000003 per anno)\n",
      "min_age 20\n",
      "max_age 70\n",
      "min_retirementage 63.5\n",
      "max_retirementage 68.5\n",
      "ansiopvraha_kesto300 None\n",
      "ansiopvraha_kesto400 None\n",
      "ansiopvraha_toe None\n",
      "perustulo False\n",
      "karenssi_kesto 0.25\n",
      "mortality False\n",
      "randomness True\n",
      "include_putki None\n",
      "include_pinkslip True\n",
      "step 0.25\n",
      "\n",
      "train...\n",
      "phase 1\n",
      "batch 1 learning rate 0.125 scaled 0.125\n",
      "WARNING:tensorflow:From /Users/antti/miniconda3/lib/python3.7/site-packages/stable_baselines/common/tf_util.py:57: The name tf.ConfigProto is deprecated. Please use tf.compat.v1.ConfigProto instead.\n",
      "\n",
      "WARNING:tensorflow:From /Users/antti/miniconda3/lib/python3.7/site-packages/stable_baselines/common/tf_util.py:66: The name tf.Session is deprecated. Please use tf.compat.v1.Session instead.\n",
      "\n",
      "WARNING:tensorflow:From /Users/antti/miniconda3/lib/python3.7/site-packages/stable_baselines/common/policies.py:115: The name tf.variable_scope is deprecated. Please use tf.compat.v1.variable_scope instead.\n",
      "\n",
      "WARNING:tensorflow:From /Users/antti/miniconda3/lib/python3.7/site-packages/stable_baselines/common/input.py:25: The name tf.placeholder is deprecated. Please use tf.compat.v1.placeholder instead.\n",
      "\n",
      "WARNING:tensorflow:From /Users/antti/miniconda3/lib/python3.7/site-packages/stable_baselines/common/policies.py:562: flatten (from tensorflow.python.layers.core) is deprecated and will be removed in a future version.\n",
      "Instructions for updating:\n",
      "Use keras.layers.flatten instead.\n",
      "WARNING:tensorflow:From /Users/antti/miniconda3/lib/python3.7/site-packages/tensorflow_core/python/layers/core.py:332: Layer.apply (from tensorflow.python.keras.engine.base_layer) is deprecated and will be removed in a future version.\n",
      "Instructions for updating:\n",
      "Please use `layer.__call__` method instead.\n",
      "WARNING:tensorflow:From /Users/antti/miniconda3/lib/python3.7/site-packages/stable_baselines/a2c/utils.py:156: The name tf.get_variable is deprecated. Please use tf.compat.v1.get_variable instead.\n",
      "\n",
      "WARNING:tensorflow:From /Users/antti/miniconda3/lib/python3.7/site-packages/stable_baselines/common/distributions.py:323: The name tf.random_uniform is deprecated. Please use tf.random.uniform instead.\n",
      "\n",
      "WARNING:tensorflow:From /Users/antti/miniconda3/lib/python3.7/site-packages/stable_baselines/common/distributions.py:324: The name tf.log is deprecated. Please use tf.math.log instead.\n",
      "\n",
      "WARNING:tensorflow:From /Users/antti/miniconda3/lib/python3.7/site-packages/stable_baselines/common/tf_util.py:312: The name tf.get_collection is deprecated. Please use tf.compat.v1.get_collection instead.\n",
      "\n",
      "WARNING:tensorflow:From /Users/antti/miniconda3/lib/python3.7/site-packages/stable_baselines/common/tf_util.py:312: The name tf.GraphKeys is deprecated. Please use tf.compat.v1.GraphKeys instead.\n",
      "\n",
      "WARNING:tensorflow:From /Users/antti/miniconda3/lib/python3.7/site-packages/stable_baselines/acktr/acktr.py:158: The name tf.random_normal is deprecated. Please use tf.random.normal instead.\n",
      "\n",
      "WARNING:tensorflow:From /Users/antti/miniconda3/lib/python3.7/site-packages/stable_baselines/acktr/acktr.py:163: The name tf.summary.scalar is deprecated. Please use tf.compat.v1.summary.scalar instead.\n",
      "\n",
      "WARNING:tensorflow:From /Users/antti/miniconda3/lib/python3.7/site-packages/stable_baselines/acktr/acktr.py:178: The name tf.summary.histogram is deprecated. Please use tf.compat.v1.summary.histogram instead.\n",
      "\n",
      "WARNING:tensorflow:From /Users/antti/miniconda3/lib/python3.7/site-packages/tensorflow_core/python/ops/math_grad.py:1375: where (from tensorflow.python.ops.array_ops) is deprecated and will be removed in a future version.\n",
      "Instructions for updating:\n",
      "Use tf.where in 2.0, which has the same broadcast rule as np.where\n",
      "WARNING:tensorflow:From /Users/antti/miniconda3/lib/python3.7/site-packages/stable_baselines/acktr/kfac.py:97: The name tf.get_default_graph is deprecated. Please use tf.compat.v1.get_default_graph instead.\n",
      "\n",
      "WARNING:tensorflow:From /Users/antti/miniconda3/lib/python3.7/site-packages/stable_baselines/acktr/kfac.py:293: The name tf.diag is deprecated. Please use tf.linalg.tensor_diag instead.\n",
      "\n",
      "WARNING:tensorflow:From /Users/antti/miniconda3/lib/python3.7/site-packages/stable_baselines/acktr/kfac.py:541: The name tf.assign is deprecated. Please use tf.compat.v1.assign instead.\n",
      "\n",
      "WARNING:tensorflow:From /Users/antti/miniconda3/lib/python3.7/site-packages/stable_baselines/acktr/kfac.py:543: The name tf.assign_add is deprecated. Please use tf.compat.v1.assign_add instead.\n",
      "\n",
      "WARNING:tensorflow:From /Users/antti/miniconda3/lib/python3.7/site-packages/stable_baselines/acktr/acktr.py:203: The name tf.global_variables_initializer is deprecated. Please use tf.compat.v1.global_variables_initializer instead.\n",
      "\n",
      "WARNING:tensorflow:From /Users/antti/miniconda3/lib/python3.7/site-packages/stable_baselines/acktr/acktr.py:205: The name tf.summary.merge_all is deprecated. Please use tf.compat.v1.summary.merge_all instead.\n",
      "\n",
      "training...\n",
      "WARNING:tensorflow:From /Users/antti/miniconda3/lib/python3.7/site-packages/stable_baselines/common/base_class.py:1035: The name tf.summary.FileWriter is deprecated. Please use tf.compat.v1.summary.FileWriter instead.\n",
      "\n",
      "WARNING:tensorflow:From /Users/antti/miniconda3/lib/python3.7/site-packages/stable_baselines/acktr/acktr.py:287: The name tf.global_variables is deprecated. Please use tf.compat.v1.global_variables instead.\n",
      "\n",
      "WARNING:tensorflow:From /Users/antti/miniconda3/lib/python3.7/site-packages/stable_baselines/acktr/acktr.py:288: The name tf.is_variable_initialized is deprecated. Please use tf.compat.v1.is_variable_initialized instead.\n",
      "\n",
      "WARNING:tensorflow:From /Users/antti/miniconda3/lib/python3.7/site-packages/stable_baselines/acktr/kfac.py:968: The name tf.train.MomentumOptimizer is deprecated. Please use tf.compat.v1.train.MomentumOptimizer instead.\n",
      "\n",
      "WARNING:tensorflow:From /Users/antti/miniconda3/lib/python3.7/site-packages/stable_baselines/acktr/kfac.py:909: The name tf.mod is deprecated. Please use tf.math.mod instead.\n",
      "\n",
      "WARNING:tensorflow:From /Users/antti/miniconda3/lib/python3.7/site-packages/stable_baselines/acktr/kfac.py:616: The name tf.self_adjoint_eig is deprecated. Please use tf.linalg.eigh instead.\n",
      "\n",
      "WARNING:tensorflow:From /Users/antti/miniconda3/lib/python3.7/site-packages/stable_baselines/acktr/acktr.py:300: The name tf.variables_initializer is deprecated. Please use tf.compat.v1.variables_initializer instead.\n",
      "\n",
      "WARNING:tensorflow:From /Users/antti/miniconda3/lib/python3.7/site-packages/stable_baselines/a2c/utils.py:581: The name tf.Summary is deprecated. Please use tf.compat.v1.Summary instead.\n",
      "\n",
      "---------------------------------\n",
      "| explained_variance | 0.644    |\n",
      "| fps                | 1221     |\n",
      "| nupdates           | 1        |\n",
      "| policy_entropy     | 0.6      |\n",
      "| policy_loss        | 0.0727   |\n",
      "| total_timesteps    | 0        |\n",
      "| value_loss         | 4.46     |\n",
      "---------------------------------\n",
      "WARNING:tensorflow:From /Users/antti/miniconda3/lib/python3.7/site-packages/stable_baselines/acktr/acktr.py:251: The name tf.RunOptions is deprecated. Please use tf.compat.v1.RunOptions instead.\n",
      "\n",
      "WARNING:tensorflow:From /Users/antti/miniconda3/lib/python3.7/site-packages/stable_baselines/acktr/acktr.py:252: The name tf.RunMetadata is deprecated. Please use tf.compat.v1.RunMetadata instead.\n",
      "\n",
      "---------------------------------\n",
      "| explained_variance | 0.854    |\n",
      "| fps                | 2011     |\n",
      "| nupdates           | 10       |\n",
      "| policy_entropy     | 0.481    |\n",
      "| policy_loss        | 0.917    |\n",
      "| total_timesteps    | 22041    |\n",
      "| value_loss         | 8.48     |\n",
      "---------------------------------\n",
      "---------------------------------\n",
      "| explained_variance | 0.733    |\n",
      "| fps                | 1857     |\n",
      "| nupdates           | 20       |\n",
      "| policy_entropy     | 0.495    |\n",
      "| policy_loss        | -0.961   |\n",
      "| total_timesteps    | 46531    |\n",
      "| value_loss         | 6.52     |\n",
      "---------------------------------\n",
      "---------------------------------\n",
      "| explained_variance | 0.918    |\n",
      "| fps                | 1806     |\n",
      "| nupdates           | 30       |\n",
      "| policy_entropy     | 0.563    |\n",
      "| policy_loss        | 0.157    |\n",
      "| total_timesteps    | 71021    |\n",
      "| value_loss         | 0.95     |\n",
      "---------------------------------\n"
     ]
    },
    {
     "name": "stdout",
     "output_type": "stream",
     "text": [
      "---------------------------------\n",
      "| explained_variance | 0.886    |\n",
      "| fps                | 1710     |\n",
      "| nupdates           | 40       |\n",
      "| policy_entropy     | 0.561    |\n",
      "| policy_loss        | 0.175    |\n",
      "| total_timesteps    | 95511    |\n",
      "| value_loss         | 0.992    |\n",
      "---------------------------------\n",
      "done\n",
      "predict...\n",
      "simulating  best/malli_perus3_v100\n",
      "predicting...\n"
     ]
    },
    {
     "data": {
      "application/vnd.jupyter.widget-view+json": {
       "model_id": "1fe9f6b9d31847e5a2f30b43e24eb506",
       "version_major": 2,
       "version_minor": 0
      },
      "text/plain": [
       "HBox(children=(IntProgress(value=0, description='Population', max=1000, style=ProgressStyle(description_width=…"
      ]
     },
     "metadata": {},
     "output_type": "display_data"
    },
    {
     "name": "stdout",
     "output_type": "stream",
     "text": [
      "train...\n",
      "phase 1\n",
      "batch 1 learning rate 0.125 scaled 0.125\n",
      "training...\n",
      "---------------------------------\n",
      "| explained_variance | 0.895    |\n",
      "| fps                | 1275     |\n",
      "| nupdates           | 1        |\n",
      "| policy_entropy     | 0.644    |\n",
      "| policy_loss        | -0.0191  |\n",
      "| total_timesteps    | 0        |\n",
      "| value_loss         | 2.23     |\n",
      "---------------------------------\n",
      "---------------------------------\n",
      "| explained_variance | 0.871    |\n",
      "| fps                | 2028     |\n",
      "| nupdates           | 10       |\n",
      "| policy_entropy     | 0.357    |\n",
      "| policy_loss        | 0.0107   |\n",
      "| total_timesteps    | 22041    |\n",
      "| value_loss         | 2.44     |\n",
      "---------------------------------\n",
      "---------------------------------\n",
      "| explained_variance | -0.116   |\n",
      "| fps                | 1866     |\n",
      "| nupdates           | 20       |\n",
      "| policy_entropy     | 0.299    |\n",
      "| policy_loss        | -2.32    |\n",
      "| total_timesteps    | 46531    |\n",
      "| value_loss         | 71.4     |\n",
      "---------------------------------\n",
      "---------------------------------\n",
      "| explained_variance | 0.662    |\n",
      "| fps                | 1803     |\n",
      "| nupdates           | 30       |\n",
      "| policy_entropy     | 0.318    |\n",
      "| policy_loss        | -1.26    |\n",
      "| total_timesteps    | 71021    |\n",
      "| value_loss         | 22.6     |\n",
      "---------------------------------\n",
      "---------------------------------\n",
      "| explained_variance | 0.88     |\n",
      "| fps                | 1775     |\n",
      "| nupdates           | 40       |\n",
      "| policy_entropy     | 0.402    |\n",
      "| policy_loss        | -0.551   |\n",
      "| total_timesteps    | 95511    |\n",
      "| value_loss         | 5.1      |\n",
      "---------------------------------\n",
      "done\n",
      "predict...\n",
      "simulating  best/malli_perus3_v101\n",
      "predicting...\n"
     ]
    },
    {
     "data": {
      "application/vnd.jupyter.widget-view+json": {
       "model_id": "75e7c8562f0b4989a00cc384988f87e2",
       "version_major": 2,
       "version_minor": 0
      },
      "text/plain": [
       "HBox(children=(IntProgress(value=0, description='Population', max=1000, style=ProgressStyle(description_width=…"
      ]
     },
     "metadata": {},
     "output_type": "display_data"
    },
    {
     "name": "stdout",
     "output_type": "stream",
     "text": [
      "train...\n",
      "phase 1\n",
      "batch 1 learning rate 0.125 scaled 0.125\n",
      "training...\n",
      "---------------------------------\n",
      "| explained_variance | 0.745    |\n",
      "| fps                | 1124     |\n",
      "| nupdates           | 1        |\n",
      "| policy_entropy     | 0.62     |\n",
      "| policy_loss        | -0.0457  |\n",
      "| total_timesteps    | 0        |\n",
      "| value_loss         | 6.22     |\n",
      "---------------------------------\n",
      "---------------------------------\n",
      "| explained_variance | 0.888    |\n",
      "| fps                | 1794     |\n",
      "| nupdates           | 10       |\n",
      "| policy_entropy     | 0.714    |\n",
      "| policy_loss        | 0.347    |\n",
      "| total_timesteps    | 22041    |\n",
      "| value_loss         | 2.29     |\n",
      "---------------------------------\n",
      "---------------------------------\n",
      "| explained_variance | 0.561    |\n",
      "| fps                | 1703     |\n",
      "| nupdates           | 20       |\n",
      "| policy_entropy     | 0.616    |\n",
      "| policy_loss        | -5.6     |\n",
      "| total_timesteps    | 46531    |\n",
      "| value_loss         | 84.8     |\n",
      "---------------------------------\n",
      "---------------------------------\n",
      "| explained_variance | 0.7      |\n",
      "| fps                | 1629     |\n",
      "| nupdates           | 30       |\n",
      "| policy_entropy     | 0.661    |\n",
      "| policy_loss        | -3.88    |\n",
      "| total_timesteps    | 71021    |\n",
      "| value_loss         | 37.7     |\n",
      "---------------------------------\n",
      "---------------------------------\n",
      "| explained_variance | 0.845    |\n",
      "| fps                | 1559     |\n",
      "| nupdates           | 40       |\n",
      "| policy_entropy     | 0.621    |\n",
      "| policy_loss        | -1.85    |\n",
      "| total_timesteps    | 95511    |\n",
      "| value_loss         | 12.7     |\n",
      "---------------------------------\n",
      "done\n",
      "predict...\n",
      "simulating  best/malli_perus3_v102\n",
      "predicting...\n"
     ]
    },
    {
     "data": {
      "application/vnd.jupyter.widget-view+json": {
       "model_id": "6ab6de04e6fe40a1b59bd202d7c088e0",
       "version_major": 2,
       "version_minor": 0
      },
      "text/plain": [
       "HBox(children=(IntProgress(value=0, description='Population', max=1000, style=ProgressStyle(description_width=…"
      ]
     },
     "metadata": {},
     "output_type": "display_data"
    },
    {
     "name": "stdout",
     "output_type": "stream",
     "text": [
      "train...\n",
      "phase 1\n",
      "batch 1 learning rate 0.125 scaled 0.125\n",
      "training...\n",
      "---------------------------------\n",
      "| explained_variance | 0.686    |\n",
      "| fps                | 1085     |\n",
      "| nupdates           | 1        |\n",
      "| policy_entropy     | 0.648    |\n",
      "| policy_loss        | 0.0763   |\n",
      "| total_timesteps    | 0        |\n",
      "| value_loss         | 5.05     |\n",
      "---------------------------------\n",
      "---------------------------------\n",
      "| explained_variance | 0.805    |\n",
      "| fps                | 1959     |\n",
      "| nupdates           | 10       |\n",
      "| policy_entropy     | 0.534    |\n",
      "| policy_loss        | 0.364    |\n",
      "| total_timesteps    | 22041    |\n",
      "| value_loss         | 2.89     |\n",
      "---------------------------------\n",
      "---------------------------------\n",
      "| explained_variance | 0.571    |\n",
      "| fps                | 1819     |\n",
      "| nupdates           | 20       |\n",
      "| policy_entropy     | 0.584    |\n",
      "| policy_loss        | -1.1     |\n",
      "| total_timesteps    | 46531    |\n",
      "| value_loss         | 6.47     |\n",
      "---------------------------------\n",
      "---------------------------------\n",
      "| explained_variance | 0.92     |\n",
      "| fps                | 1784     |\n",
      "| nupdates           | 30       |\n",
      "| policy_entropy     | 0.624    |\n",
      "| policy_loss        | 0.392    |\n",
      "| total_timesteps    | 71021    |\n",
      "| value_loss         | 1.08     |\n",
      "---------------------------------\n",
      "---------------------------------\n",
      "| explained_variance | 0.945    |\n",
      "| fps                | 1754     |\n",
      "| nupdates           | 40       |\n",
      "| policy_entropy     | 0.636    |\n",
      "| policy_loss        | 0.0942   |\n",
      "| total_timesteps    | 95511    |\n",
      "| value_loss         | 0.826    |\n",
      "---------------------------------\n",
      "done\n",
      "predict...\n",
      "simulating  best/malli_perus3_v103\n",
      "predicting...\n"
     ]
    },
    {
     "data": {
      "application/vnd.jupyter.widget-view+json": {
       "model_id": "080038622f0346ee84aefa269e836c81",
       "version_major": 2,
       "version_minor": 0
      },
      "text/plain": [
       "HBox(children=(IntProgress(value=0, description='Population', max=1000, style=ProgressStyle(description_width=…"
      ]
     },
     "metadata": {},
     "output_type": "display_data"
    },
    {
     "name": "stdout",
     "output_type": "stream",
     "text": [
      "train...\n",
      "phase 1\n",
      "batch 1 learning rate 0.125 scaled 0.125\n",
      "training...\n",
      "---------------------------------\n",
      "| explained_variance | 0.681    |\n",
      "| fps                | 1257     |\n",
      "| nupdates           | 1        |\n",
      "| policy_entropy     | 0.639    |\n",
      "| policy_loss        | 0.0368   |\n",
      "| total_timesteps    | 0        |\n",
      "| value_loss         | 4.53     |\n",
      "---------------------------------\n",
      "---------------------------------\n",
      "| explained_variance | 0.834    |\n",
      "| fps                | 1961     |\n",
      "| nupdates           | 10       |\n",
      "| policy_entropy     | 0.655    |\n",
      "| policy_loss        | 0.365    |\n",
      "| total_timesteps    | 22041    |\n",
      "| value_loss         | 2.84     |\n",
      "---------------------------------\n",
      "---------------------------------\n",
      "| explained_variance | 0.0267   |\n",
      "| fps                | 1673     |\n",
      "| nupdates           | 20       |\n",
      "| policy_entropy     | 0.626    |\n",
      "| policy_loss        | -5.81    |\n",
      "| total_timesteps    | 46531    |\n",
      "| value_loss         | 89.3     |\n",
      "---------------------------------\n",
      "---------------------------------\n",
      "| explained_variance | 0.541    |\n",
      "| fps                | 1492     |\n",
      "| nupdates           | 30       |\n",
      "| policy_entropy     | 0.656    |\n",
      "| policy_loss        | -3.44    |\n",
      "| total_timesteps    | 71021    |\n",
      "| value_loss         | 36       |\n",
      "---------------------------------\n",
      "---------------------------------\n",
      "| explained_variance | 0.8      |\n",
      "| fps                | 1511     |\n",
      "| nupdates           | 40       |\n",
      "| policy_entropy     | 0.613    |\n",
      "| policy_loss        | -1.79    |\n",
      "| total_timesteps    | 95511    |\n",
      "| value_loss         | 14.6     |\n",
      "---------------------------------\n",
      "done\n",
      "predict...\n",
      "simulating  best/malli_perus3_v104\n"
     ]
    }
   ],
   "source": [
    "cc1=Lifecycle(env='unemployment-v1',minimal=False,mortality=mortality,perustulo=False,\n",
    "              randomness=randomness,pinkslip=pinkslip,plotdebug=False)\n",
    "cc1.explain()\n",
    "cc1.run_distrib(n=10,debug=False,steps1=size1,steps2=size2,pop=pop_size,deterministic=deterministic,\n",
    "                train=True,predict=True,batch1=batch1,batch2=batch2,\n",
    "                save=perusmalli,plot=True,cont=True,start_from=perusmalli,results='results/distrib_base',\n",
    "                callback_minsteps=callback_minsteps,rlmodel=rlmodel,twostage=twostage)"
   ]
  },
  {
   "cell_type": "code",
   "execution_count": null,
   "metadata": {},
   "outputs": [],
   "source": [
    "#cc1.render_distrib(load='results/perus_results2')"
   ]
  },
  {
   "cell_type": "code",
   "execution_count": null,
   "metadata": {},
   "outputs": [],
   "source": []
  },
  {
   "cell_type": "markdown",
   "metadata": {},
   "source": [
    "# Työttömyysputken poisto\n",
    "\n",
    "Työttömyysputkelle meneminen on usein hyvin suosittua elinkaarimalleissa. Tarkastellaan millainen työllisyysvaikutus on putken poistamisella."
   ]
  },
  {
   "cell_type": "code",
   "execution_count": null,
   "metadata": {
    "scrolled": true
   },
   "outputs": [],
   "source": [
    "cc1_putki=Lifecycle(env='unemployment-v1',minimal=False,include_putki=False,mortality=mortality,\n",
    "                    perustulo=False,randomness=randomness)\n",
    "cc1_putki.run_distrib(n=5,debug=False,steps1=size1,steps2=size2,pop=pop_size,deterministic=deterministic,\n",
    "                train=True,predict=True,batch1=batch1,batch2=batch2,\n",
    "                save=perusmalli,plot=True,cont=True,start_from=perusmalli,results='results/distrib_poisto',\n",
    "                callback_minsteps=callback_minsteps,rlmodel=rlmodel,twostage=twostage)\n"
   ]
  },
  {
   "cell_type": "code",
   "execution_count": null,
   "metadata": {
    "scrolled": true
   },
   "outputs": [],
   "source": [
    "cc1_putki.render_distrib(load='results/putki_results')\n",
    "cc1_putki.compare_simstats('results/putki_results','results/putki_results')                    "
   ]
  }
 ],
 "metadata": {
  "kernelspec": {
   "display_name": "Python 3",
   "language": "python",
   "name": "python3"
  },
  "language_info": {
   "codemirror_mode": {
    "name": "ipython",
    "version": 3
   },
   "file_extension": ".py",
   "mimetype": "text/x-python",
   "name": "python",
   "nbconvert_exporter": "python",
   "pygments_lexer": "ipython3",
   "version": "3.7.0"
  }
 },
 "nbformat": 4,
 "nbformat_minor": 2
}
