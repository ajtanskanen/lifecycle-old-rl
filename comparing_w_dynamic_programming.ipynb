{
 "cells": [
  {
   "cell_type": "markdown",
   "metadata": {},
   "source": [
    "# Vertailu: Reinforced learning vs Dynamic programming\n",
    "\n",
    "Dynaamisella ohjelmoinnilla voi ratkaista elinkaarimalleja. Tässä verrataan dynaamisella ohjelmoinnilla ja RL:llä saatavia ratkaisuja yksinkertaisessa mallissa.\n",
    "\n",
    "Tarkastellussa elinkaarimallissa _unemployment-v0_ on huomioitu vain kolme tilaa: työssä, työtön ja vanhuuseläkkeellä. Jokainen henkilö tekee vuosittain päätöksen työhönosallistumisesta ja alimman vanhuuseläkeiän täyttämisen jälkeen valinnan työn, työttömyyden ja vanhuuseläkkeen välillä. \n",
    "\n",
    "Mallissa palkat pidetään samoina läpi koko elinkaaren. "
   ]
  },
  {
   "cell_type": "code",
   "execution_count": 1,
   "metadata": {},
   "outputs": [
    {
     "name": "stdout",
     "output_type": "stream",
     "text": [
      "WARNING:tensorflow:\n",
      "The TensorFlow contrib module will not be included in TensorFlow 2.0.\n",
      "For more information, please see:\n",
      "  * https://github.com/tensorflow/community/blob/master/rfcs/20180907-contrib-sunset.md\n",
      "  * https://github.com/tensorflow/addons\n",
      "  * https://github.com/tensorflow/io (for I/O related ops)\n",
      "If you depend on functionality not listed there, please file an issue.\n",
      "\n",
      "Populating the interactive namespace from numpy and matplotlib\n"
     ]
    }
   ],
   "source": [
    "import numpy as np\n",
    "import matplotlib.pyplot as plt\n",
    "from lifecycle_rl import Lifecycle, DynProgLifecycle\n",
    "\n",
    "%matplotlib inline\n",
    "%pylab inline\n",
    "\n",
    "# varoitukset piiloon (Stable baseline ei ole vielä Tensorflow 2.0-yhteensopiva, ja Tensorflow 1.5 valittaa paljon)\n",
    "import warnings\n",
    "warnings.filterwarnings('ignore')"
   ]
  },
  {
   "cell_type": "markdown",
   "metadata": {},
   "source": [
    "# Dynaaminen ohjelmointi\n",
    "\n",
    "Ajetaan elämänkaarimallia sekä dynaamisella ohjelmoinnilla. Verrataan tuloksia, jotta näemme, miten hyvin RL toimii. Ajoajat eivät ole kovin vertailukelpoisia.\n",
    "\n",
    "Dynaaminen ohjelmointi-koodi toimii ainoastaan minimaalisen mallin kanssa."
   ]
  },
  {
   "cell_type": "code",
   "execution_count": null,
   "metadata": {
    "scrolled": false
   },
   "outputs": [
    {
     "name": "stdout",
     "output_type": "stream",
     "text": [
      "minimal model\n",
      "Optimizing behavior\n"
     ]
    },
    {
     "data": {
      "application/vnd.jupyter.widget-view+json": {
       "model_id": "db5545c2e12e4015b97781adfa26decb",
       "version_major": 2,
       "version_minor": 0
      },
      "text/plain": [
       "HBox(children=(IntProgress(value=0, description='Score', max=52, style=ProgressStyle(description_width='initia…"
      ]
     },
     "metadata": {},
     "output_type": "display_data"
    }
   ],
   "source": [
    "cc3=DynProgLifecycle(env='unemployment-v0',minimal=True,timestep=1.0)\n",
    "cc3.train()\n",
    "cc3.simulate()\n",
    "cc3.plot_V(1)\n",
    "cc3.render()"
   ]
  },
  {
   "cell_type": "code",
   "execution_count": null,
   "metadata": {
    "scrolled": false
   },
   "outputs": [],
   "source": []
  },
  {
   "cell_type": "code",
   "execution_count": null,
   "metadata": {
    "scrolled": false
   },
   "outputs": [],
   "source": [
    "cc3=DynProgLifecycle(env='unemployment-v0',minimal=True,timestep=1.0)\n",
    "cc3.simulate(save='results/dp_minimal',pop=2_000)\n",
    "cc3.plot_actV(1)\n",
    "cc3.render()"
   ]
  },
  {
   "cell_type": "code",
   "execution_count": null,
   "metadata": {
    "scrolled": true
   },
   "outputs": [],
   "source": [
    "cc3.plot_actV(40,emp=0,time_in_state=1)\n",
    "cc3.plot_actV_diff(40)"
   ]
  },
  {
   "cell_type": "markdown",
   "metadata": {},
   "source": [
    "Deterministinen versio, jossa tilasiirtymät eivät ole stokastisia"
   ]
  },
  {
   "cell_type": "code",
   "execution_count": null,
   "metadata": {
    "scrolled": false
   },
   "outputs": [],
   "source": [
    "cc6=Lifecycle(env='unemployment-v0',minimal=True,timestep=1.0,deterministic=False)\n",
    "cc6.explain()\n",
    "#cc6.simulate(pop=2_000,deterministic=False,load='saved/best_mini',rlmodel='acktr')\n",
    "#cc6.train(train=True,steps=2_000_000,cont=True,rlmodel='acktr',save='saved/miniperus')\n",
    "cc6.run_results(debug=False,steps1=2000,steps2=2_000_000,pop=2_000,deterministic=False,\n",
    "                train=True,predict=True,batch1=1,batch2=10000,bestname='saved/best_mini',\n",
    "                plot=True,save='saved/minimalli',cont=True,start_from='saved/best_mini',\n",
    "                results='results/mini_simut_res',)\n",
    "#cc6.simulate(pop=2_000,deterministic=False)\n"
   ]
  },
  {
   "cell_type": "markdown",
   "metadata": {},
   "source": [
    "# Päätöksenteon vertailu\n",
    "\n",
    "Lasketaan vertailukohta RL-menetelmällä ACKTR ja katsotaan paljonko tulokset eroavat."
   ]
  },
  {
   "cell_type": "code",
   "execution_count": null,
   "metadata": {
    "scrolled": false
   },
   "outputs": [],
   "source": [
    "cc4.compare_with(cc3)\n",
    "cc5.compare_with(cc3)\n",
    "cc6.compare_with(cc3)"
   ]
  },
  {
   "cell_type": "code",
   "execution_count": null,
   "metadata": {
    "scrolled": true
   },
   "outputs": [],
   "source": []
  },
  {
   "cell_type": "markdown",
   "metadata": {},
   "source": [
    "Tehdään sama RL-menetelmällä Deep Q-learning (dqn)."
   ]
  },
  {
   "cell_type": "code",
   "execution_count": null,
   "metadata": {
    "scrolled": true
   },
   "outputs": [],
   "source": [
    "cc5=Lifecycle(env='unemployment-v0',minimal=True,timestep=1.0)\n",
    "cc5.train(steps=5_000_000,cont=True,rlmodel='dqn',save='miniperus')\n",
    "cc5.simulate(pop=2_000,rlmodel='dqn',load='miniperus',deterministic=True)"
   ]
  },
  {
   "cell_type": "code",
   "execution_count": null,
   "metadata": {
    "scrolled": true
   },
   "outputs": [],
   "source": [
    "cc7=Lifecycle(env='unemployment-v0',minimal=True,timestep=1.0)\n",
    "cc7.simulate(pop=2_000,deterministic=True,load='miniperus',rlmodel='dqn')"
   ]
  },
  {
   "cell_type": "markdown",
   "metadata": {},
   "source": [
    "Deterministinen aktion valinta."
   ]
  },
  {
   "cell_type": "code",
   "execution_count": null,
   "metadata": {
    "scrolled": true
   },
   "outputs": [],
   "source": [
    "cc6=Lifecycle(env='unemployment-v0',minimal=True,timestep=1.0)\n",
    "#cc6.train(steps=1_000_000,cont=False,rlmodel='acktr',save='miniperus')\n",
    "cc6.simulate(pop=10_000,deterministic=True,load='miniperus',rlmodel='acktr',save='results/acktr_tulokset_miniperus_det')\n",
    "#cc7=Lifecycle(env='unemployment-v0',minimal=True,timestep=1.0)\n",
    "#cc6.train(steps=1_000_000,cont=False,rlmodel='acktr',save='miniperus')\n",
    "#cc7.simulate(pop=2_000,deterministic=True,load='miniperus',rlmodel='dqn')"
   ]
  },
  {
   "cell_type": "code",
   "execution_count": null,
   "metadata": {
    "scrolled": true
   },
   "outputs": [],
   "source": [
    "cc0=Lifecycle(env='unemployment-v0',minimal=True,timestep=1.0)\n",
    "cc0.load_sim('results/acktr_tulokset_miniperus')\n",
    "cc1=Lifecycle(env='unemployment-v0',minimal=True,timestep=1.0)\n",
    "cc1.load_sim('results/acktr_tulokset_miniperus_det')\n",
    "cc1.render()\n",
    "cc2=Lifecycle(env='unemployment-v0',minimal=True,timestep=1.0)\n",
    "cc2.load_sim('results/dp_minimal')\n",
    "cc2.render()\n",
    "\n",
    "cc1.compare_with(cc0)\n",
    "cc1.compare_with(cc2)\n",
    "#cc5.compare_with(cc7)"
   ]
  },
  {
   "cell_type": "code",
   "execution_count": null,
   "metadata": {
    "scrolled": true
   },
   "outputs": [],
   "source": [
    "cc2.render()\n",
    "cc1.render()\n",
    "cc0.render()"
   ]
  },
  {
   "cell_type": "markdown",
   "metadata": {},
   "source": [
    "# Päätöksenteon vertailu\n",
    "\n",
    "Vertaillaan eri mallien tuloksia ja niiden eroja."
   ]
  },
  {
   "cell_type": "code",
   "execution_count": null,
   "metadata": {},
   "outputs": [],
   "source": [
    "cc4.compare_with(cc3)\n",
    "cc5.compare_with(cc3)"
   ]
  },
  {
   "cell_type": "code",
   "execution_count": null,
   "metadata": {},
   "outputs": [],
   "source": []
  },
  {
   "cell_type": "code",
   "execution_count": null,
   "metadata": {
    "scrolled": false
   },
   "outputs": [],
   "source": [
    "cc=DynProgLifecycle(env='unemployment-v0',minimal=True,timestep=1.0)\n",
    "ika=55\n",
    "cc.plot_actV(ika,emp=1,time_in_state=0)\n",
    "cc.RL_simulate_V(ika,rlmodel='acktr',emp=1,time_in_state=0,load='miniperus')\n",
    "cc.RL_simulate_V(ika,rlmodel='acktr',emp=0,time_in_state=1,load='miniperus')\n",
    "cc.RL_simulate_V(ika,rlmodel='acktr',emp=2,time_in_state=0,load='miniperus')"
   ]
  },
  {
   "cell_type": "markdown",
   "metadata": {},
   "source": [
    "# Jakaumat"
   ]
  },
  {
   "cell_type": "code",
   "execution_count": null,
   "metadata": {
    "scrolled": true
   },
   "outputs": [],
   "source": [
    "cc=Lifecycle(env='unemployment-v0',minimal=True,timestep=1.0)\n",
    "cc.run_results(debug=False,steps1=500_000,steps2=100_000,n=100,pop=5_000,deterministic=True)\n",
    "#cc.run_results(debug=False,steps1=10_000,steps2=10_000,n=10,train=False,predict=False)"
   ]
  },
  {
   "cell_type": "code",
   "execution_count": null,
   "metadata": {},
   "outputs": [],
   "source": [
    "cc=Lifecycle(env='unemployment-v0',minimal=True,timestep=1.0)\n",
    "cc.run_results(debug=False,steps1=10_000_000,steps2=100_000,n=100,pop=5_000,deterministic=False)"
   ]
  },
  {
   "cell_type": "code",
   "execution_count": null,
   "metadata": {},
   "outputs": [],
   "source": [
    "cc=Lifecycle(env='unemployment-v0',minimal=True,timestep=1.0)\n",
    "cc.plot_simstats('results/simut_res_stats')"
   ]
  },
  {
   "cell_type": "code",
   "execution_count": null,
   "metadata": {},
   "outputs": [],
   "source": []
  }
 ],
 "metadata": {
  "kernelspec": {
   "display_name": "Python 3",
   "language": "python",
   "name": "python3"
  },
  "language_info": {
   "codemirror_mode": {
    "name": "ipython",
    "version": 3
   },
   "file_extension": ".py",
   "mimetype": "text/x-python",
   "name": "python",
   "nbconvert_exporter": "python",
   "pygments_lexer": "ipython3",
   "version": "3.7.4"
  }
 },
 "nbformat": 4,
 "nbformat_minor": 2
}
