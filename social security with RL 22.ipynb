{
 "cells": [
  {
   "cell_type": "markdown",
   "metadata": {},
   "source": [
    "# Reinforced learning, työllistyminen ja Suomen sosiaaliturva"
   ]
  },
  {
   "cell_type": "markdown",
   "metadata": {},
   "source": [
    "Tässä tehdään laskelmat artikkelia varten. Käytössä on gym-ympäristö _unemployment-v1_ , johon on toteutettu yksityiskohtaisempi työttömyysturvamalli."
   ]
  },
  {
   "cell_type": "code",
   "execution_count": 1,
   "metadata": {},
   "outputs": [],
   "source": [
    "# for Colab, install fin_benefits and unemployment-gym from Github\n",
    "#!pip install -q git+https://github.com/ajtanskanen/benefits.git  \n",
    "#!pip install -q git+https://github.com/ajtanskanen/econogym.git\n",
    "#!pip install -q git+https://github.com/ajtanskanen/lifecycle-rl.git\n",
    "\n",
    "# and then restart kernel\n",
    "  \n",
    "  # For a specific version:\n",
    "#!pip install tensorflow==1.15\n",
    "#!pip install stable-baselines==2.8\n",
    "  \n",
    "# restart kernel after running pip's"
   ]
  },
  {
   "cell_type": "markdown",
   "metadata": {},
   "source": [
    "Then load all modules and set parameters for simulations."
   ]
  },
  {
   "cell_type": "code",
   "execution_count": 1,
   "metadata": {
    "scrolled": false
   },
   "outputs": [
    {
     "name": "stdout",
     "output_type": "stream",
     "text": [
      "WARNING:tensorflow:\n",
      "The TensorFlow contrib module will not be included in TensorFlow 2.0.\n",
      "For more information, please see:\n",
      "  * https://github.com/tensorflow/community/blob/master/rfcs/20180907-contrib-sunset.md\n",
      "  * https://github.com/tensorflow/addons\n",
      "  * https://github.com/tensorflow/io (for I/O related ops)\n",
      "If you depend on functionality not listed there, please file an issue.\n",
      "\n",
      "Populating the interactive namespace from numpy and matplotlib\n"
     ]
    }
   ],
   "source": [
    "import numpy as np\n",
    "import matplotlib.pyplot as plt\n",
    "from lifecycle_rl import Lifecycle\n",
    "\n",
    "%matplotlib inline\n",
    "%pylab inline\n",
    "\n",
    "# varoitukset piiloon (Stable baseline ei ole vielä Tensorflow 2.0-yhteensopiva, ja Tensorflow 1.15 valittaa paljon)\n",
    "# ei taida toimia piilottaminen\n",
    "import warnings\n",
    "warnings.filterwarnings('ignore')\n",
    "\n",
    "# parameters for the simulation\n",
    "# episode = 51 / 205 timesteps (1y/3m timestep)\n",
    "pop_size=10_000 # size of the population to be simulated\n",
    "size1=0 #0_000 # number of timesteps in phase 1 training (callback not used)\n",
    "size2=100_000_000 #0_000 # number of timesteps in phase 2 training (callback is used to save the best results)\n",
    "size3=10_000_000 # number of timesteps in phase 1 training (callback not used) for policy changes\n",
    "batch1=1 # size of minibatch in phase 1 as number of episodes\n",
    "batch2=9_00  # size of minibatch in phase 1 as number of episodes\n",
    "callback_minsteps=batch2 # how many episodes callback needs \n",
    "deterministic=False # use deterministic prediction (True) or probabilitic prediction (False)\n",
    "mortality=False # include mortality in computations\n",
    "randomness=True # include externally given, random state-transitions (parental leaves, disability, lay-offs) \n",
    "pinkslip=True # include lay-offs at 5 percent level each year\n",
    "rlmodel='acktr' # use ACKTR algorithm\n",
    "twostage=True # ajataan kahdessa vaiheessa vai ei\n",
    "perusmalli='best/malli_perus3'"
   ]
  },
  {
   "cell_type": "markdown",
   "metadata": {
    "scrolled": false
   },
   "source": [
    "# Nykymalli \n",
    "\n",
    "Lasketaan työllisyysasteet nykymallissa."
   ]
  },
  {
   "cell_type": "code",
   "execution_count": null,
   "metadata": {
    "scrolled": false
   },
   "outputs": [
    {
     "name": "stdout",
     "output_type": "stream",
     "text": [
      "No mortality included\n",
      "Parameters of lifecycle:\n",
      "timestep 0.25\n",
      "gamma 0.9793703613355593 (0.9200000000000003 per anno)\n",
      "min_age 20\n",
      "max_age 70\n",
      "min_retirementage 63.5\n",
      "max_retirementage 68.5\n",
      "ansiopvraha_kesto300 None\n",
      "ansiopvraha_kesto400 None\n",
      "ansiopvraha_toe None\n",
      "perustulo False\n",
      "karenssi_kesto 0.25\n",
      "mortality False\n",
      "randomness True\n",
      "include_putki None\n",
      "include_pinkslip True\n",
      "step 0.25\n",
      "\n",
      "train...\n",
      "phase 1\n",
      "batch 1 learning rate 0.25 scaled 0.25\n",
      "WARNING:tensorflow:From /Library/Frameworks/Python.framework/Versions/3.7/lib/python3.7/site-packages/stable_baselines/common/tf_util.py:57: The name tf.ConfigProto is deprecated. Please use tf.compat.v1.ConfigProto instead.\n",
      "\n",
      "WARNING:tensorflow:From /Library/Frameworks/Python.framework/Versions/3.7/lib/python3.7/site-packages/stable_baselines/common/tf_util.py:66: The name tf.Session is deprecated. Please use tf.compat.v1.Session instead.\n",
      "\n",
      "WARNING:tensorflow:From /Library/Frameworks/Python.framework/Versions/3.7/lib/python3.7/site-packages/stable_baselines/common/policies.py:115: The name tf.variable_scope is deprecated. Please use tf.compat.v1.variable_scope instead.\n",
      "\n",
      "WARNING:tensorflow:From /Library/Frameworks/Python.framework/Versions/3.7/lib/python3.7/site-packages/stable_baselines/common/input.py:25: The name tf.placeholder is deprecated. Please use tf.compat.v1.placeholder instead.\n",
      "\n",
      "WARNING:tensorflow:From /Library/Frameworks/Python.framework/Versions/3.7/lib/python3.7/site-packages/stable_baselines/common/policies.py:562: flatten (from tensorflow.python.layers.core) is deprecated and will be removed in a future version.\n",
      "Instructions for updating:\n",
      "Use keras.layers.flatten instead.\n",
      "WARNING:tensorflow:From /Library/Frameworks/Python.framework/Versions/3.7/lib/python3.7/site-packages/tensorflow_core/python/layers/core.py:332: Layer.apply (from tensorflow.python.keras.engine.base_layer) is deprecated and will be removed in a future version.\n",
      "Instructions for updating:\n",
      "Please use `layer.__call__` method instead.\n",
      "WARNING:tensorflow:From /Library/Frameworks/Python.framework/Versions/3.7/lib/python3.7/site-packages/stable_baselines/a2c/utils.py:156: The name tf.get_variable is deprecated. Please use tf.compat.v1.get_variable instead.\n",
      "\n",
      "WARNING:tensorflow:From /Library/Frameworks/Python.framework/Versions/3.7/lib/python3.7/site-packages/stable_baselines/common/distributions.py:323: The name tf.random_uniform is deprecated. Please use tf.random.uniform instead.\n",
      "\n",
      "WARNING:tensorflow:From /Library/Frameworks/Python.framework/Versions/3.7/lib/python3.7/site-packages/stable_baselines/common/distributions.py:324: The name tf.log is deprecated. Please use tf.math.log instead.\n",
      "\n",
      "WARNING:tensorflow:From /Library/Frameworks/Python.framework/Versions/3.7/lib/python3.7/site-packages/stable_baselines/common/tf_util.py:312: The name tf.get_collection is deprecated. Please use tf.compat.v1.get_collection instead.\n",
      "\n",
      "WARNING:tensorflow:From /Library/Frameworks/Python.framework/Versions/3.7/lib/python3.7/site-packages/stable_baselines/common/tf_util.py:312: The name tf.GraphKeys is deprecated. Please use tf.compat.v1.GraphKeys instead.\n",
      "\n",
      "WARNING:tensorflow:From /Library/Frameworks/Python.framework/Versions/3.7/lib/python3.7/site-packages/stable_baselines/acktr/acktr.py:158: The name tf.random_normal is deprecated. Please use tf.random.normal instead.\n",
      "\n",
      "WARNING:tensorflow:From /Library/Frameworks/Python.framework/Versions/3.7/lib/python3.7/site-packages/stable_baselines/acktr/acktr.py:163: The name tf.summary.scalar is deprecated. Please use tf.compat.v1.summary.scalar instead.\n",
      "\n",
      "WARNING:tensorflow:From /Library/Frameworks/Python.framework/Versions/3.7/lib/python3.7/site-packages/stable_baselines/acktr/acktr.py:178: The name tf.summary.histogram is deprecated. Please use tf.compat.v1.summary.histogram instead.\n",
      "\n",
      "WARNING:tensorflow:From /Library/Frameworks/Python.framework/Versions/3.7/lib/python3.7/site-packages/tensorflow_core/python/ops/math_grad.py:1375: where (from tensorflow.python.ops.array_ops) is deprecated and will be removed in a future version.\n",
      "Instructions for updating:\n",
      "Use tf.where in 2.0, which has the same broadcast rule as np.where\n",
      "WARNING:tensorflow:From /Library/Frameworks/Python.framework/Versions/3.7/lib/python3.7/site-packages/stable_baselines/acktr/kfac.py:97: The name tf.get_default_graph is deprecated. Please use tf.compat.v1.get_default_graph instead.\n",
      "\n",
      "WARNING:tensorflow:From /Library/Frameworks/Python.framework/Versions/3.7/lib/python3.7/site-packages/stable_baselines/acktr/kfac.py:293: The name tf.diag is deprecated. Please use tf.linalg.tensor_diag instead.\n",
      "\n",
      "WARNING:tensorflow:From /Library/Frameworks/Python.framework/Versions/3.7/lib/python3.7/site-packages/stable_baselines/acktr/kfac.py:541: The name tf.assign is deprecated. Please use tf.compat.v1.assign instead.\n",
      "\n",
      "WARNING:tensorflow:From /Library/Frameworks/Python.framework/Versions/3.7/lib/python3.7/site-packages/stable_baselines/acktr/kfac.py:543: The name tf.assign_add is deprecated. Please use tf.compat.v1.assign_add instead.\n",
      "\n",
      "WARNING:tensorflow:From /Library/Frameworks/Python.framework/Versions/3.7/lib/python3.7/site-packages/stable_baselines/acktr/acktr.py:203: The name tf.global_variables_initializer is deprecated. Please use tf.compat.v1.global_variables_initializer instead.\n",
      "\n",
      "WARNING:tensorflow:From /Library/Frameworks/Python.framework/Versions/3.7/lib/python3.7/site-packages/stable_baselines/acktr/acktr.py:205: The name tf.summary.merge_all is deprecated. Please use tf.compat.v1.summary.merge_all instead.\n",
      "\n",
      "training...\n",
      "WARNING:tensorflow:From /Library/Frameworks/Python.framework/Versions/3.7/lib/python3.7/site-packages/stable_baselines/common/base_class.py:1035: The name tf.summary.FileWriter is deprecated. Please use tf.compat.v1.summary.FileWriter instead.\n",
      "\n",
      "WARNING:tensorflow:From /Library/Frameworks/Python.framework/Versions/3.7/lib/python3.7/site-packages/stable_baselines/acktr/acktr.py:287: The name tf.global_variables is deprecated. Please use tf.compat.v1.global_variables instead.\n",
      "\n",
      "WARNING:tensorflow:From /Library/Frameworks/Python.framework/Versions/3.7/lib/python3.7/site-packages/stable_baselines/acktr/acktr.py:288: The name tf.is_variable_initialized is deprecated. Please use tf.compat.v1.is_variable_initialized instead.\n",
      "\n",
      "WARNING:tensorflow:From /Library/Frameworks/Python.framework/Versions/3.7/lib/python3.7/site-packages/stable_baselines/acktr/kfac.py:968: The name tf.train.MomentumOptimizer is deprecated. Please use tf.compat.v1.train.MomentumOptimizer instead.\n",
      "\n",
      "WARNING:tensorflow:From /Library/Frameworks/Python.framework/Versions/3.7/lib/python3.7/site-packages/stable_baselines/acktr/kfac.py:909: The name tf.mod is deprecated. Please use tf.math.mod instead.\n",
      "\n",
      "WARNING:tensorflow:From /Library/Frameworks/Python.framework/Versions/3.7/lib/python3.7/site-packages/stable_baselines/acktr/kfac.py:616: The name tf.self_adjoint_eig is deprecated. Please use tf.linalg.eigh instead.\n",
      "\n",
      "WARNING:tensorflow:From /Library/Frameworks/Python.framework/Versions/3.7/lib/python3.7/site-packages/stable_baselines/acktr/acktr.py:300: The name tf.variables_initializer is deprecated. Please use tf.compat.v1.variables_initializer instead.\n",
      "\n",
      "WARNING:tensorflow:From /Library/Frameworks/Python.framework/Versions/3.7/lib/python3.7/site-packages/stable_baselines/a2c/utils.py:581: The name tf.Summary is deprecated. Please use tf.compat.v1.Summary instead.\n",
      "\n",
      "---------------------------------\n",
      "| explained_variance | -0.00417 |\n",
      "| fps                | 1401     |\n",
      "| nupdates           | 1        |\n",
      "| policy_entropy     | 1.39     |\n",
      "| policy_loss        | 60.8     |\n",
      "| total_timesteps    | 0        |\n",
      "| value_loss         | 1.95e+03 |\n",
      "---------------------------------\n",
      "WARNING:tensorflow:From /Library/Frameworks/Python.framework/Versions/3.7/lib/python3.7/site-packages/stable_baselines/acktr/acktr.py:251: The name tf.RunOptions is deprecated. Please use tf.compat.v1.RunOptions instead.\n",
      "\n",
      "WARNING:tensorflow:From /Library/Frameworks/Python.framework/Versions/3.7/lib/python3.7/site-packages/stable_baselines/acktr/acktr.py:252: The name tf.RunMetadata is deprecated. Please use tf.compat.v1.RunMetadata instead.\n",
      "\n",
      "---------------------------------\n",
      "| explained_variance | 0.951    |\n",
      "| fps                | 2034     |\n",
      "| nupdates           | 1000     |\n",
      "| policy_entropy     | 0.819    |\n",
      "| policy_loss        | -0.514   |\n",
      "| total_timesteps    | 2446551  |\n",
      "| value_loss         | 0.888    |\n",
      "---------------------------------\n"
     ]
    },
    {
     "name": "stdout",
     "output_type": "stream",
     "text": [
      "---------------------------------\n",
      "| explained_variance | 0.947    |\n",
      "| fps                | 2050     |\n",
      "| nupdates           | 2000     |\n",
      "| policy_entropy     | 0.846    |\n",
      "| policy_loss        | -0.209   |\n",
      "| total_timesteps    | 4895551  |\n",
      "| value_loss         | 0.525    |\n",
      "---------------------------------\n",
      "---------------------------------\n",
      "| explained_variance | 0.963    |\n",
      "| fps                | 2055     |\n",
      "| nupdates           | 3000     |\n",
      "| policy_entropy     | 0.823    |\n",
      "| policy_loss        | 0.196    |\n",
      "| total_timesteps    | 7344551  |\n",
      "| value_loss         | 0.558    |\n",
      "---------------------------------\n",
      "---------------------------------\n",
      "| explained_variance | 0.973    |\n",
      "| fps                | 2052     |\n",
      "| nupdates           | 4000     |\n",
      "| policy_entropy     | 0.822    |\n",
      "| policy_loss        | -0.0948  |\n",
      "| total_timesteps    | 9793551  |\n",
      "| value_loss         | 0.498    |\n",
      "---------------------------------\n",
      "---------------------------------\n",
      "| explained_variance | 0.978    |\n",
      "| fps                | 1998     |\n",
      "| nupdates           | 5000     |\n",
      "| policy_entropy     | 0.761    |\n",
      "| policy_loss        | -0.156   |\n",
      "| total_timesteps    | 12242551 |\n",
      "| value_loss         | 0.287    |\n",
      "---------------------------------\n",
      "---------------------------------\n",
      "| explained_variance | 0.975    |\n",
      "| fps                | 1948     |\n",
      "| nupdates           | 6000     |\n",
      "| policy_entropy     | 0.798    |\n",
      "| policy_loss        | -0.0284  |\n",
      "| total_timesteps    | 14691551 |\n",
      "| value_loss         | 0.427    |\n",
      "---------------------------------\n"
     ]
    }
   ],
   "source": [
    "cc1=Lifecycle(env='unemployment-v1',minimal=False,mortality=mortality,perustulo=False,\n",
    "              randomness=randomness,pinkslip=pinkslip,plotdebug=False)\n",
    "cc1.explain()\n",
    "cc1.run_results(debug=False,steps1=size1,steps2=size2,pop=pop_size,deterministic=deterministic,\n",
    "                train=True,predict=True,batch1=batch1,batch2=batch2,\n",
<<<<<<< HEAD
    "                save=perusmalli,plot=True,cont=True,start_from=perusmalli,results='results/perus_results2',\n",
=======
    "                save=perusmalli,plot=True,cont=False,start_from=perusmalli,results='results/perus_results4',\n",
>>>>>>> 6133e6453d3febb1ccccdea1f770eb14a638d420
    "                callback_minsteps=callback_minsteps,rlmodel=rlmodel,twostage=twostage)"
   ]
  },
  {
   "cell_type": "code",
<<<<<<< HEAD
   "execution_count": null,
   "metadata": {
    "scrolled": false
   },
   "outputs": [],
=======
   "execution_count": 2,
   "metadata": {
    "scrolled": false
   },
   "outputs": [
    {
     "name": "stdout",
     "output_type": "stream",
     "text": [
      "No mortality included\n"
     ]
    },
    {
     "data": {
      "image/png": "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\n",
      "text/plain": [
       "<Figure size 432x288 with 1 Axes>"
      ]
     },
     "metadata": {
      "needs_background": "light"
     },
     "output_type": "display_data"
    },
    {
     "data": {
      "image/png": "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\n",
      "text/plain": [
       "<Figure size 432x288 with 1 Axes>"
      ]
     },
     "metadata": {
      "needs_background": "light"
     },
     "output_type": "display_data"
    },
    {
     "ename": "NameError",
     "evalue": "name 'ura_unemp' is not defined",
     "output_type": "error",
     "traceback": [
      "\u001b[0;31m---------------------------------------------------------------------------\u001b[0m",
      "\u001b[0;31mNameError\u001b[0m                                 Traceback (most recent call last)",
      "\u001b[0;32m<ipython-input-2-ca8cbb6ec75b>\u001b[0m in \u001b[0;36m<module>\u001b[0;34m\u001b[0m\n\u001b[1;32m      2\u001b[0m               randomness=randomness,pinkslip=pinkslip,plotdebug=False)\n\u001b[1;32m      3\u001b[0m \u001b[0;34m\u001b[0m\u001b[0m\n\u001b[0;32m----> 4\u001b[0;31m \u001b[0mcc1\u001b[0m\u001b[0;34m.\u001b[0m\u001b[0mrender\u001b[0m\u001b[0;34m(\u001b[0m\u001b[0mload\u001b[0m\u001b[0;34m=\u001b[0m\u001b[0;34m'results/perus_results2'\u001b[0m\u001b[0;34m)\u001b[0m\u001b[0;34m\u001b[0m\u001b[0;34m\u001b[0m\u001b[0m\n\u001b[0m",
      "\u001b[0;32m~/Documents/GitHub/lifecycle-rl/lifecycle_rl/lifecycle.py\u001b[0m in \u001b[0;36mrender\u001b[0;34m(self, load)\u001b[0m\n\u001b[1;32m    555\u001b[0m     \u001b[0;32mdef\u001b[0m \u001b[0mrender\u001b[0m\u001b[0;34m(\u001b[0m\u001b[0mself\u001b[0m\u001b[0;34m,\u001b[0m\u001b[0mload\u001b[0m\u001b[0;34m=\u001b[0m\u001b[0;32mNone\u001b[0m\u001b[0;34m)\u001b[0m\u001b[0;34m:\u001b[0m\u001b[0;34m\u001b[0m\u001b[0;34m\u001b[0m\u001b[0m\n\u001b[1;32m    556\u001b[0m         \u001b[0;32mif\u001b[0m \u001b[0mload\u001b[0m \u001b[0;32mis\u001b[0m \u001b[0;32mnot\u001b[0m \u001b[0;32mNone\u001b[0m\u001b[0;34m:\u001b[0m\u001b[0;34m\u001b[0m\u001b[0;34m\u001b[0m\u001b[0m\n\u001b[0;32m--> 557\u001b[0;31m             \u001b[0mself\u001b[0m\u001b[0;34m.\u001b[0m\u001b[0mepisodestats\u001b[0m\u001b[0;34m.\u001b[0m\u001b[0mrender\u001b[0m\u001b[0;34m(\u001b[0m\u001b[0mload\u001b[0m\u001b[0;34m=\u001b[0m\u001b[0mload\u001b[0m\u001b[0;34m)\u001b[0m\u001b[0;34m\u001b[0m\u001b[0;34m\u001b[0m\u001b[0m\n\u001b[0m\u001b[1;32m    558\u001b[0m         \u001b[0;32melse\u001b[0m\u001b[0;34m:\u001b[0m\u001b[0;34m\u001b[0m\u001b[0;34m\u001b[0m\u001b[0m\n\u001b[1;32m    559\u001b[0m             \u001b[0mself\u001b[0m\u001b[0;34m.\u001b[0m\u001b[0mepisodestats\u001b[0m\u001b[0;34m.\u001b[0m\u001b[0mrender\u001b[0m\u001b[0;34m(\u001b[0m\u001b[0;34m)\u001b[0m\u001b[0;34m\u001b[0m\u001b[0;34m\u001b[0m\u001b[0m\n",
      "\u001b[0;32m~/Documents/GitHub/lifecycle-rl/lifecycle_rl/episodestats.py\u001b[0m in \u001b[0;36mrender\u001b[0;34m(self, load)\u001b[0m\n\u001b[1;32m    491\u001b[0m \u001b[0;34m\u001b[0m\u001b[0m\n\u001b[1;32m    492\u001b[0m         \u001b[0;31m#self.plot_stats(5)\u001b[0m\u001b[0;34m\u001b[0m\u001b[0;34m\u001b[0m\u001b[0;34m\u001b[0m\u001b[0m\n\u001b[0;32m--> 493\u001b[0;31m         \u001b[0mself\u001b[0m\u001b[0;34m.\u001b[0m\u001b[0mplot_stats\u001b[0m\u001b[0;34m(\u001b[0m\u001b[0;34m)\u001b[0m\u001b[0;34m\u001b[0m\u001b[0;34m\u001b[0m\u001b[0m\n\u001b[0m\u001b[1;32m    494\u001b[0m         \u001b[0;31m#self.plot_reward()\u001b[0m\u001b[0;34m\u001b[0m\u001b[0;34m\u001b[0m\u001b[0;34m\u001b[0m\u001b[0m\n\u001b[1;32m    495\u001b[0m \u001b[0;34m\u001b[0m\u001b[0m\n",
      "\u001b[0;32m~/Documents/GitHub/lifecycle-rl/lifecycle_rl/episodestats.py\u001b[0m in \u001b[0;36mplot_stats\u001b[0;34m(self)\u001b[0m\n\u001b[1;32m    385\u001b[0m \u001b[0;34m\u001b[0m\u001b[0m\n\u001b[1;32m    386\u001b[0m     \u001b[0;32mdef\u001b[0m \u001b[0mplot_stats\u001b[0m\u001b[0;34m(\u001b[0m\u001b[0mself\u001b[0m\u001b[0;34m)\u001b[0m\u001b[0;34m:\u001b[0m\u001b[0;34m\u001b[0m\u001b[0;34m\u001b[0m\u001b[0m\n\u001b[0;32m--> 387\u001b[0;31m         \u001b[0mself\u001b[0m\u001b[0;34m.\u001b[0m\u001b[0mplot_emp\u001b[0m\u001b[0;34m(\u001b[0m\u001b[0;34m)\u001b[0m\u001b[0;34m\u001b[0m\u001b[0;34m\u001b[0m\u001b[0m\n\u001b[0m\u001b[1;32m    388\u001b[0m         \u001b[0;32mif\u001b[0m \u001b[0;32mnot\u001b[0m \u001b[0mself\u001b[0m\u001b[0;34m.\u001b[0m\u001b[0mminimal\u001b[0m\u001b[0;34m:\u001b[0m\u001b[0;34m\u001b[0m\u001b[0;34m\u001b[0m\u001b[0m\n\u001b[1;32m    389\u001b[0m             \u001b[0mself\u001b[0m\u001b[0;34m.\u001b[0m\u001b[0mplot_group_emp\u001b[0m\u001b[0;34m(\u001b[0m\u001b[0;34m)\u001b[0m\u001b[0;34m\u001b[0m\u001b[0;34m\u001b[0m\u001b[0m\n",
      "\u001b[0;32m~/Documents/GitHub/lifecycle-rl/lifecycle_rl/episodestats.py\u001b[0m in \u001b[0;36mplot_emp\u001b[0;34m(self)\u001b[0m\n\u001b[1;32m    186\u001b[0m         \u001b[0max\u001b[0m\u001b[0;34m.\u001b[0m\u001b[0mset_xlabel\u001b[0m\u001b[0;34m(\u001b[0m\u001b[0;34m'Ikä [v]'\u001b[0m\u001b[0;34m)\u001b[0m\u001b[0;34m\u001b[0m\u001b[0;34m\u001b[0m\u001b[0m\n\u001b[1;32m    187\u001b[0m         \u001b[0max\u001b[0m\u001b[0;34m.\u001b[0m\u001b[0mset_ylabel\u001b[0m\u001b[0;34m(\u001b[0m\u001b[0;34m'Työttömyysaste'\u001b[0m\u001b[0;34m)\u001b[0m\u001b[0;34m\u001b[0m\u001b[0;34m\u001b[0m\u001b[0m\n\u001b[0;32m--> 188\u001b[0;31m         \u001b[0max\u001b[0m\u001b[0;34m.\u001b[0m\u001b[0mstackplot\u001b[0m\u001b[0;34m(\u001b[0m\u001b[0mx\u001b[0m\u001b[0;34m,\u001b[0m\u001b[0mura_unemp\u001b[0m\u001b[0;34m,\u001b[0m\u001b[0mcolors\u001b[0m\u001b[0;34m=\u001b[0m\u001b[0mpal\u001b[0m\u001b[0;34m)\u001b[0m\u001b[0;34m\u001b[0m\u001b[0;34m\u001b[0m\u001b[0m\n\u001b[0m\u001b[1;32m    189\u001b[0m         \u001b[0;31m#ax.plot(x,tyottomyysaste)\u001b[0m\u001b[0;34m\u001b[0m\u001b[0;34m\u001b[0m\u001b[0;34m\u001b[0m\u001b[0m\n\u001b[1;32m    190\u001b[0m         \u001b[0mplt\u001b[0m\u001b[0;34m.\u001b[0m\u001b[0mshow\u001b[0m\u001b[0;34m(\u001b[0m\u001b[0;34m)\u001b[0m\u001b[0;34m\u001b[0m\u001b[0;34m\u001b[0m\u001b[0m\n",
      "\u001b[0;31mNameError\u001b[0m: name 'ura_unemp' is not defined"
     ]
    },
    {
     "data": {
      "image/png": "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\n",
      "text/plain": [
       "<Figure size 432x288 with 1 Axes>"
      ]
     },
     "metadata": {
      "needs_background": "light"
     },
     "output_type": "display_data"
    }
   ],
>>>>>>> 6133e6453d3febb1ccccdea1f770eb14a638d420
   "source": [
    "cc1=Lifecycle(env='unemployment-v1',minimal=False,mortality=mortality,perustulo=False,\n",
    "              randomness=randomness,pinkslip=pinkslip,plotdebug=False)\n",
    "\n",
    "cc1.render(load='results/perus_result4')"
   ]
  },
  {
   "cell_type": "code",
   "execution_count": null,
   "metadata": {},
   "outputs": [],
   "source": []
  },
  {
   "cell_type": "markdown",
   "metadata": {},
   "source": [
    "# Työttömyysputken poisto\n",
    "\n",
    "Työttömyysputkelle meneminen on usein hyvin suosittua elinkaarimalleissa. Tarkastellaan millainen työllisyysvaikutus on putken poistamisella."
   ]
  },
  {
   "cell_type": "code",
   "execution_count": null,
   "metadata": {
    "scrolled": true
   },
   "outputs": [],
   "source": [
    "cc1_putki=Lifecycle(env='unemployment-v1',minimal=False,include_putki=False,mortality=mortality,\n",
    "                    perustulo=False,randomness=randomness)\n",
    "cc1_putki.run_results(debug=False,steps1=size1,steps2=size2,pop=pop_size,deterministic=deterministic,\n",
    "                      train=True,predict=True,batch1=batch1,batch2=batch2,save='best/malli_putki',\n",
    "                      plot=True,results='results/putki_results',start_from=perusmalli,cont=True,\n",
    "                      callback_minsteps=callback_minsteps,twostage=twostage)\n",
    "cc1_putki.render(load='results/putki_results')\n",
    "cc1_putki.compare_with(cc1)                    "
   ]
  },
  {
   "cell_type": "code",
   "execution_count": null,
   "metadata": {
    "scrolled": true
   },
   "outputs": [],
   "source": [
    "cc1_putki.render(load='results/putki_results')\n",
    "cc1_putki.compare_with(cc1) "
   ]
  },
  {
   "cell_type": "markdown",
   "metadata": {},
   "source": [
    "# Porrastettu työttömyysturva\n",
    "\n"
   ]
  },
  {
   "cell_type": "code",
   "execution_count": null,
   "metadata": {
    "scrolled": true
   },
   "outputs": [],
   "source": [
    "cc2_porras=Lifecycle(env='unemploymentSteps-v1',minimal=False,mortality=mortality,perustulo=False,\n",
    "              randomness=randomness)\n",
    "cc2_porras.run_results(debug=False,steps1=size3,steps2=size2,pop=pop_size,deterministic=deterministic,\n",
    "                train=True,predict=True,batch1=batch1,batch2=batch2,save='best/malli_steps',plot=True,\n",
    "                results='results/steps_results',start_from=perusmalli,cont=True,\n",
    "                callback_minsteps=callback_minsteps,twostage=twostage)\n",
    "cc2_porras.render(load='results/steps_results')\n"
   ]
  },
  {
   "cell_type": "code",
   "execution_count": null,
   "metadata": {},
   "outputs": [],
   "source": [
    "cc2_porras.compare_with(cc1)"
   ]
  },
  {
   "cell_type": "markdown",
   "metadata": {},
   "source": [
    "# EK:n malli\n",
    "\n",
    "Lasketaan vertailukelpoiset työllisyysasteet EK:n ehdottamalla mallilla. Mallissa on toteuttu muutoksia ansiosidonnaiseen työttömyysturvaan, asumistukeen, toimeentulotukeen ja verotukseen."
   ]
  },
  {
   "cell_type": "code",
   "execution_count": null,
   "metadata": {
    "scrolled": true
   },
   "outputs": [],
   "source": [
    "cc2=Lifecycle(env='unemploymentEK-v1',minimal=False,mortality=mortality,perustulo=False,\n",
    "              randomness=randomness)\n",
    "cc2.run_results(debug=False,steps1=size3,steps2=size2,pop=pop_size,deterministic=deterministic,\n",
    "                train=True,predict=True,batch1=batch1,batch2=batch2,save='best/malli_ek',plot=True,\n",
    "                results='results/ek_results',start_from=perusmalli,cont=True,\n",
    "                callback_minsteps=callback_minsteps,twostage=twostage)\n",
    "#cc2.render(load='results/ek_results')\n",
    "#cc2.load_sim(load='results/ek_results')"
   ]
  },
  {
   "cell_type": "code",
   "execution_count": null,
   "metadata": {
    "scrolled": true
   },
   "outputs": [],
   "source": [
    "cc2.compare_with(cc1)\n",
    "#print(cc1.episodestats.empstate/cc1.n_pop,cc2.episodestats.empstate/cc2.n_pop)\n",
    "#cc2.episodestats.load_sim('results/ek_res__best')\n",
    "#cc2.episodestats.render()"
   ]
  },
  {
   "cell_type": "markdown",
   "metadata": {
    "scrolled": false
   },
   "source": [
    "# Verifiointi\n",
    "\n",
    "Ajetaan sama simulaatio kaksi kertaa ja tarkastetaan että tulokset ovat sama. Tässä ideana on varmistaa, että satunnaisuus ei sotke tulosten arviointia."
   ]
  },
  {
   "cell_type": "markdown",
   "metadata": {},
   "source": [
    "# Työssäoloehdon pituus 12 kk\n",
    "\n",
    "Entä jos työssäoloehto olisikin 12 kuukautta pitkä nykyisen 6 kuukauden sijaan?"
   ]
  },
  {
   "cell_type": "code",
   "execution_count": null,
   "metadata": {
    "scrolled": true
   },
   "outputs": [],
   "source": [
    "cc1_toe=Lifecycle(env='unemployment-v1',minimal=False,ansiopvraha_toe=1.0,mortality=mortality,\n",
    "                  perustulo=False,randomness=randomness)\n",
    "cc1_toe.run_results(debug=False,steps1=size3,steps2=size2,pop=pop_size,deterministic=deterministic,\n",
    "                    train=True,predict=True,batch1=batch1,batch2=batch2,save='best/best_12kk',plot=True,\n",
    "                    results='results/12kk_results',start_from=perusmalli,cont=True,\n",
    "                callback_minsteps=callback_minsteps,twostage=twostage)\n",
    "cc1_toe.render(load='results/12kk_results')\n"
   ]
  },
  {
   "cell_type": "code",
   "execution_count": null,
   "metadata": {},
   "outputs": [],
   "source": [
    "cc1_toe.compare_with(cc1)"
   ]
  },
  {
   "cell_type": "markdown",
   "metadata": {},
   "source": [
    "# Ansiosidonnaisen päivärahan lyhennys 50 pv\n",
    "\n",
    "Tarkastellaan, miten työllisyyteen vaikuttaisi ansiosidonnaisen päivärahan lyhentäminen 50 päivällä. Tällöin alle kolmen vuoden työhistorialla ansiosidonnaisen päivärahan enimmäiskesto olisi 250 pv ja pidemmällä työhistorialla enimmäiskesto olisi 350 pv."
   ]
  },
  {
   "cell_type": "code",
   "execution_count": null,
   "metadata": {
    "scrolled": true
   },
   "outputs": [],
   "source": [
    "cc1_350=Lifecycle(env='unemployment-v1',minimal=False,ansiopvraha_kesto300=250,ansiopvraha_kesto400=350,\n",
    "                  mortality=mortality,perustulo=False,randomness=randomness)\n",
    "cc1_350.run_results(debug=False,steps1=size3,steps2=size2,pop=pop_size,deterministic=deterministic,\n",
    "                    train=True,predict=True,batch1=batch1,batch2=batch2,save='best/malli_50pv',plot=True,\n",
    "                    results='results/50pv_results',start_from=perusmalli,cont=True,\n",
    "                    callback_minsteps=callback_minsteps,twostage=twostage)\n",
    "cc1_350.render(load='results/50pv_results')\n",
    "cc1_350.compare_with(cc1)"
   ]
  },
  {
   "cell_type": "markdown",
   "metadata": {},
   "source": [
    "# Perustulo\n",
    "\n",
    "Alustava versio. Tulee muuttumaan, kun mukana koko mallli."
   ]
  },
  {
   "cell_type": "code",
   "execution_count": null,
   "metadata": {
    "scrolled": true
   },
   "outputs": [],
   "source": [
    "cc1_pt=Lifecycle(env='unemployment-v1',minimal=False,perustulo=True,mortality=mortality,\n",
    "                 randomness=randomness)\n",
    "cc1_pt.run_results(debug=False,steps1=size3,steps2=size2,pop=pop_size,deterministic=deterministic,\n",
    "                   train=True,predict=True,batch1=batch1,batch2=batch2,save='best/malli_pt',plot=True,\n",
    "                   results='results/perustulo_results',start_from=perusmalli,cont=True,\n",
    "                callback_minsteps=callback_minsteps,twostage=twostage)\n",
    "cc1_pt.render(load='results/perustulo_results')\n",
    "cc1_pt.compare_with(cc1)"
   ]
  },
  {
   "cell_type": "markdown",
   "metadata": {},
   "source": [
    "# 300 vs 400 päivän kesto ansiosidonnaisessa\n",
    "\n",
    "Mikä on alle kolmen vuoden työhistorian lyhyemmän (300 pv) ansiosidonnaisen päivärahan enimmäiskeston vaikutus työllisyyteen? Kokeillaan miten työllisyyteen vaikuttaisi sen pidentäminen 400 päivään."
   ]
  },
  {
   "cell_type": "code",
   "execution_count": null,
   "metadata": {
    "scrolled": false
   },
   "outputs": [],
   "source": [
    "cc1_400=Lifecycle(env='unemployment-v1',minimal=False,ansiopvraha_kesto300=400,mortality=mortality,\n",
    "                  perustulo=False,randomness=randomness)\n",
    "cc1_400.run_results(debug=False,steps1=size3,steps2=size2,pop=pop_size,deterministic=deterministic,\n",
    "                    train=True,predict=True,batch1=batch1,batch2=batch2,save='best/malli_300pv',plot=True,\n",
    "                    results='results/300pv_results',start_from=perusmalli,cont=True,\n",
    "                callback_minsteps=callback_minsteps,twostage=twostage)\n",
    "cc1_400.render(load='results/300pv_results')\n",
    "cc1_400.compare_with(cc1)"
   ]
  },
  {
   "cell_type": "code",
   "execution_count": null,
   "metadata": {},
   "outputs": [],
   "source": []
  }
 ],
 "metadata": {
  "kernelspec": {
   "display_name": "Python 3",
   "language": "python",
   "name": "python3"
  },
  "language_info": {
   "codemirror_mode": {
    "name": "ipython",
    "version": 3
   },
   "file_extension": ".py",
   "mimetype": "text/x-python",
   "name": "python",
   "nbconvert_exporter": "python",
   "pygments_lexer": "ipython3",
   "version": "3.7.4"
  }
 },
 "nbformat": 4,
 "nbformat_minor": 2
}
