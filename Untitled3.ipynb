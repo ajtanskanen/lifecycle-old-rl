{
 "cells": [
  {
   "cell_type": "markdown",
   "metadata": {},
   "source": [
    "# Työttömyysputken poisto\n",
    "\n",
    "Lasketaan ETK:n laskujen perusteella työttömyysputken poiston vaikutukset. ETK arvioi, että vuoden noston jälkeen lisäpäiväläisiä jäisi 2025 noin 7 tuhatta ja 2055 noin 19 tuhatta. Toisaalta ETK arvioi, että vuoden noston vähentää lisäpäiväläisiä 8 tuhatta 2025 ja 13 tuhatta 2055. Tällöin työllisten määrä kasvaisi 6 tuhatta 2025 ja 9 tuhatta 2055. Näillä tiedoilla saamme lisäpäivien poiston vaikutukseksi"
   ]
  },
  {
   "cell_type": "code",
   "execution_count": null,
   "metadata": {},
   "outputs": [],
   "source": [
    "# "
   ]
  }
 ],
 "metadata": {
  "kernelspec": {
   "display_name": "Python 3",
   "language": "python",
   "name": "python3"
  },
  "language_info": {
   "codemirror_mode": {
    "name": "ipython",
    "version": 3
   },
   "file_extension": ".py",
   "mimetype": "text/x-python",
   "name": "python",
   "nbconvert_exporter": "python",
   "pygments_lexer": "ipython3",
   "version": "3.7.4"
  }
 },
 "nbformat": 4,
 "nbformat_minor": 2
}
